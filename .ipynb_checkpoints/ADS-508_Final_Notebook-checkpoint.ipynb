{
 "cells": [
  {
   "cell_type": "markdown",
   "id": "c7aecc3a-fb92-43ff-86ab-344f646120a3",
   "metadata": {},
   "source": [
    "# Import Needed Packages"
   ]
  },
  {
   "cell_type": "code",
   "execution_count": 2,
   "id": "5d970136-2b3f-494a-80ba-29a29b31e6ba",
   "metadata": {
    "tags": []
   },
   "outputs": [
    {
     "name": "stdout",
     "output_type": "stream",
     "text": [
      "\u001b[33mWARNING: Running pip as the 'root' user can result in broken permissions and conflicting behaviour with the system package manager. It is recommended to use a virtual environment instead: https://pip.pypa.io/warnings/venv\u001b[0m\u001b[33m\n",
      "\u001b[0m"
     ]
    }
   ],
   "source": [
    "import calendar\n",
    "import pandas as pd\n",
    "import matplotlib.pyplot as plt\n",
    "import seaborn as sns\n",
    "import warnings\n",
    "warnings.filterwarnings(\"ignore\")\n",
    "\n",
    "import boto3\n",
    "import sagemaker\n",
    "from sagemaker import get_execution_role\n",
    "!pip install --disable-pip-version-check -q PyAthena==2.1.0\n",
    "from pyathena import connect"
   ]
  },
  {
   "cell_type": "markdown",
   "id": "d05e133d-1a41-45a6-a556-0010b9cb1ffb",
   "metadata": {},
   "source": [
    "# Connect to S3 Bucket"
   ]
  },
  {
   "cell_type": "code",
   "execution_count": 3,
   "id": "285fb3f3-23bb-4cc9-b5a6-a3528660151e",
   "metadata": {
    "tags": []
   },
   "outputs": [],
   "source": [
    "# Get execution permissions\n",
    "iam_role = get_execution_role()"
   ]
  },
  {
   "cell_type": "code",
   "execution_count": 4,
   "id": "13ce3b2a-a121-4f1b-94c5-5a5470aa5c3b",
   "metadata": {
    "tags": []
   },
   "outputs": [],
   "source": [
    "# Specify Bucket Name\n",
    "raw_data_bucket_name = \"ads-508-spring2023-team3\"\n",
    "\n",
    "# Set up session parameters\n",
    "session = boto3.session.Session()\n",
    "region = session.region_name\n",
    "sagemaker_session = sagemaker.Session()\n",
    "personal_bucket = sagemaker_session.default_bucket()\n",
    "\n",
    "# Establish an S3 connection\n",
    "s3 = boto3.Session().client(service_name=\"s3\", region_name=region)"
   ]
  },
  {
   "cell_type": "code",
   "execution_count": 5,
   "id": "5384b0d2-ba2d-443d-b2b8-f8e1089ec9ef",
   "metadata": {
    "tags": []
   },
   "outputs": [],
   "source": [
    "# Set path to buckets (raw data and new personal bucket)\n",
    "raw_data_path = 's3://{}'.format(raw_data_bucket_name)\n",
    "personal_s3 = \"s3://{}/london_data\".format(personal_bucket)"
   ]
  },
  {
   "cell_type": "code",
   "execution_count": 6,
   "id": "2e98dd39-8d6d-4209-a2cd-b580a7f36eeb",
   "metadata": {
    "tags": []
   },
   "outputs": [
    {
     "name": "stdout",
     "output_type": "stream",
     "text": [
      "Connected to bucket successfully!\n",
      "\n"
     ]
    }
   ],
   "source": [
    "# Check if connection to new personal s3 bucket was successfully established\n",
    "try:\n",
    "    bucket_contents = s3.list_objects(Bucket = personal_bucket)[\"Contents\"]\n",
    "    print(\"Connected to bucket successfully!\\n\")\n",
    "    #print(\"Files in S3 bucket:\")\n",
    "    #for i in bucket_contents:\n",
    "        #print(i[\"Key\"])\n",
    "except:\n",
    "    # If connection failed, print error message\n",
    "    print(\"##### ERROR #####\")\n",
    "    print(\"Could NOT connect to bucket: {} ({})\".format(raw_data_bucket_name, personal_bucket))"
   ]
  },
  {
   "cell_type": "code",
   "execution_count": 7,
   "id": "ce385cfd-a0b5-4486-ba5b-0b1172dfd4ec",
   "metadata": {
    "tags": []
   },
   "outputs": [],
   "source": [
    "# Create Unique Paths for Each CSV File\n",
    "hourly_market_data_path = personal_s3 + \"/market_data/Hourly_European_Market_Data.csv\"\n",
    "london_energy_path = personal_s3 + \"/energy_data/London_Energy.csv\"\n",
    "london_weather_path = personal_s3 + \"/weather_data/London_Weather_1979_2021.csv\""
   ]
  },
  {
   "cell_type": "markdown",
   "id": "8eef2fd1-1a17-437d-8929-0e9ac1281937",
   "metadata": {
    "tags": []
   },
   "source": [
    "Athena will later create an external table based on the files of a bucket. Because all three files will act as a table for querying, all the files will need a unique path/folder."
   ]
  },
  {
   "cell_type": "markdown",
   "id": "2c5bd87d-9f93-44b7-94d9-35cca0e64a89",
   "metadata": {},
   "source": [
    "# Copy Raw CSV Files to Personal S3 Bucket"
   ]
  },
  {
   "cell_type": "code",
   "execution_count": 8,
   "id": "b96e80d1-3b94-4f36-8c32-3bf5d34549c8",
   "metadata": {
    "tags": []
   },
   "outputs": [
    {
     "name": "stdout",
     "output_type": "stream",
     "text": [
      "copy: s3://ads-508-spring2023-team3/Hourly_European_Market_Data.csv to s3://sagemaker-us-east-1-510267762309/london_data/market_data/Hourly_European_Market_Data.csv/Hourly_European_Market_Data.csv\n",
      "copy: s3://ads-508-spring2023-team3/London_Energy.csv to s3://sagemaker-us-east-1-510267762309/london_data/energy_data/London_Energy.csv/London_Energy.csv\n",
      "copy: s3://ads-508-spring2023-team3/London_Weather_1979_2021.csv to s3://sagemaker-us-east-1-510267762309/london_data/weather_data/London_Weather_1979_2021.csv/London_Weather_1979_2021.csv\n"
     ]
    }
   ],
   "source": [
    "!aws s3 cp --recursive $raw_data_path/ $hourly_market_data_path/ --exclude \"*\" --include \"Hourly_European_Market_Data.csv\"\n",
    "!aws s3 cp --recursive $raw_data_path/ $london_energy_path/ --exclude \"*\" --include \"London_Energy.csv\"\n",
    "!aws s3 cp --recursive $raw_data_path/ $london_weather_path/ --exclude \"*\" --include \"London_Weather_1979_2021.csv\""
   ]
  },
  {
   "cell_type": "code",
   "execution_count": 9,
   "id": "20d2adc6-9174-453e-aae5-3ea9081fbbd4",
   "metadata": {
    "tags": []
   },
   "outputs": [
    {
     "name": "stdout",
     "output_type": "stream",
     "text": [
      "2023-03-16 20:04:01  105185070 Hourly_European_Market_Data.csv\n",
      "2023-03-16 20:04:04   95649585 London_Energy.csv\n",
      "2023-03-16 20:04:06     814426 London_Weather_1979_2021.csv\n"
     ]
    }
   ],
   "source": [
    "# Confirm that CSV files were copied to personal S3 bucket\n",
    "!aws s3 ls $hourly_market_data_path/\n",
    "!aws s3 ls $london_energy_path/\n",
    "!aws s3 ls $london_weather_path/"
   ]
  },
  {
   "cell_type": "markdown",
   "id": "2e3c9012-459d-4ad1-a48e-136727eab5a8",
   "metadata": {},
   "source": [
    "# Create Athena Database"
   ]
  },
  {
   "cell_type": "code",
   "execution_count": 10,
   "id": "33c10661-fbe1-4c56-8ecf-19a3a09cc765",
   "metadata": {
    "tags": []
   },
   "outputs": [],
   "source": [
    "database_name = \"london_data\""
   ]
  },
  {
   "cell_type": "code",
   "execution_count": 11,
   "id": "09e71ee9-19f2-4e92-8547-5e08bb844190",
   "metadata": {
    "tags": []
   },
   "outputs": [],
   "source": [
    "# Create a staging S3 directory - a temporary directory for querying\n",
    "stage_dir = \"s3://{}/athena/staging\".format(personal_bucket)"
   ]
  },
  {
   "cell_type": "code",
   "execution_count": 12,
   "id": "da29b63b-3135-49b3-8eb0-357494f7423b",
   "metadata": {
    "tags": []
   },
   "outputs": [
    {
     "name": "stdout",
     "output_type": "stream",
     "text": [
      "Connected to S3 staging directory!\n"
     ]
    }
   ],
   "source": [
    "# Connect to Staging Directory\n",
    "try:\n",
    "    pyathena_conn = connect(\n",
    "        region_name = region, \n",
    "        s3_staging_dir = stage_dir)\n",
    "    print(\"Connected to S3 staging directory!\")\n",
    "except:\n",
    "    print(\"##### ERROR #####\")\n",
    "    print(\"##### Could NOT connect to S3 staging directory #####\")"
   ]
  },
  {
   "cell_type": "code",
   "execution_count": 13,
   "id": "f89442fa-d3e0-466e-bb21-b60f2c82595c",
   "metadata": {
    "tags": []
   },
   "outputs": [
    {
     "name": "stdout",
     "output_type": "stream",
     "text": [
      "Database london_data succesfully created!\n",
      "  database_name\n",
      "0       default\n",
      "1        dsoaws\n",
      "2   london_data\n"
     ]
    }
   ],
   "source": [
    "# Create new Database - Print an error if there is a failure\n",
    "try:\n",
    "    sql_statement = \"CREATE DATABASE IF NOT EXISTS {}\".format(database_name)\n",
    "    pd.read_sql(sql_statement, pyathena_conn)\n",
    "    print(\"Database {} succesfully created!\".format(database_name))\n",
    "    sql_statement = \"SHOW DATABASES\"\n",
    "    df_show = pd.read_sql(sql_statement, pyathena_conn)\n",
    "    print(df_show.head(5))\n",
    "except:\n",
    "    print(\"##### ERROR #####\")\n",
    "    print(\"##### Could NOT create database #####\")\n"
   ]
  },
  {
   "cell_type": "markdown",
   "id": "65f2ecc5-220a-46d8-8bcf-bda909898397",
   "metadata": {},
   "source": [
    "## Create Tables from CSV files"
   ]
  },
  {
   "cell_type": "code",
   "execution_count": 14,
   "id": "419e68cf-420f-4001-8af0-9b8cdd311111",
   "metadata": {
    "tags": []
   },
   "outputs": [
    {
     "name": "stdout",
     "output_type": "stream",
     "text": [
      "Succesfully made market_data table\n"
     ]
    }
   ],
   "source": [
    "# SQL Create Table State from Hourly Market Data CSV\n",
    "table_name = \"hourly_european_market_data_csv\"\n",
    "path_to_data = personal_s3 + \"/market_data\"\n",
    "\n",
    "csv_table_statement = \"\"\"\n",
    "    CREATE EXTERNAL TABLE IF NOT EXISTS {}.{}(\n",
    "        Id int,\n",
    "        Fecha date,\n",
    "        Hora int,\n",
    "        Sistema\tstring,\n",
    "        Bandera\tstring,\n",
    "        Precio float,\n",
    "        Tipo_moneda\tstring,\n",
    "        Origen_dato\tstring,\n",
    "        Fecha_actualizacion\ttimestamp\n",
    "    )\n",
    "    ROW FORMAT DELIMITED FIELDS TERMINATED BY ','\n",
    "    LOCATION '{}'\n",
    "    TBLPROPERTIES ('skip.header.line.count'='1')\n",
    "    \"\"\".format(database_name, table_name, path_to_data)\n",
    "\n",
    "# Execute Create Table Statement\n",
    "pd.read_sql(csv_table_statement, pyathena_conn)\n",
    "print(\"Succesfully made market_data table\")"
   ]
  },
  {
   "cell_type": "code",
   "execution_count": 15,
   "id": "96a75893-ff4a-49c3-9a07-45b5dbd85c9e",
   "metadata": {
    "tags": []
   },
   "outputs": [
    {
     "name": "stdout",
     "output_type": "stream",
     "text": [
      "Successfully created energy_data table\n"
     ]
    }
   ],
   "source": [
    "# SQL Create Table State from Energy CSV\n",
    "table_name = \"london_weather_csv\"\n",
    "path_to_data = personal_s3 + \"/weather_data\"\n",
    "\n",
    "csv_table_statement = \"\"\"\n",
    "    CREATE EXTERNAL TABLE IF NOT EXISTS {}.{}(\n",
    "        LCLid string,\n",
    "        Date date,\n",
    "        Kwh float\n",
    "    )\n",
    "    ROW FORMAT DELIMITED FIELDS TERMINATED BY ','\n",
    "    LOCATION '{}'\n",
    "    TBLPROPERTIES ('skip.header.line.count'='1')\n",
    "    \"\"\".format(database_name, table_name, path_to_data)\n",
    "\n",
    "# Execute Create Table Statement\n",
    "pd.read_sql(csv_table_statement, pyathena_conn)\n",
    "print(\"Successfully created energy_data table\")"
   ]
  },
  {
   "cell_type": "code",
   "execution_count": 16,
   "id": "1bf186e8-bd1c-4cfd-8d1d-a4ae406c0455",
   "metadata": {
    "tags": []
   },
   "outputs": [
    {
     "name": "stdout",
     "output_type": "stream",
     "text": [
      "Successfully created weather_data table\n"
     ]
    }
   ],
   "source": [
    "# SQL Create Table State from Energy CSV\n",
    "table_name = \"london_energy_csv\"\n",
    "path_to_data = personal_s3 + \"/energy_data\"\n",
    "\n",
    "csv_table_statement = \"\"\"\n",
    "    CREATE EXTERNAL TABLE IF NOT EXISTS {}.{}(\n",
    "        Date string,\n",
    "        Cloud_cover float,\n",
    "        Sunshine float,\n",
    "        Global_radiation float,\n",
    "        Max_temp float,\n",
    "        Mean_temp float,\n",
    "        Min_temp float,\n",
    "        Precipitation float,\n",
    "        Pressure float,\n",
    "        Snow_depth float\n",
    "    )\n",
    "    ROW FORMAT DELIMITED FIELDS TERMINATED BY ','\n",
    "    LOCATION '{}'\n",
    "    TBLPROPERTIES ('skip.header.line.count'='1')\n",
    "    \"\"\".format(database_name, table_name, path_to_data)\n",
    "\n",
    "# Execute Create Table Statement\n",
    "pd.read_sql(csv_table_statement, pyathena_conn)\n",
    "print(\"Successfully created weather_data table\")"
   ]
  },
  {
   "cell_type": "code",
   "execution_count": 17,
   "id": "e91e38a5-d8a3-48bb-9fb8-cf1261b0e58d",
   "metadata": {
    "tags": []
   },
   "outputs": [
    {
     "data": {
      "text/html": [
       "<div>\n",
       "<style scoped>\n",
       "    .dataframe tbody tr th:only-of-type {\n",
       "        vertical-align: middle;\n",
       "    }\n",
       "\n",
       "    .dataframe tbody tr th {\n",
       "        vertical-align: top;\n",
       "    }\n",
       "\n",
       "    .dataframe thead th {\n",
       "        text-align: right;\n",
       "    }\n",
       "</style>\n",
       "<table border=\"1\" class=\"dataframe\">\n",
       "  <thead>\n",
       "    <tr style=\"text-align: right;\">\n",
       "      <th></th>\n",
       "      <th>tab_name</th>\n",
       "    </tr>\n",
       "  </thead>\n",
       "  <tbody>\n",
       "    <tr>\n",
       "      <th>0</th>\n",
       "      <td>hourly_european_market_data_csv</td>\n",
       "    </tr>\n",
       "    <tr>\n",
       "      <th>1</th>\n",
       "      <td>london_energy_csv</td>\n",
       "    </tr>\n",
       "    <tr>\n",
       "      <th>2</th>\n",
       "      <td>london_weather_csv</td>\n",
       "    </tr>\n",
       "  </tbody>\n",
       "</table>\n",
       "</div>"
      ],
      "text/plain": [
       "                          tab_name\n",
       "0  hourly_european_market_data_csv\n",
       "1                london_energy_csv\n",
       "2               london_weather_csv"
      ]
     },
     "execution_count": 17,
     "metadata": {},
     "output_type": "execute_result"
    }
   ],
   "source": [
    "# Show Created Tables\n",
    "statement = \"SHOW TABLES in {}\".format(database_name)\n",
    "\n",
    "df_show = pd.read_sql(statement, pyathena_conn)\n",
    "df_show.head(5)"
   ]
  },
  {
   "cell_type": "code",
   "execution_count": 18,
   "id": "1aebddb4-6986-42d6-80ce-b71bf90b1f38",
   "metadata": {
    "tags": []
   },
   "outputs": [
    {
     "data": {
      "text/html": [
       "<div>\n",
       "<style scoped>\n",
       "    .dataframe tbody tr th:only-of-type {\n",
       "        vertical-align: middle;\n",
       "    }\n",
       "\n",
       "    .dataframe tbody tr th {\n",
       "        vertical-align: top;\n",
       "    }\n",
       "\n",
       "    .dataframe thead th {\n",
       "        text-align: right;\n",
       "    }\n",
       "</style>\n",
       "<table border=\"1\" class=\"dataframe\">\n",
       "  <thead>\n",
       "    <tr style=\"text-align: right;\">\n",
       "      <th></th>\n",
       "      <th>_col0</th>\n",
       "    </tr>\n",
       "  </thead>\n",
       "  <tbody>\n",
       "    <tr>\n",
       "      <th>0</th>\n",
       "      <td>1831555</td>\n",
       "    </tr>\n",
       "  </tbody>\n",
       "</table>\n",
       "</div>"
      ],
      "text/plain": [
       "     _col0\n",
       "0  1831555"
      ]
     },
     "execution_count": 18,
     "metadata": {},
     "output_type": "execute_result"
    }
   ],
   "source": [
    "# Count rows to ensure that all rows were added to created tables\n",
    "query = \"\"\"\n",
    "    SELECT COUNT(1)\n",
    "    FROM {}.{}\n",
    "    \"\"\".format(database_name, \"hourly_european_market_data_csv\")\n",
    "\n",
    "pd.read_sql(query, pyathena_conn)"
   ]
  },
  {
   "cell_type": "code",
   "execution_count": 19,
   "id": "c5de8527-9593-4a7c-b6e2-1b29921df37b",
   "metadata": {
    "tags": []
   },
   "outputs": [
    {
     "data": {
      "text/html": [
       "<div>\n",
       "<style scoped>\n",
       "    .dataframe tbody tr th:only-of-type {\n",
       "        vertical-align: middle;\n",
       "    }\n",
       "\n",
       "    .dataframe tbody tr th {\n",
       "        vertical-align: top;\n",
       "    }\n",
       "\n",
       "    .dataframe thead th {\n",
       "        text-align: right;\n",
       "    }\n",
       "</style>\n",
       "<table border=\"1\" class=\"dataframe\">\n",
       "  <thead>\n",
       "    <tr style=\"text-align: right;\">\n",
       "      <th></th>\n",
       "      <th>_col0</th>\n",
       "    </tr>\n",
       "  </thead>\n",
       "  <tbody>\n",
       "    <tr>\n",
       "      <th>0</th>\n",
       "      <td>3510433</td>\n",
       "    </tr>\n",
       "  </tbody>\n",
       "</table>\n",
       "</div>"
      ],
      "text/plain": [
       "     _col0\n",
       "0  3510433"
      ]
     },
     "execution_count": 19,
     "metadata": {},
     "output_type": "execute_result"
    }
   ],
   "source": [
    "query = \"\"\"\n",
    "    SELECT COUNT(1)\n",
    "    FROM {}.{}\n",
    "    \"\"\".format(database_name, \"london_energy_csv\")\n",
    "\n",
    "pd.read_sql(query, pyathena_conn)"
   ]
  },
  {
   "cell_type": "code",
   "execution_count": 20,
   "id": "8559c35c-b3c1-46f7-9417-0f8335aa923f",
   "metadata": {
    "tags": []
   },
   "outputs": [
    {
     "data": {
      "text/html": [
       "<div>\n",
       "<style scoped>\n",
       "    .dataframe tbody tr th:only-of-type {\n",
       "        vertical-align: middle;\n",
       "    }\n",
       "\n",
       "    .dataframe tbody tr th {\n",
       "        vertical-align: top;\n",
       "    }\n",
       "\n",
       "    .dataframe thead th {\n",
       "        text-align: right;\n",
       "    }\n",
       "</style>\n",
       "<table border=\"1\" class=\"dataframe\">\n",
       "  <thead>\n",
       "    <tr style=\"text-align: right;\">\n",
       "      <th></th>\n",
       "      <th>_col0</th>\n",
       "    </tr>\n",
       "  </thead>\n",
       "  <tbody>\n",
       "    <tr>\n",
       "      <th>0</th>\n",
       "      <td>15341</td>\n",
       "    </tr>\n",
       "  </tbody>\n",
       "</table>\n",
       "</div>"
      ],
      "text/plain": [
       "   _col0\n",
       "0  15341"
      ]
     },
     "execution_count": 20,
     "metadata": {},
     "output_type": "execute_result"
    }
   ],
   "source": [
    "query = \"\"\"\n",
    "    SELECT COUNT(1)\n",
    "    FROM {}.{}\n",
    "    \"\"\".format(database_name, \"london_weather_csv\")\n",
    "\n",
    "pd.read_sql(query, pyathena_conn)"
   ]
  },
  {
   "cell_type": "markdown",
   "id": "d5bdd46a-36df-4e81-8d60-74839a406223",
   "metadata": {
    "tags": []
   },
   "source": [
    "# Data Exploration in SQL via PyAthena"
   ]
  },
  {
   "cell_type": "markdown",
   "id": "af0bdd88-7eaa-4727-81b5-1fd9584ca4e8",
   "metadata": {},
   "source": [
    "## Monthly Average Electricity Price"
   ]
  },
  {
   "cell_type": "code",
   "execution_count": 21,
   "id": "8a0995d7-4457-420b-ace0-3a07df84c76c",
   "metadata": {},
   "outputs": [
    {
     "data": {
      "text/html": [
       "<div>\n",
       "<style scoped>\n",
       "    .dataframe tbody tr th:only-of-type {\n",
       "        vertical-align: middle;\n",
       "    }\n",
       "\n",
       "    .dataframe tbody tr th {\n",
       "        vertical-align: top;\n",
       "    }\n",
       "\n",
       "    .dataframe thead th {\n",
       "        text-align: right;\n",
       "    }\n",
       "</style>\n",
       "<table border=\"1\" class=\"dataframe\">\n",
       "  <thead>\n",
       "    <tr style=\"text-align: right;\">\n",
       "      <th></th>\n",
       "      <th>Year</th>\n",
       "      <th>Month</th>\n",
       "      <th>Avg_Price</th>\n",
       "    </tr>\n",
       "  </thead>\n",
       "  <tbody>\n",
       "    <tr>\n",
       "      <th>0</th>\n",
       "      <td>2010</td>\n",
       "      <td>7</td>\n",
       "      <td>42.636627</td>\n",
       "    </tr>\n",
       "    <tr>\n",
       "      <th>1</th>\n",
       "      <td>2010</td>\n",
       "      <td>8</td>\n",
       "      <td>76.112564</td>\n",
       "    </tr>\n",
       "    <tr>\n",
       "      <th>2</th>\n",
       "      <td>2010</td>\n",
       "      <td>9</td>\n",
       "      <td>46.093450</td>\n",
       "    </tr>\n",
       "    <tr>\n",
       "      <th>3</th>\n",
       "      <td>2010</td>\n",
       "      <td>10</td>\n",
       "      <td>50.410633</td>\n",
       "    </tr>\n",
       "    <tr>\n",
       "      <th>4</th>\n",
       "      <td>2010</td>\n",
       "      <td>11</td>\n",
       "      <td>47.319530</td>\n",
       "    </tr>\n",
       "    <tr>\n",
       "      <th>5</th>\n",
       "      <td>2010</td>\n",
       "      <td>12</td>\n",
       "      <td>49.341072</td>\n",
       "    </tr>\n",
       "    <tr>\n",
       "      <th>6</th>\n",
       "      <td>2011</td>\n",
       "      <td>1</td>\n",
       "      <td>50.033813</td>\n",
       "    </tr>\n",
       "    <tr>\n",
       "      <th>7</th>\n",
       "      <td>2011</td>\n",
       "      <td>2</td>\n",
       "      <td>51.160927</td>\n",
       "    </tr>\n",
       "    <tr>\n",
       "      <th>8</th>\n",
       "      <td>2011</td>\n",
       "      <td>3</td>\n",
       "      <td>53.950410</td>\n",
       "    </tr>\n",
       "    <tr>\n",
       "      <th>9</th>\n",
       "      <td>2011</td>\n",
       "      <td>4</td>\n",
       "      <td>52.013780</td>\n",
       "    </tr>\n",
       "  </tbody>\n",
       "</table>\n",
       "</div>"
      ],
      "text/plain": [
       "   Year  Month  Avg_Price\n",
       "0  2010      7  42.636627\n",
       "1  2010      8  76.112564\n",
       "2  2010      9  46.093450\n",
       "3  2010     10  50.410633\n",
       "4  2010     11  47.319530\n",
       "5  2010     12  49.341072\n",
       "6  2011      1  50.033813\n",
       "7  2011      2  51.160927\n",
       "8  2011      3  53.950410\n",
       "9  2011      4  52.013780"
      ]
     },
     "execution_count": 21,
     "metadata": {},
     "output_type": "execute_result"
    }
   ],
   "source": [
    "# Monthly average electricity price\n",
    "query = \"\"\"\n",
    "    SELECT YEAR(fecha) AS Year,\n",
    "        MONTH(fecha) AS Month,\n",
    "        AVG(precio) AS Avg_Price\n",
    "    FROM {}.hourly_european_market_data_csv\n",
    "    GROUP BY YEAR(fecha), MONTH(fecha)\n",
    "    ORDER BY YEAR(fecha), MONTH(fecha) asc;\n",
    "    \"\"\".format(database_name)\n",
    "\n",
    "monthly_avg_price = pd.read_sql(query, pyathena_conn)\n",
    "monthly_avg_price.head(10)"
   ]
  },
  {
   "cell_type": "code",
   "execution_count": 23,
   "id": "77f65dad-b19d-4144-9159-3c3a51461680",
   "metadata": {
    "tags": []
   },
   "outputs": [],
   "source": [
    "# Modify output\n",
    "avg_price = monthly_avg_price\n",
    "# Merge Year and month to create a date column\n",
    "avg_price[\"Date\"] = avg_price[\"Year\"].map(str) + '-' + avg_price[\"Month\"].map(str)\n",
    "\n",
    "# Create a Month_name column\n",
    "avg_price[\"Month_name\"] = avg_price[\"Month\"].apply(lambda x: calendar.month_abbr[x])"
   ]
  },
  {
   "cell_type": "code",
   "execution_count": 24,
   "id": "0e8a1ad5-9666-447b-89c7-11260d4a2af2",
   "metadata": {
    "tags": []
   },
   "outputs": [
    {
     "data": {
      "image/png": "[encoded data removed]",
      "text/plain": [
       "<Figure size 640x480 with 1 Axes>"
      ]
     },
     "metadata": {},
     "output_type": "display_data"
    }
   ],
   "source": [
    "# Plot of monthly average electricity price\n",
    "ax = plt.gca()\n",
    "sns.lineplot(\n",
    "    data = avg_price, \n",
    "    x = \"Date\", y = \"Avg_Price\")\n",
    "for index, label in enumerate(ax.get_xticklabels()):\n",
    "   if index % 12 == 0:\n",
    "      label.set_visible(True)\n",
    "   else:\n",
    "      label.set_visible(False)\n",
    "plt.xticks(rotation=45)\n",
    "plt.ylabel(\"Average Price\")\n",
    "plt.title(\"Average Monthly Electricity Price (July 2010 - Jan. 2022)\")\n",
    "plt.show()"
   ]
  },
  {
   "cell_type": "markdown",
   "id": "45336dcc-cd1c-4bd7-8513-3e14fccfae27",
   "metadata": {},
   "source": [
    "There was a large spike in the monthly average electricity price in late 2020, most likely due to increased usage by customers."
   ]
  },
  {
   "cell_type": "code",
   "execution_count": 25,
   "id": "6eb0de2d-97d1-4abf-8a22-e6c97606314b",
   "metadata": {
    "tags": []
   },
   "outputs": [
    {
     "data": {
      "image/png": "[encoded data removed]",
      "text/plain": [
       "<Figure size 640x480 with 1 Axes>"
      ]
     },
     "metadata": {},
     "output_type": "display_data"
    }
   ],
   "source": [
    "# Plot Monthly Average Price of Electricity Across Years\n",
    "sns.lineplot(\n",
    "    data = avg_price,\n",
    "    x = \"Year\", y = \"Avg_Price\",\n",
    "    hue = \"Month_name\")\n",
    "plt.legend(bbox_to_anchor = (1.05, 1), loc = \"upper left\", borderaxespad = 0)\n",
    "plt.ylabel(\"Average Price\")\n",
    "plt.title(\"Average Price of Electricity (July 2010 - Jan. 2022)\")\n",
    "plt.show()"
   ]
  },
  {
   "cell_type": "markdown",
   "id": "9652428e-51a0-461a-bc50-9eb583a43823",
   "metadata": {},
   "source": [
    "By plotting each average monthly price as its own line, the sudden increase in price began in 2021 and persisted to the start of 2022."
   ]
  },
  {
   "cell_type": "markdown",
   "id": "7333fdb8-918d-4ad8-992c-fe82b1d19504",
   "metadata": {},
   "source": [
    "## Average Hourly Electricity Price"
   ]
  },
  {
   "cell_type": "code",
   "execution_count": 30,
   "id": "c50921fe-6bdb-4dd1-addf-fc918a4464a1",
   "metadata": {
    "tags": []
   },
   "outputs": [
    {
     "data": {
      "text/html": [
       "<div>\n",
       "<style scoped>\n",
       "    .dataframe tbody tr th:only-of-type {\n",
       "        vertical-align: middle;\n",
       "    }\n",
       "\n",
       "    .dataframe tbody tr th {\n",
       "        vertical-align: top;\n",
       "    }\n",
       "\n",
       "    .dataframe thead th {\n",
       "        text-align: right;\n",
       "    }\n",
       "</style>\n",
       "<table border=\"1\" class=\"dataframe\">\n",
       "  <thead>\n",
       "    <tr style=\"text-align: right;\">\n",
       "      <th></th>\n",
       "      <th>Year</th>\n",
       "      <th>Month</th>\n",
       "      <th>Hour</th>\n",
       "      <th>Avg_Price</th>\n",
       "    </tr>\n",
       "  </thead>\n",
       "  <tbody>\n",
       "    <tr>\n",
       "      <th>0</th>\n",
       "      <td>2010</td>\n",
       "      <td>7</td>\n",
       "      <td>1</td>\n",
       "      <td>34.444000</td>\n",
       "    </tr>\n",
       "    <tr>\n",
       "      <th>1</th>\n",
       "      <td>2010</td>\n",
       "      <td>7</td>\n",
       "      <td>2</td>\n",
       "      <td>30.008001</td>\n",
       "    </tr>\n",
       "    <tr>\n",
       "      <th>2</th>\n",
       "      <td>2010</td>\n",
       "      <td>7</td>\n",
       "      <td>3</td>\n",
       "      <td>28.882545</td>\n",
       "    </tr>\n",
       "    <tr>\n",
       "      <th>3</th>\n",
       "      <td>2010</td>\n",
       "      <td>7</td>\n",
       "      <td>4</td>\n",
       "      <td>25.865637</td>\n",
       "    </tr>\n",
       "    <tr>\n",
       "      <th>4</th>\n",
       "      <td>2010</td>\n",
       "      <td>7</td>\n",
       "      <td>5</td>\n",
       "      <td>26.308000</td>\n",
       "    </tr>\n",
       "    <tr>\n",
       "      <th>5</th>\n",
       "      <td>2010</td>\n",
       "      <td>7</td>\n",
       "      <td>6</td>\n",
       "      <td>30.040090</td>\n",
       "    </tr>\n",
       "    <tr>\n",
       "      <th>6</th>\n",
       "      <td>2010</td>\n",
       "      <td>7</td>\n",
       "      <td>7</td>\n",
       "      <td>36.611908</td>\n",
       "    </tr>\n",
       "    <tr>\n",
       "      <th>7</th>\n",
       "      <td>2010</td>\n",
       "      <td>7</td>\n",
       "      <td>8</td>\n",
       "      <td>44.018180</td>\n",
       "    </tr>\n",
       "    <tr>\n",
       "      <th>8</th>\n",
       "      <td>2010</td>\n",
       "      <td>7</td>\n",
       "      <td>9</td>\n",
       "      <td>43.738728</td>\n",
       "    </tr>\n",
       "    <tr>\n",
       "      <th>9</th>\n",
       "      <td>2010</td>\n",
       "      <td>7</td>\n",
       "      <td>10</td>\n",
       "      <td>46.889730</td>\n",
       "    </tr>\n",
       "  </tbody>\n",
       "</table>\n",
       "</div>"
      ],
      "text/plain": [
       "   Year  Month  Hour  Avg_Price\n",
       "0  2010      7     1  34.444000\n",
       "1  2010      7     2  30.008001\n",
       "2  2010      7     3  28.882545\n",
       "3  2010      7     4  25.865637\n",
       "4  2010      7     5  26.308000\n",
       "5  2010      7     6  30.040090\n",
       "6  2010      7     7  36.611908\n",
       "7  2010      7     8  44.018180\n",
       "8  2010      7     9  43.738728\n",
       "9  2010      7    10  46.889730"
      ]
     },
     "execution_count": 30,
     "metadata": {},
     "output_type": "execute_result"
    }
   ],
   "source": [
    "query = \"\"\"\n",
    "    SELECT YEAR(fecha) AS Year,\n",
    "        MONTH(fecha) AS Month,\n",
    "        hora AS Hour,\n",
    "        AVG(precio) AS Avg_Price\n",
    "    FROM {}.hourly_european_market_data_csv\n",
    "    GROUP BY 1, 2, 3\n",
    "    ORDER BY 1, 2, 3 asc;\n",
    "    \"\"\".format(database_name)\n",
    "\n",
    "avg_hourly_price_df = pd.read_sql(query, pyathena_conn)\n",
    "avg_hourly_price_df.head(10)"
   ]
  },
  {
   "cell_type": "code",
   "execution_count": 38,
   "id": "877f9840-4cc5-43af-bc7c-978f5a29519d",
   "metadata": {
    "tags": []
   },
   "outputs": [
    {
     "data": {
      "image/png": "[encoded data removed]",
      "text/plain": [
       "<Figure size 640x480 with 1 Axes>"
      ]
     },
     "metadata": {},
     "output_type": "display_data"
    }
   ],
   "source": [
    "# Plot the averaged hourly prices of electricity\n",
    "avg_hourly_price = avg_hourly_price_df.groupby([\"Hour\"]).mean(\"Avg_Price\")\n",
    "\n",
    "sns.lineplot(\n",
    "    data = avg_hourly_price,\n",
    "    x = avg_hourly_price.index, y = \"Avg_Price\")\n",
    "plt.ylabel(\"Average Price\")\n",
    "plt.title(\"Average Hourly Price of Electricity\")\n",
    "plt.show()"
   ]
  },
  {
   "cell_type": "markdown",
   "id": "bde6fe00-3ee5-4faf-86bc-0ef687ef92a2",
   "metadata": {},
   "source": [
    "- Ingest raw data to Athena and trim the data to all be within the same time frame\n",
    "- Export the data back out to S3"
   ]
  },
  {
   "cell_type": "markdown",
   "id": "1b8cd3c6-5eed-4f39-aab8-76b3d35c3013",
   "metadata": {},
   "source": [
    "# Release Resources"
   ]
  },
  {
   "cell_type": "code",
   "execution_count": 26,
   "id": "ab532186-793c-4004-94ed-a123f764fa3d",
   "metadata": {},
   "outputs": [
    {
     "data": {
      "text/html": [
       "\n",
       "<p><b>Shutting down your kernel for this notebook to release resources.</b></p>\n",
       "<button class=\"sm-command-button\" data-commandlinker-command=\"kernelmenu:shutdown\" style=\"display:none;\">Shutdown Kernel</button>\n",
       "        \n",
       "<script>\n",
       "try {\n",
       "    els = document.getElementsByClassName(\"sm-command-button\");\n",
       "    els[0].click();\n",
       "}\n",
       "catch(err) {\n",
       "    // NoOp\n",
       "}    \n",
       "</script>\n"
      ],
      "text/plain": [
       "<IPython.core.display.HTML object>"
      ]
     },
     "metadata": {},
     "output_type": "display_data"
    }
   ],
   "source": [
    "%%html\n",
    "\n",
    "<p><b>Shutting down your kernel for this notebook to release resources.</b></p>\n",
    "<button class=\"sm-command-button\" data-commandlinker-command=\"kernelmenu:shutdown\" style=\"display:none;\">Shutdown Kernel</button>\n",
    "        \n",
    "<script>\n",
    "try {\n",
    "    els = document.getElementsByClassName(\"sm-command-button\");\n",
    "    els[0].click();\n",
    "}\n",
    "catch(err) {\n",
    "    // NoOp\n",
    "}    \n",
    "</script>"
   ]
  },
  {
   "cell_type": "code",
   "execution_count": 27,
   "id": "27b22027-d336-4ceb-b567-227a72c5685f",
   "metadata": {
    "tags": []
   },
   "outputs": [
    {
     "data": {
      "application/javascript": [
       "\n",
       "try {\n",
       "    Jupyter.notebook.save_checkpoint();\n",
       "    Jupyter.notebook.session.delete();\n",
       "}\n",
       "catch(err) {\n",
       "    // NoOp\n",
       "}\n"
      ],
      "text/plain": [
       "<IPython.core.display.Javascript object>"
      ]
     },
     "metadata": {},
     "output_type": "display_data"
    }
   ],
   "source": [
    "%%javascript\n",
    "\n",
    "try {\n",
    "    Jupyter.notebook.save_checkpoint();\n",
    "    Jupyter.notebook.session.delete();\n",
    "}\n",
    "catch(err) {\n",
    "    // NoOp\n",
    "}"
   ]
  }
 ],
 "metadata": {
  "availableInstances": [
   {
    "_defaultOrder": 0,
    "_isFastLaunch": true,
    "category": "General purpose",
    "gpuNum": 0,
    "memoryGiB": 4,
    "name": "ml.t3.medium",
    "vcpuNum": 2
   },
   {
    "_defaultOrder": 1,
    "_isFastLaunch": false,
    "category": "General purpose",
    "gpuNum": 0,
    "memoryGiB": 8,
    "name": "ml.t3.large",
    "vcpuNum": 2
   },
   {
    "_defaultOrder": 2,
    "_isFastLaunch": false,
    "category": "General purpose",
    "gpuNum": 0,
    "memoryGiB": 16,
    "name": "ml.t3.xlarge",
    "vcpuNum": 4
   },
   {
    "_defaultOrder": 3,
    "_isFastLaunch": false,
    "category": "General purpose",
    "gpuNum": 0,
    "memoryGiB": 32,
    "name": "ml.t3.2xlarge",
    "vcpuNum": 8
   },
   {
    "_defaultOrder": 4,
    "_isFastLaunch": true,
    "category": "General purpose",
    "gpuNum": 0,
    "memoryGiB": 8,
    "name": "ml.m5.large",
    "vcpuNum": 2
   },
   {
    "_defaultOrder": 5,
    "_isFastLaunch": false,
    "category": "General purpose",
    "gpuNum": 0,
    "memoryGiB": 16,
    "name": "ml.m5.xlarge",
    "vcpuNum": 4
   },
   {
    "_defaultOrder": 6,
    "_isFastLaunch": false,
    "category": "General purpose",
    "gpuNum": 0,
    "memoryGiB": 32,
    "name": "ml.m5.2xlarge",
    "vcpuNum": 8
   },
   {
    "_defaultOrder": 7,
    "_isFastLaunch": false,
    "category": "General purpose",
    "gpuNum": 0,
    "memoryGiB": 64,
    "name": "ml.m5.4xlarge",
    "vcpuNum": 16
   },
   {
    "_defaultOrder": 8,
    "_isFastLaunch": false,
    "category": "General purpose",
    "gpuNum": 0,
    "memoryGiB": 128,
    "name": "ml.m5.8xlarge",
    "vcpuNum": 32
   },
   {
    "_defaultOrder": 9,
    "_isFastLaunch": false,
    "category": "General purpose",
    "gpuNum": 0,
    "memoryGiB": 192,
    "name": "ml.m5.12xlarge",
    "vcpuNum": 48
   },
   {
    "_defaultOrder": 10,
    "_isFastLaunch": false,
    "category": "General purpose",
    "gpuNum": 0,
    "memoryGiB": 256,
    "name": "ml.m5.16xlarge",
    "vcpuNum": 64
   },
   {
    "_defaultOrder": 11,
    "_isFastLaunch": false,
    "category": "General purpose",
    "gpuNum": 0,
    "memoryGiB": 384,
    "name": "ml.m5.24xlarge",
    "vcpuNum": 96
   },
   {
    "_defaultOrder": 12,
    "_isFastLaunch": false,
    "category": "General purpose",
    "gpuNum": 0,
    "memoryGiB": 8,
    "name": "ml.m5d.large",
    "vcpuNum": 2
   },
   {
    "_defaultOrder": 13,
    "_isFastLaunch": false,
    "category": "General purpose",
    "gpuNum": 0,
    "memoryGiB": 16,
    "name": "ml.m5d.xlarge",
    "vcpuNum": 4
   },
   {
    "_defaultOrder": 14,
    "_isFastLaunch": false,
    "category": "General purpose",
    "gpuNum": 0,
    "memoryGiB": 32,
    "name": "ml.m5d.2xlarge",
    "vcpuNum": 8
   },
   {
    "_defaultOrder": 15,
    "_isFastLaunch": false,
    "category": "General purpose",
    "gpuNum": 0,
    "memoryGiB": 64,
    "name": "ml.m5d.4xlarge",
    "vcpuNum": 16
   },
   {
    "_defaultOrder": 16,
    "_isFastLaunch": false,
    "category": "General purpose",
    "gpuNum": 0,
    "memoryGiB": 128,
    "name": "ml.m5d.8xlarge",
    "vcpuNum": 32
   },
   {
    "_defaultOrder": 17,
    "_isFastLaunch": false,
    "category": "General purpose",
    "gpuNum": 0,
    "memoryGiB": 192,
    "name": "ml.m5d.12xlarge",
    "vcpuNum": 48
   },
   {
    "_defaultOrder": 18,
    "_isFastLaunch": false,
    "category": "General purpose",
    "gpuNum": 0,
    "memoryGiB": 256,
    "name": "ml.m5d.16xlarge",
    "vcpuNum": 64
   },
   {
    "_defaultOrder": 19,
    "_isFastLaunch": false,
    "category": "General purpose",
    "gpuNum": 0,
    "memoryGiB": 384,
    "name": "ml.m5d.24xlarge",
    "vcpuNum": 96
   },
   {
    "_defaultOrder": 20,
    "_isFastLaunch": true,
    "category": "Compute optimized",
    "gpuNum": 0,
    "memoryGiB": 4,
    "name": "ml.c5.large",
    "vcpuNum": 2
   },
   {
    "_defaultOrder": 21,
    "_isFastLaunch": false,
    "category": "Compute optimized",
    "gpuNum": 0,
    "memoryGiB": 8,
    "name": "ml.c5.xlarge",
    "vcpuNum": 4
   },
   {
    "_defaultOrder": 22,
    "_isFastLaunch": false,
    "category": "Compute optimized",
    "gpuNum": 0,
    "memoryGiB": 16,
    "name": "ml.c5.2xlarge",
    "vcpuNum": 8
   },
   {
    "_defaultOrder": 23,
    "_isFastLaunch": false,
    "category": "Compute optimized",
    "gpuNum": 0,
    "memoryGiB": 32,
    "name": "ml.c5.4xlarge",
    "vcpuNum": 16
   },
   {
    "_defaultOrder": 24,
    "_isFastLaunch": false,
    "category": "Compute optimized",
    "gpuNum": 0,
    "memoryGiB": 72,
    "name": "ml.c5.9xlarge",
    "vcpuNum": 36
   },
   {
    "_defaultOrder": 25,
    "_isFastLaunch": false,
    "category": "Compute optimized",
    "gpuNum": 0,
    "memoryGiB": 96,
    "name": "ml.c5.12xlarge",
    "vcpuNum": 48
   },
   {
    "_defaultOrder": 26,
    "_isFastLaunch": false,
    "category": "Compute optimized",
    "gpuNum": 0,
    "memoryGiB": 144,
    "name": "ml.c5.18xlarge",
    "vcpuNum": 72
   },
   {
    "_defaultOrder": 27,
    "_isFastLaunch": false,
    "category": "Compute optimized",
    "gpuNum": 0,
    "memoryGiB": 192,
    "name": "ml.c5.24xlarge",
    "vcpuNum": 96
   },
   {
    "_defaultOrder": 28,
    "_isFastLaunch": true,
    "category": "Accelerated computing",
    "gpuNum": 1,
    "memoryGiB": 16,
    "name": "ml.g4dn.xlarge",
    "vcpuNum": 4
   },
   {
    "_defaultOrder": 29,
    "_isFastLaunch": false,
    "category": "Accelerated computing",
    "gpuNum": 1,
    "memoryGiB": 32,
    "name": "ml.g4dn.2xlarge",
    "vcpuNum": 8
   },
   {
    "_defaultOrder": 30,
    "_isFastLaunch": false,
    "category": "Accelerated computing",
    "gpuNum": 1,
    "memoryGiB": 64,
    "name": "ml.g4dn.4xlarge",
    "vcpuNum": 16
   },
   {
    "_defaultOrder": 31,
    "_isFastLaunch": false,
    "category": "Accelerated computing",
    "gpuNum": 1,
    "memoryGiB": 128,
    "name": "ml.g4dn.8xlarge",
    "vcpuNum": 32
   },
   {
    "_defaultOrder": 32,
    "_isFastLaunch": false,
    "category": "Accelerated computing",
    "gpuNum": 4,
    "memoryGiB": 192,
    "name": "ml.g4dn.12xlarge",
    "vcpuNum": 48
   },
   {
    "_defaultOrder": 33,
    "_isFastLaunch": false,
    "category": "Accelerated computing",
    "gpuNum": 1,
    "memoryGiB": 256,
    "name": "ml.g4dn.16xlarge",
    "vcpuNum": 64
   },
   {
    "_defaultOrder": 34,
    "_isFastLaunch": false,
    "category": "Accelerated computing",
    "gpuNum": 1,
    "memoryGiB": 61,
    "name": "ml.p3.2xlarge",
    "vcpuNum": 8
   },
   {
    "_defaultOrder": 35,
    "_isFastLaunch": false,
    "category": "Accelerated computing",
    "gpuNum": 4,
    "memoryGiB": 244,
    "name": "ml.p3.8xlarge",
    "vcpuNum": 32
   },
   {
    "_defaultOrder": 36,
    "_isFastLaunch": false,
    "category": "Accelerated computing",
    "gpuNum": 8,
    "memoryGiB": 488,
    "name": "ml.p3.16xlarge",
    "vcpuNum": 64
   },
   {
    "_defaultOrder": 37,
    "_isFastLaunch": false,
    "category": "Accelerated computing",
    "gpuNum": 8,
    "memoryGiB": 768,
    "name": "ml.p3dn.24xlarge",
    "vcpuNum": 96
   },
   {
    "_defaultOrder": 38,
    "_isFastLaunch": false,
    "category": "Memory Optimized",
    "gpuNum": 0,
    "memoryGiB": 16,
    "name": "ml.r5.large",
    "vcpuNum": 2
   },
   {
    "_defaultOrder": 39,
    "_isFastLaunch": false,
    "category": "Memory Optimized",
    "gpuNum": 0,
    "memoryGiB": 32,
    "name": "ml.r5.xlarge",
    "vcpuNum": 4
   },
   {
    "_defaultOrder": 40,
    "_isFastLaunch": false,
    "category": "Memory Optimized",
    "gpuNum": 0,
    "memoryGiB": 64,
    "name": "ml.r5.2xlarge",
    "vcpuNum": 8
   },
   {
    "_defaultOrder": 41,
    "_isFastLaunch": false,
    "category": "Memory Optimized",
    "gpuNum": 0,
    "memoryGiB": 128,
    "name": "ml.r5.4xlarge",
    "vcpuNum": 16
   },
   {
    "_defaultOrder": 42,
    "_isFastLaunch": false,
    "category": "Memory Optimized",
    "gpuNum": 0,
    "memoryGiB": 256,
    "name": "ml.r5.8xlarge",
    "vcpuNum": 32
   },
   {
    "_defaultOrder": 43,
    "_isFastLaunch": false,
    "category": "Memory Optimized",
    "gpuNum": 0,
    "memoryGiB": 384,
    "name": "ml.r5.12xlarge",
    "vcpuNum": 48
   },
   {
    "_defaultOrder": 44,
    "_isFastLaunch": false,
    "category": "Memory Optimized",
    "gpuNum": 0,
    "memoryGiB": 512,
    "name": "ml.r5.16xlarge",
    "vcpuNum": 64
   },
   {
    "_defaultOrder": 45,
    "_isFastLaunch": false,
    "category": "Memory Optimized",
    "gpuNum": 0,
    "memoryGiB": 768,
    "name": "ml.r5.24xlarge",
    "vcpuNum": 96
   },
   {
    "_defaultOrder": 46,
    "_isFastLaunch": false,
    "category": "Accelerated computing",
    "gpuNum": 1,
    "memoryGiB": 16,
    "name": "ml.g5.xlarge",
    "vcpuNum": 4
   },
   {
    "_defaultOrder": 47,
    "_isFastLaunch": false,
    "category": "Accelerated computing",
    "gpuNum": 1,
    "memoryGiB": 32,
    "name": "ml.g5.2xlarge",
    "vcpuNum": 8
   },
   {
    "_defaultOrder": 48,
    "_isFastLaunch": false,
    "category": "Accelerated computing",
    "gpuNum": 1,
    "memoryGiB": 64,
    "name": "ml.g5.4xlarge",
    "vcpuNum": 16
   },
   {
    "_defaultOrder": 49,
    "_isFastLaunch": false,
    "category": "Accelerated computing",
    "gpuNum": 1,
    "memoryGiB": 128,
    "name": "ml.g5.8xlarge",
    "vcpuNum": 32
   },
   {
    "_defaultOrder": 50,
    "_isFastLaunch": false,
    "category": "Accelerated computing",
    "gpuNum": 1,
    "memoryGiB": 256,
    "name": "ml.g5.16xlarge",
    "vcpuNum": 64
   },
   {
    "_defaultOrder": 51,
    "_isFastLaunch": false,
    "category": "Accelerated computing",
    "gpuNum": 4,
    "memoryGiB": 192,
    "name": "ml.g5.12xlarge",
    "vcpuNum": 48
   },
   {
    "_defaultOrder": 52,
    "_isFastLaunch": false,
    "category": "Accelerated computing",
    "gpuNum": 4,
    "memoryGiB": 384,
    "name": "ml.g5.24xlarge",
    "vcpuNum": 96
   },
   {
    "_defaultOrder": 53,
    "_isFastLaunch": false,
    "category": "Accelerated computing",
    "gpuNum": 8,
    "memoryGiB": 768,
    "name": "ml.g5.48xlarge",
    "vcpuNum": 192
   }
  ],
  "instance_type": "ml.t3.medium",
  "kernelspec": {
   "display_name": "Python 3 (Data Science)",
   "language": "python",
   "name": "python3__SAGEMAKER_INTERNAL__arn:aws:sagemaker:us-east-1:081325390199:image/datascience-1.0"
  },
  "language_info": {
   "codemirror_mode": {
    "name": "ipython",
    "version": 3
   },
   "file_extension": ".py",
   "mimetype": "text/x-python",
   "name": "python",
   "nbconvert_exporter": "python",
   "pygments_lexer": "ipython3",
   "version": "3.7.10"
  }
 },
 "nbformat": 4,
 "nbformat_minor": 5
}
