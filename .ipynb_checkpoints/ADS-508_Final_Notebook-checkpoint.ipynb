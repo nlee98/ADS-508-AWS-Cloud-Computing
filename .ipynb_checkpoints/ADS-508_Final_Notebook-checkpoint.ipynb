{
 "cells": [
  {
   "cell_type": "markdown",
   "id": "c7aecc3a-fb92-43ff-86ab-344f646120a3",
   "metadata": {},
   "source": [
    "# Import Needed Packages"
   ]
  },
  {
   "cell_type": "code",
   "execution_count": 93,
   "id": "5d970136-2b3f-494a-80ba-29a29b31e6ba",
   "metadata": {
    "tags": []
   },
   "outputs": [
    {
     "name": "stdout",
     "output_type": "stream",
     "text": [
      "\u001b[33mWARNING: Running pip as the 'root' user can result in broken permissions and conflicting behaviour with the system package manager. It is recommended to use a virtual environment instead: https://pip.pypa.io/warnings/venv\u001b[0m\u001b[33m\n",
      "\u001b[0m"
     ]
    }
   ],
   "source": [
    "import calendar\n",
    "import json\n",
    "import numpy as np\n",
    "import pandas as pd\n",
    "import matplotlib.pyplot as plt\n",
    "from sklearn.compose import ColumnTransformer\n",
    "from sklearn.preprocessing import MinMaxScaler, StandardScaler\n",
    "import seaborn as sns\n",
    "import warnings\n",
    "warnings.filterwarnings(\"ignore\")\n",
    "\n",
    "import boto3\n",
    "import sagemaker\n",
    "from sagemaker import get_execution_role\n",
    "from sagemaker.serializers import IdentitySerializer\n",
    "from sagemaker.tuner import IntegerParameter, CategoricalParameter\n",
    "from sagemaker.tuner import ContinuousParameter, HyperparameterTuner\n",
    "!pip install --disable-pip-version-check -q PyAthena==2.1.0\n",
    "from pyathena import connect"
   ]
  },
  {
   "cell_type": "markdown",
   "id": "d05e133d-1a41-45a6-a556-0010b9cb1ffb",
   "metadata": {},
   "source": [
    "# Connect to S3 Bucket"
   ]
  },
  {
   "cell_type": "code",
   "execution_count": 94,
   "id": "285fb3f3-23bb-4cc9-b5a6-a3528660151e",
   "metadata": {
    "tags": []
   },
   "outputs": [],
   "source": [
    "# Get execution permissions\n",
    "iam_role = get_execution_role()"
   ]
  },
  {
   "cell_type": "code",
   "execution_count": 95,
   "id": "13ce3b2a-a121-4f1b-94c5-5a5470aa5c3b",
   "metadata": {
    "tags": []
   },
   "outputs": [],
   "source": [
    "# Specify Bucket Name\n",
    "raw_data_bucket_name = \"ads-508-spring2023-team3\"\n",
    "\n",
    "# Set up session parameters\n",
    "session = boto3.session.Session()\n",
    "region = session.region_name\n",
    "sagemaker_session = sagemaker.Session()\n",
    "personal_bucket = sagemaker_session.default_bucket()\n",
    "\n",
    "# Establish an S3 connection\n",
    "s3 = boto3.Session().client(service_name=\"s3\", region_name=region)"
   ]
  },
  {
   "cell_type": "code",
   "execution_count": 96,
   "id": "5384b0d2-ba2d-443d-b2b8-f8e1089ec9ef",
   "metadata": {
    "tags": []
   },
   "outputs": [],
   "source": [
    "# Set path to buckets (raw data and new personal bucket)\n",
    "raw_data_path = 's3://{}'.format(raw_data_bucket_name)\n",
    "personal_s3 = \"s3://{}/london_data\".format(personal_bucket)"
   ]
  },
  {
   "cell_type": "code",
   "execution_count": 97,
   "id": "2e98dd39-8d6d-4209-a2cd-b580a7f36eeb",
   "metadata": {
    "tags": []
   },
   "outputs": [
    {
     "name": "stdout",
     "output_type": "stream",
     "text": [
      "Connected to bucket successfully!\n",
      "\n"
     ]
    }
   ],
   "source": [
    "# Check if connection to new personal s3 bucket was successfully established\n",
    "try:\n",
    "    bucket_contents = s3.list_objects(Bucket = personal_bucket)[\"Contents\"]\n",
    "    print(\"Connected to bucket successfully!\\n\")\n",
    "    #print(\"Files in S3 bucket:\")\n",
    "    #for i in bucket_contents:\n",
    "        #print(i[\"Key\"])\n",
    "except:\n",
    "    # If connection failed, print error message\n",
    "    print(\"##### ERROR #####\")\n",
    "    print(\"Could NOT connect to bucket: {} ({})\".format(\n",
    "        raw_data_bucket_name, personal_bucket))"
   ]
  },
  {
   "cell_type": "code",
   "execution_count": 98,
   "id": "ce385cfd-a0b5-4486-ba5b-0b1172dfd4ec",
   "metadata": {
    "tags": []
   },
   "outputs": [],
   "source": [
    "# Create Unique Paths for Each CSV File\n",
    "hourly_market_data_path = personal_s3 + \"/market_data/Hourly_European_Market_Data.csv\"\n",
    "london_energy_path = personal_s3 + \"/energy_data/London_Energy.csv\"\n",
    "london_weather_path = personal_s3 + \"/weather_data/London_Weather_1979_2021.csv\""
   ]
  },
  {
   "cell_type": "markdown",
   "id": "8eef2fd1-1a17-437d-8929-0e9ac1281937",
   "metadata": {
    "tags": []
   },
   "source": [
    "Athena will later create an external table based on the files of a bucket. Because all three files will act as a table for querying, all the files will need a unique path/folder."
   ]
  },
  {
   "cell_type": "markdown",
   "id": "2c5bd87d-9f93-44b7-94d9-35cca0e64a89",
   "metadata": {},
   "source": [
    "# Copy Raw CSV Files to Personal S3 Bucket"
   ]
  },
  {
   "cell_type": "code",
   "execution_count": 99,
   "id": "b96e80d1-3b94-4f36-8c32-3bf5d34549c8",
   "metadata": {
    "tags": []
   },
   "outputs": [
    {
     "name": "stdout",
     "output_type": "stream",
     "text": [
      "copy: s3://ads-508-spring2023-team3/Hourly_European_Market_Data.csv to s3://sagemaker-us-east-1-510267762309/london_data/market_data/Hourly_European_Market_Data.csv/Hourly_European_Market_Data.csv\n",
      "copy: s3://ads-508-spring2023-team3/London_Energy.csv to s3://sagemaker-us-east-1-510267762309/london_data/energy_data/London_Energy.csv/London_Energy.csv\n",
      "copy: s3://ads-508-spring2023-team3/London_Weather_1979_2021.csv to s3://sagemaker-us-east-1-510267762309/london_data/weather_data/London_Weather_1979_2021.csv/London_Weather_1979_2021.csv\n"
     ]
    }
   ],
   "source": [
    "!aws s3 cp --recursive $raw_data_path/ $hourly_market_data_path/ --exclude \"*\" --include \"Hourly_European_Market_Data.csv\"\n",
    "!aws s3 cp --recursive $raw_data_path/ $london_energy_path/ --exclude \"*\" --include \"London_Energy.csv\"\n",
    "!aws s3 cp --recursive $raw_data_path/ $london_weather_path/ --exclude \"*\" --include \"London_Weather_1979_2021.csv\""
   ]
  },
  {
   "cell_type": "code",
   "execution_count": 100,
   "id": "20d2adc6-9174-453e-aae5-3ea9081fbbd4",
   "metadata": {
    "tags": []
   },
   "outputs": [
    {
     "name": "stdout",
     "output_type": "stream",
     "text": [
      "2023-04-03 17:03:52  105185070 Hourly_European_Market_Data.csv\n",
      "2023-04-03 17:03:53   95649585 London_Energy.csv\n",
      "2023-04-03 17:03:55     814426 London_Weather_1979_2021.csv\n"
     ]
    }
   ],
   "source": [
    "# Confirm that CSV files were copied to personal S3 bucket\n",
    "!aws s3 ls $hourly_market_data_path/\n",
    "!aws s3 ls $london_energy_path/\n",
    "!aws s3 ls $london_weather_path/"
   ]
  },
  {
   "cell_type": "markdown",
   "id": "2e3c9012-459d-4ad1-a48e-136727eab5a8",
   "metadata": {},
   "source": [
    "# Create Athena Database"
   ]
  },
  {
   "cell_type": "code",
   "execution_count": 101,
   "id": "33c10661-fbe1-4c56-8ecf-19a3a09cc765",
   "metadata": {
    "tags": []
   },
   "outputs": [],
   "source": [
    "database_name = \"london_data\""
   ]
  },
  {
   "cell_type": "code",
   "execution_count": 102,
   "id": "09e71ee9-19f2-4e92-8547-5e08bb844190",
   "metadata": {
    "tags": []
   },
   "outputs": [],
   "source": [
    "# Create a staging S3 directory - a temporary directory for querying\n",
    "stage_dir = \"s3://{}/athena/staging\".format(personal_bucket)"
   ]
  },
  {
   "cell_type": "code",
   "execution_count": 103,
   "id": "da29b63b-3135-49b3-8eb0-357494f7423b",
   "metadata": {
    "tags": []
   },
   "outputs": [
    {
     "name": "stdout",
     "output_type": "stream",
     "text": [
      "Connected to S3 staging directory!\n"
     ]
    }
   ],
   "source": [
    "# Connect to Staging Directory\n",
    "try:\n",
    "    pyathena_conn = connect(\n",
    "        region_name = region, \n",
    "        s3_staging_dir = stage_dir)\n",
    "    print(\"Connected to S3 staging directory!\")\n",
    "except:\n",
    "    print(\"##### ERROR #####\")\n",
    "    print(\"##### Could NOT connect to S3 staging directory #####\")"
   ]
  },
  {
   "cell_type": "code",
   "execution_count": 104,
   "id": "f89442fa-d3e0-466e-bb21-b60f2c82595c",
   "metadata": {
    "tags": []
   },
   "outputs": [
    {
     "name": "stdout",
     "output_type": "stream",
     "text": [
      "Database london_data succesfully created!\n",
      "  database_name\n",
      "0       default\n",
      "1        dsoaws\n",
      "2   london_data\n"
     ]
    }
   ],
   "source": [
    "# Create new Database - Print an error if there is a failure\n",
    "try:\n",
    "    sql_statement = \"CREATE DATABASE IF NOT EXISTS {}\".format(database_name)\n",
    "    pd.read_sql(sql_statement, pyathena_conn)\n",
    "    print(\"Database {} succesfully created!\".format(database_name))\n",
    "    sql_statement = \"SHOW DATABASES\"\n",
    "    df_show = pd.read_sql(sql_statement, pyathena_conn)\n",
    "    print(df_show.head(5))\n",
    "except:\n",
    "    print(\"##### ERROR #####\")\n",
    "    print(\"##### Could NOT create database #####\")\n"
   ]
  },
  {
   "cell_type": "markdown",
   "id": "65f2ecc5-220a-46d8-8bcf-bda909898397",
   "metadata": {},
   "source": [
    "## Create Tables from CSV files"
   ]
  },
  {
   "cell_type": "code",
   "execution_count": 105,
   "id": "419e68cf-420f-4001-8af0-9b8cdd311111",
   "metadata": {
    "tags": []
   },
   "outputs": [
    {
     "name": "stdout",
     "output_type": "stream",
     "text": [
      "Succesfully made market_data table\n"
     ]
    }
   ],
   "source": [
    "# SQL Create Table from Hourly Market Data CSV\n",
    "table_name = \"hourly_european_market_data_csv\"\n",
    "path_to_data = personal_s3 + \"/market_data\"\n",
    "\n",
    "csv_table_statement = \"\"\"\n",
    "    CREATE EXTERNAL TABLE IF NOT EXISTS {}.{}(\n",
    "        Id int,\n",
    "        Fecha date,\n",
    "        Hora int,\n",
    "        Sistema\tstring,\n",
    "        Bandera\tstring,\n",
    "        Precio float,\n",
    "        Tipo_moneda\tstring,\n",
    "        Origen_dato\tstring,\n",
    "        Fecha_actualizacion\ttimestamp\n",
    "    )\n",
    "    ROW FORMAT DELIMITED FIELDS TERMINATED BY ','\n",
    "    LOCATION '{}'\n",
    "    TBLPROPERTIES ('skip.header.line.count'='1')\n",
    "    \"\"\".format(database_name, table_name, path_to_data)\n",
    "\n",
    "# Execute Create Table Statement\n",
    "pd.read_sql(csv_table_statement, pyathena_conn)\n",
    "print(\"Succesfully made market_data table\")"
   ]
  },
  {
   "cell_type": "code",
   "execution_count": 106,
   "id": "96a75893-ff4a-49c3-9a07-45b5dbd85c9e",
   "metadata": {
    "tags": []
   },
   "outputs": [
    {
     "name": "stdout",
     "output_type": "stream",
     "text": [
      "Successfully created energy_data table\n"
     ]
    }
   ],
   "source": [
    "# SQL Create Table from Energy CSV\n",
    "table_name = \"london_energy_csv\"\n",
    "path_to_data = personal_s3 + \"/energy_data\"\n",
    "\n",
    "csv_table_statement = \"\"\"\n",
    "    CREATE EXTERNAL TABLE IF NOT EXISTS {}.{}(\n",
    "        LCLid string,\n",
    "        Date date,\n",
    "        Kwh float\n",
    "    )\n",
    "    ROW FORMAT DELIMITED FIELDS TERMINATED BY ','\n",
    "    LOCATION '{}'\n",
    "    TBLPROPERTIES ('skip.header.line.count'='1')\n",
    "    \"\"\".format(database_name, table_name, path_to_data)\n",
    "\n",
    "# Execute Create Table Statement\n",
    "pd.read_sql(csv_table_statement, pyathena_conn)\n",
    "print(\"Successfully created energy_data table\")"
   ]
  },
  {
   "cell_type": "code",
   "execution_count": 107,
   "id": "1bf186e8-bd1c-4cfd-8d1d-a4ae406c0455",
   "metadata": {
    "tags": []
   },
   "outputs": [
    {
     "name": "stdout",
     "output_type": "stream",
     "text": [
      "Successfully created weather_data table\n"
     ]
    }
   ],
   "source": [
    "# SQL Create Table from Weather CSV\n",
    "table_name = \"london_weather_csv\"\n",
    "path_to_data = personal_s3 + \"/weather_data\"\n",
    "\n",
    "csv_table_statement = \"\"\"\n",
    "    CREATE EXTERNAL TABLE IF NOT EXISTS {}.{}(\n",
    "        Date string,\n",
    "        Cloud_cover float,\n",
    "        Sunshine float,\n",
    "        Global_radiation float,\n",
    "        Max_temp float,\n",
    "        Mean_temp float,\n",
    "        Min_temp float,\n",
    "        Precipitation float,\n",
    "        Pressure float,\n",
    "        Snow_depth float\n",
    "    )\n",
    "    ROW FORMAT DELIMITED FIELDS TERMINATED BY ','\n",
    "    LOCATION '{}'\n",
    "    TBLPROPERTIES ('skip.header.line.count'='1')\n",
    "    \"\"\".format(database_name, table_name, path_to_data)\n",
    "\n",
    "# Execute Create Table Statement\n",
    "pd.read_sql(csv_table_statement, pyathena_conn)\n",
    "print(\"Successfully created weather_data table\")"
   ]
  },
  {
   "cell_type": "markdown",
   "id": "fc3834f7-13e8-4625-a523-a7dac26a68ab",
   "metadata": {
    "tags": []
   },
   "source": [
    "_Note:_ The date in London_energy is formated as YYYYMMDD. It will have to be converted to the format (YYYY-MM-DD) for later joins."
   ]
  },
  {
   "cell_type": "code",
   "execution_count": 108,
   "id": "e91e38a5-d8a3-48bb-9fb8-cf1261b0e58d",
   "metadata": {
    "tags": []
   },
   "outputs": [
    {
     "data": {
      "text/html": [
       "<div>\n",
       "<style scoped>\n",
       "    .dataframe tbody tr th:only-of-type {\n",
       "        vertical-align: middle;\n",
       "    }\n",
       "\n",
       "    .dataframe tbody tr th {\n",
       "        vertical-align: top;\n",
       "    }\n",
       "\n",
       "    .dataframe thead th {\n",
       "        text-align: right;\n",
       "    }\n",
       "</style>\n",
       "<table border=\"1\" class=\"dataframe\">\n",
       "  <thead>\n",
       "    <tr style=\"text-align: right;\">\n",
       "      <th></th>\n",
       "      <th>tab_name</th>\n",
       "    </tr>\n",
       "  </thead>\n",
       "  <tbody>\n",
       "    <tr>\n",
       "      <th>0</th>\n",
       "      <td>hourly_european_market_data_csv</td>\n",
       "    </tr>\n",
       "    <tr>\n",
       "      <th>1</th>\n",
       "      <td>london_energy_csv</td>\n",
       "    </tr>\n",
       "    <tr>\n",
       "      <th>2</th>\n",
       "      <td>london_weather_csv</td>\n",
       "    </tr>\n",
       "  </tbody>\n",
       "</table>\n",
       "</div>"
      ],
      "text/plain": [
       "                          tab_name\n",
       "0  hourly_european_market_data_csv\n",
       "1                london_energy_csv\n",
       "2               london_weather_csv"
      ]
     },
     "execution_count": 108,
     "metadata": {},
     "output_type": "execute_result"
    }
   ],
   "source": [
    "# Show Created Tables\n",
    "statement = \"SHOW TABLES in {}\".format(database_name)\n",
    "\n",
    "df_show = pd.read_sql(statement, pyathena_conn)\n",
    "df_show.head(5)"
   ]
  },
  {
   "cell_type": "code",
   "execution_count": 109,
   "id": "1aebddb4-6986-42d6-80ce-b71bf90b1f38",
   "metadata": {
    "tags": []
   },
   "outputs": [
    {
     "data": {
      "text/html": [
       "<div>\n",
       "<style scoped>\n",
       "    .dataframe tbody tr th:only-of-type {\n",
       "        vertical-align: middle;\n",
       "    }\n",
       "\n",
       "    .dataframe tbody tr th {\n",
       "        vertical-align: top;\n",
       "    }\n",
       "\n",
       "    .dataframe thead th {\n",
       "        text-align: right;\n",
       "    }\n",
       "</style>\n",
       "<table border=\"1\" class=\"dataframe\">\n",
       "  <thead>\n",
       "    <tr style=\"text-align: right;\">\n",
       "      <th></th>\n",
       "      <th>id</th>\n",
       "      <th>fecha</th>\n",
       "      <th>hora</th>\n",
       "      <th>sistema</th>\n",
       "      <th>bandera</th>\n",
       "      <th>precio</th>\n",
       "      <th>tipo_moneda</th>\n",
       "      <th>origen_dato</th>\n",
       "      <th>fecha_actualizacion</th>\n",
       "    </tr>\n",
       "  </thead>\n",
       "  <tbody>\n",
       "    <tr>\n",
       "      <th>0</th>\n",
       "      <td>589846</td>\n",
       "      <td>2016-03-20</td>\n",
       "      <td>22</td>\n",
       "      <td>LV</td>\n",
       "      <td>0</td>\n",
       "      <td>30.20</td>\n",
       "      <td>1</td>\n",
       "      <td>2</td>\n",
       "      <td>2021-10-01 12:39:53</td>\n",
       "    </tr>\n",
       "    <tr>\n",
       "      <th>1</th>\n",
       "      <td>589847</td>\n",
       "      <td>2016-03-20</td>\n",
       "      <td>22</td>\n",
       "      <td>NO1</td>\n",
       "      <td>0</td>\n",
       "      <td>21.54</td>\n",
       "      <td>1</td>\n",
       "      <td>2</td>\n",
       "      <td>2021-10-01 12:39:53</td>\n",
       "    </tr>\n",
       "    <tr>\n",
       "      <th>2</th>\n",
       "      <td>589848</td>\n",
       "      <td>2016-03-20</td>\n",
       "      <td>22</td>\n",
       "      <td>NO2</td>\n",
       "      <td>0</td>\n",
       "      <td>21.54</td>\n",
       "      <td>1</td>\n",
       "      <td>2</td>\n",
       "      <td>2021-10-01 12:39:53</td>\n",
       "    </tr>\n",
       "    <tr>\n",
       "      <th>3</th>\n",
       "      <td>589849</td>\n",
       "      <td>2016-03-20</td>\n",
       "      <td>22</td>\n",
       "      <td>NO3</td>\n",
       "      <td>0</td>\n",
       "      <td>21.54</td>\n",
       "      <td>1</td>\n",
       "      <td>2</td>\n",
       "      <td>2021-10-01 12:39:53</td>\n",
       "    </tr>\n",
       "    <tr>\n",
       "      <th>4</th>\n",
       "      <td>589850</td>\n",
       "      <td>2016-03-20</td>\n",
       "      <td>22</td>\n",
       "      <td>NO4</td>\n",
       "      <td>0</td>\n",
       "      <td>21.54</td>\n",
       "      <td>1</td>\n",
       "      <td>2</td>\n",
       "      <td>2021-10-01 12:39:53</td>\n",
       "    </tr>\n",
       "  </tbody>\n",
       "</table>\n",
       "</div>"
      ],
      "text/plain": [
       "       id       fecha  hora sistema bandera  precio tipo_moneda origen_dato  \\\n",
       "0  589846  2016-03-20    22      LV       0   30.20           1           2   \n",
       "1  589847  2016-03-20    22     NO1       0   21.54           1           2   \n",
       "2  589848  2016-03-20    22     NO2       0   21.54           1           2   \n",
       "3  589849  2016-03-20    22     NO3       0   21.54           1           2   \n",
       "4  589850  2016-03-20    22     NO4       0   21.54           1           2   \n",
       "\n",
       "  fecha_actualizacion  \n",
       "0 2021-10-01 12:39:53  \n",
       "1 2021-10-01 12:39:53  \n",
       "2 2021-10-01 12:39:53  \n",
       "3 2021-10-01 12:39:53  \n",
       "4 2021-10-01 12:39:53  "
      ]
     },
     "execution_count": 109,
     "metadata": {},
     "output_type": "execute_result"
    }
   ],
   "source": [
    "# Show the first few rows to ensure that the data looks correct\n",
    "query = \"\"\"\n",
    "    SELECT *\n",
    "    FROM {}.{}\n",
    "    LIMIT 5\n",
    "    \"\"\".format(database_name, \"hourly_european_market_data_csv\")\n",
    "\n",
    "pd.read_sql(query, pyathena_conn)"
   ]
  },
  {
   "cell_type": "code",
   "execution_count": 110,
   "id": "c5de8527-9593-4a7c-b6e2-1b29921df37b",
   "metadata": {
    "tags": []
   },
   "outputs": [
    {
     "data": {
      "text/html": [
       "<div>\n",
       "<style scoped>\n",
       "    .dataframe tbody tr th:only-of-type {\n",
       "        vertical-align: middle;\n",
       "    }\n",
       "\n",
       "    .dataframe tbody tr th {\n",
       "        vertical-align: top;\n",
       "    }\n",
       "\n",
       "    .dataframe thead th {\n",
       "        text-align: right;\n",
       "    }\n",
       "</style>\n",
       "<table border=\"1\" class=\"dataframe\">\n",
       "  <thead>\n",
       "    <tr style=\"text-align: right;\">\n",
       "      <th></th>\n",
       "      <th>lclid</th>\n",
       "      <th>date</th>\n",
       "      <th>kwh</th>\n",
       "    </tr>\n",
       "  </thead>\n",
       "  <tbody>\n",
       "    <tr>\n",
       "      <th>0</th>\n",
       "      <td>MAC003839</td>\n",
       "      <td>2013-06-14</td>\n",
       "      <td>7.034</td>\n",
       "    </tr>\n",
       "    <tr>\n",
       "      <th>1</th>\n",
       "      <td>MAC003839</td>\n",
       "      <td>2013-06-15</td>\n",
       "      <td>6.203</td>\n",
       "    </tr>\n",
       "    <tr>\n",
       "      <th>2</th>\n",
       "      <td>MAC003839</td>\n",
       "      <td>2013-06-16</td>\n",
       "      <td>2.780</td>\n",
       "    </tr>\n",
       "    <tr>\n",
       "      <th>3</th>\n",
       "      <td>MAC003839</td>\n",
       "      <td>2013-06-17</td>\n",
       "      <td>6.583</td>\n",
       "    </tr>\n",
       "    <tr>\n",
       "      <th>4</th>\n",
       "      <td>MAC003839</td>\n",
       "      <td>2013-06-18</td>\n",
       "      <td>6.038</td>\n",
       "    </tr>\n",
       "  </tbody>\n",
       "</table>\n",
       "</div>"
      ],
      "text/plain": [
       "       lclid        date    kwh\n",
       "0  MAC003839  2013-06-14  7.034\n",
       "1  MAC003839  2013-06-15  6.203\n",
       "2  MAC003839  2013-06-16  2.780\n",
       "3  MAC003839  2013-06-17  6.583\n",
       "4  MAC003839  2013-06-18  6.038"
      ]
     },
     "execution_count": 110,
     "metadata": {},
     "output_type": "execute_result"
    }
   ],
   "source": [
    "query = \"\"\"\n",
    "    SELECT *\n",
    "    FROM {}.{}\n",
    "    LIMIT 5\n",
    "    \"\"\".format(database_name, \"london_energy_csv\")\n",
    "\n",
    "pd.read_sql(query, pyathena_conn)"
   ]
  },
  {
   "cell_type": "code",
   "execution_count": 111,
   "id": "8559c35c-b3c1-46f7-9417-0f8335aa923f",
   "metadata": {
    "tags": []
   },
   "outputs": [
    {
     "data": {
      "text/html": [
       "<div>\n",
       "<style scoped>\n",
       "    .dataframe tbody tr th:only-of-type {\n",
       "        vertical-align: middle;\n",
       "    }\n",
       "\n",
       "    .dataframe tbody tr th {\n",
       "        vertical-align: top;\n",
       "    }\n",
       "\n",
       "    .dataframe thead th {\n",
       "        text-align: right;\n",
       "    }\n",
       "</style>\n",
       "<table border=\"1\" class=\"dataframe\">\n",
       "  <thead>\n",
       "    <tr style=\"text-align: right;\">\n",
       "      <th></th>\n",
       "      <th>date</th>\n",
       "      <th>cloud_cover</th>\n",
       "      <th>sunshine</th>\n",
       "      <th>global_radiation</th>\n",
       "      <th>max_temp</th>\n",
       "      <th>mean_temp</th>\n",
       "      <th>min_temp</th>\n",
       "      <th>precipitation</th>\n",
       "      <th>pressure</th>\n",
       "      <th>snow_depth</th>\n",
       "    </tr>\n",
       "  </thead>\n",
       "  <tbody>\n",
       "    <tr>\n",
       "      <th>0</th>\n",
       "      <td>19790101</td>\n",
       "      <td>2.0</td>\n",
       "      <td>7.0</td>\n",
       "      <td>52.0</td>\n",
       "      <td>2.3</td>\n",
       "      <td>-4.1</td>\n",
       "      <td>-7.5</td>\n",
       "      <td>0.4</td>\n",
       "      <td>101900.0</td>\n",
       "      <td>9.0</td>\n",
       "    </tr>\n",
       "    <tr>\n",
       "      <th>1</th>\n",
       "      <td>19790102</td>\n",
       "      <td>6.0</td>\n",
       "      <td>1.7</td>\n",
       "      <td>27.0</td>\n",
       "      <td>1.6</td>\n",
       "      <td>-2.6</td>\n",
       "      <td>-7.5</td>\n",
       "      <td>0.0</td>\n",
       "      <td>102530.0</td>\n",
       "      <td>8.0</td>\n",
       "    </tr>\n",
       "    <tr>\n",
       "      <th>2</th>\n",
       "      <td>19790103</td>\n",
       "      <td>5.0</td>\n",
       "      <td>0.0</td>\n",
       "      <td>13.0</td>\n",
       "      <td>1.3</td>\n",
       "      <td>-2.8</td>\n",
       "      <td>-7.2</td>\n",
       "      <td>0.0</td>\n",
       "      <td>102050.0</td>\n",
       "      <td>4.0</td>\n",
       "    </tr>\n",
       "    <tr>\n",
       "      <th>3</th>\n",
       "      <td>19790104</td>\n",
       "      <td>8.0</td>\n",
       "      <td>0.0</td>\n",
       "      <td>13.0</td>\n",
       "      <td>-0.3</td>\n",
       "      <td>-2.6</td>\n",
       "      <td>-6.5</td>\n",
       "      <td>0.0</td>\n",
       "      <td>100840.0</td>\n",
       "      <td>2.0</td>\n",
       "    </tr>\n",
       "    <tr>\n",
       "      <th>4</th>\n",
       "      <td>19790105</td>\n",
       "      <td>6.0</td>\n",
       "      <td>2.0</td>\n",
       "      <td>29.0</td>\n",
       "      <td>5.6</td>\n",
       "      <td>-0.8</td>\n",
       "      <td>-1.4</td>\n",
       "      <td>0.0</td>\n",
       "      <td>102250.0</td>\n",
       "      <td>1.0</td>\n",
       "    </tr>\n",
       "  </tbody>\n",
       "</table>\n",
       "</div>"
      ],
      "text/plain": [
       "       date  cloud_cover  sunshine  global_radiation  max_temp  mean_temp  \\\n",
       "0  19790101          2.0       7.0              52.0       2.3       -4.1   \n",
       "1  19790102          6.0       1.7              27.0       1.6       -2.6   \n",
       "2  19790103          5.0       0.0              13.0       1.3       -2.8   \n",
       "3  19790104          8.0       0.0              13.0      -0.3       -2.6   \n",
       "4  19790105          6.0       2.0              29.0       5.6       -0.8   \n",
       "\n",
       "   min_temp  precipitation  pressure  snow_depth  \n",
       "0      -7.5            0.4  101900.0         9.0  \n",
       "1      -7.5            0.0  102530.0         8.0  \n",
       "2      -7.2            0.0  102050.0         4.0  \n",
       "3      -6.5            0.0  100840.0         2.0  \n",
       "4      -1.4            0.0  102250.0         1.0  "
      ]
     },
     "execution_count": 111,
     "metadata": {},
     "output_type": "execute_result"
    }
   ],
   "source": [
    "query = \"\"\"\n",
    "    SELECT *\n",
    "    FROM {}.{}\n",
    "    LIMIT 5\n",
    "    \"\"\".format(database_name, \"london_weather_csv\")\n",
    "\n",
    "pd.read_sql(query, pyathena_conn)"
   ]
  },
  {
   "cell_type": "markdown",
   "id": "d5bdd46a-36df-4e81-8d60-74839a406223",
   "metadata": {
    "tags": []
   },
   "source": [
    "# Data Exploration in SQL via PyAthena"
   ]
  },
  {
   "cell_type": "markdown",
   "id": "af0bdd88-7eaa-4727-81b5-1fd9584ca4e8",
   "metadata": {},
   "source": [
    "## Monthly Average Electricity Price"
   ]
  },
  {
   "cell_type": "code",
   "execution_count": 112,
   "id": "8a0995d7-4457-420b-ace0-3a07df84c76c",
   "metadata": {
    "tags": []
   },
   "outputs": [
    {
     "data": {
      "text/html": [
       "<div>\n",
       "<style scoped>\n",
       "    .dataframe tbody tr th:only-of-type {\n",
       "        vertical-align: middle;\n",
       "    }\n",
       "\n",
       "    .dataframe tbody tr th {\n",
       "        vertical-align: top;\n",
       "    }\n",
       "\n",
       "    .dataframe thead th {\n",
       "        text-align: right;\n",
       "    }\n",
       "</style>\n",
       "<table border=\"1\" class=\"dataframe\">\n",
       "  <thead>\n",
       "    <tr style=\"text-align: right;\">\n",
       "      <th></th>\n",
       "      <th>Year</th>\n",
       "      <th>Month</th>\n",
       "      <th>Avg_Price</th>\n",
       "    </tr>\n",
       "  </thead>\n",
       "  <tbody>\n",
       "    <tr>\n",
       "      <th>0</th>\n",
       "      <td>2010</td>\n",
       "      <td>7</td>\n",
       "      <td>42.636627</td>\n",
       "    </tr>\n",
       "    <tr>\n",
       "      <th>1</th>\n",
       "      <td>2010</td>\n",
       "      <td>8</td>\n",
       "      <td>76.112564</td>\n",
       "    </tr>\n",
       "    <tr>\n",
       "      <th>2</th>\n",
       "      <td>2010</td>\n",
       "      <td>9</td>\n",
       "      <td>46.093450</td>\n",
       "    </tr>\n",
       "    <tr>\n",
       "      <th>3</th>\n",
       "      <td>2010</td>\n",
       "      <td>10</td>\n",
       "      <td>50.410633</td>\n",
       "    </tr>\n",
       "    <tr>\n",
       "      <th>4</th>\n",
       "      <td>2010</td>\n",
       "      <td>11</td>\n",
       "      <td>47.319530</td>\n",
       "    </tr>\n",
       "    <tr>\n",
       "      <th>5</th>\n",
       "      <td>2010</td>\n",
       "      <td>12</td>\n",
       "      <td>49.341072</td>\n",
       "    </tr>\n",
       "    <tr>\n",
       "      <th>6</th>\n",
       "      <td>2011</td>\n",
       "      <td>1</td>\n",
       "      <td>50.033813</td>\n",
       "    </tr>\n",
       "    <tr>\n",
       "      <th>7</th>\n",
       "      <td>2011</td>\n",
       "      <td>2</td>\n",
       "      <td>51.160927</td>\n",
       "    </tr>\n",
       "    <tr>\n",
       "      <th>8</th>\n",
       "      <td>2011</td>\n",
       "      <td>3</td>\n",
       "      <td>53.950410</td>\n",
       "    </tr>\n",
       "    <tr>\n",
       "      <th>9</th>\n",
       "      <td>2011</td>\n",
       "      <td>4</td>\n",
       "      <td>52.013780</td>\n",
       "    </tr>\n",
       "  </tbody>\n",
       "</table>\n",
       "</div>"
      ],
      "text/plain": [
       "   Year  Month  Avg_Price\n",
       "0  2010      7  42.636627\n",
       "1  2010      8  76.112564\n",
       "2  2010      9  46.093450\n",
       "3  2010     10  50.410633\n",
       "4  2010     11  47.319530\n",
       "5  2010     12  49.341072\n",
       "6  2011      1  50.033813\n",
       "7  2011      2  51.160927\n",
       "8  2011      3  53.950410\n",
       "9  2011      4  52.013780"
      ]
     },
     "execution_count": 112,
     "metadata": {},
     "output_type": "execute_result"
    }
   ],
   "source": [
    "# Monthly average electricity price\n",
    "query = \"\"\"\n",
    "    SELECT YEAR(fecha) AS Year,\n",
    "        MONTH(fecha) AS Month,\n",
    "        AVG(precio) AS Avg_Price\n",
    "    FROM {}.hourly_european_market_data_csv\n",
    "    GROUP BY YEAR(fecha), MONTH(fecha)\n",
    "    ORDER BY YEAR(fecha), MONTH(fecha) asc;\n",
    "    \"\"\".format(database_name)\n",
    "\n",
    "monthly_avg_price = pd.read_sql(query, pyathena_conn)\n",
    "monthly_avg_price.head(10)"
   ]
  },
  {
   "cell_type": "code",
   "execution_count": 113,
   "id": "77f65dad-b19d-4144-9159-3c3a51461680",
   "metadata": {
    "tags": []
   },
   "outputs": [],
   "source": [
    "# Modify output\n",
    "avg_price = monthly_avg_price\n",
    "# Merge Year and month to create a date column\n",
    "avg_price[\"Date\"] = avg_price[\"Year\"].map(str) + '-' + avg_price[\"Month\"].map(str)\n",
    "\n",
    "# Create a Month_name column\n",
    "avg_price[\"Month_name\"] = avg_price[\"Month\"].apply(lambda x: calendar.month_abbr[x])"
   ]
  },
  {
   "cell_type": "code",
   "execution_count": 114,
   "id": "0e8a1ad5-9666-447b-89c7-11260d4a2af2",
   "metadata": {
    "tags": []
   },
   "outputs": [
    {
     "name": "stderr",
     "output_type": "stream",
     "text": [
      "INFO:matplotlib.category:Using categorical units to plot a list of strings that are all parsable as floats or dates. If these strings should be plotted as numbers, cast to the appropriate data type before plotting.\n",
      "INFO:matplotlib.category:Using categorical units to plot a list of strings that are all parsable as floats or dates. If these strings should be plotted as numbers, cast to the appropriate data type before plotting.\n"
     ]
    },
    {
     "data": {
      "image/png": "[encoded data removed]",
      "text/plain": [
       "<Figure size 640x480 with 1 Axes>"
      ]
     },
     "metadata": {},
     "output_type": "display_data"
    }
   ],
   "source": [
    "# Plot of monthly average electricity price\n",
    "ax = plt.gca()\n",
    "sns.lineplot(\n",
    "    data = avg_price, \n",
    "    x = \"Date\", y = \"Avg_Price\")\n",
    "for index, label in enumerate(ax.get_xticklabels()):\n",
    "   if index % 12 == 0:\n",
    "      label.set_visible(True)\n",
    "   else:\n",
    "      label.set_visible(False)\n",
    "plt.xticks(rotation=45)\n",
    "plt.ylabel(\"Average Price\")\n",
    "plt.title(\"Average Monthly Electricity Price (July 2010 - Jan. 2022)\")\n",
    "plt.show()"
   ]
  },
  {
   "cell_type": "markdown",
   "id": "45336dcc-cd1c-4bd7-8513-3e14fccfae27",
   "metadata": {},
   "source": [
    "There was a large spike in the monthly average electricity price in late 2020, most likely due to increased usage by customers."
   ]
  },
  {
   "cell_type": "code",
   "execution_count": 115,
   "id": "6eb0de2d-97d1-4abf-8a22-e6c97606314b",
   "metadata": {
    "tags": []
   },
   "outputs": [
    {
     "data": {
      "image/png": "[encoded data removed]",
      "text/plain": [
       "<Figure size 640x480 with 1 Axes>"
      ]
     },
     "metadata": {},
     "output_type": "display_data"
    }
   ],
   "source": [
    "# Plot Monthly Average Price of Electricity Across Years\n",
    "sns.lineplot(\n",
    "    data = avg_price,\n",
    "    x = \"Year\", y = \"Avg_Price\",\n",
    "    hue = \"Month_name\")\n",
    "plt.legend(bbox_to_anchor = (1.05, 1), loc = \"upper left\", borderaxespad = 0)\n",
    "plt.ylabel(\"Average Price\")\n",
    "plt.title(\"Average Price of Electricity (July 2010 - Jan. 2022)\")\n",
    "plt.show()"
   ]
  },
  {
   "cell_type": "markdown",
   "id": "9652428e-51a0-461a-bc50-9eb583a43823",
   "metadata": {},
   "source": [
    "By plotting each average monthly price as its own line, the sudden increase in price began in 2021 and persisted to the start of 2022."
   ]
  },
  {
   "cell_type": "markdown",
   "id": "7333fdb8-918d-4ad8-992c-fe82b1d19504",
   "metadata": {},
   "source": [
    "## Average Hourly Electricity Price"
   ]
  },
  {
   "cell_type": "code",
   "execution_count": 116,
   "id": "c50921fe-6bdb-4dd1-addf-fc918a4464a1",
   "metadata": {
    "tags": []
   },
   "outputs": [
    {
     "data": {
      "text/html": [
       "<div>\n",
       "<style scoped>\n",
       "    .dataframe tbody tr th:only-of-type {\n",
       "        vertical-align: middle;\n",
       "    }\n",
       "\n",
       "    .dataframe tbody tr th {\n",
       "        vertical-align: top;\n",
       "    }\n",
       "\n",
       "    .dataframe thead th {\n",
       "        text-align: right;\n",
       "    }\n",
       "</style>\n",
       "<table border=\"1\" class=\"dataframe\">\n",
       "  <thead>\n",
       "    <tr style=\"text-align: right;\">\n",
       "      <th></th>\n",
       "      <th>Year</th>\n",
       "      <th>Month</th>\n",
       "      <th>Hour</th>\n",
       "      <th>Avg_Price</th>\n",
       "    </tr>\n",
       "  </thead>\n",
       "  <tbody>\n",
       "    <tr>\n",
       "      <th>0</th>\n",
       "      <td>2010</td>\n",
       "      <td>7</td>\n",
       "      <td>1</td>\n",
       "      <td>34.444000</td>\n",
       "    </tr>\n",
       "    <tr>\n",
       "      <th>1</th>\n",
       "      <td>2010</td>\n",
       "      <td>7</td>\n",
       "      <td>2</td>\n",
       "      <td>30.008001</td>\n",
       "    </tr>\n",
       "    <tr>\n",
       "      <th>2</th>\n",
       "      <td>2010</td>\n",
       "      <td>7</td>\n",
       "      <td>3</td>\n",
       "      <td>28.882545</td>\n",
       "    </tr>\n",
       "    <tr>\n",
       "      <th>3</th>\n",
       "      <td>2010</td>\n",
       "      <td>7</td>\n",
       "      <td>4</td>\n",
       "      <td>25.865637</td>\n",
       "    </tr>\n",
       "    <tr>\n",
       "      <th>4</th>\n",
       "      <td>2010</td>\n",
       "      <td>7</td>\n",
       "      <td>5</td>\n",
       "      <td>26.308000</td>\n",
       "    </tr>\n",
       "    <tr>\n",
       "      <th>5</th>\n",
       "      <td>2010</td>\n",
       "      <td>7</td>\n",
       "      <td>6</td>\n",
       "      <td>30.040090</td>\n",
       "    </tr>\n",
       "    <tr>\n",
       "      <th>6</th>\n",
       "      <td>2010</td>\n",
       "      <td>7</td>\n",
       "      <td>7</td>\n",
       "      <td>36.611908</td>\n",
       "    </tr>\n",
       "    <tr>\n",
       "      <th>7</th>\n",
       "      <td>2010</td>\n",
       "      <td>7</td>\n",
       "      <td>8</td>\n",
       "      <td>44.018180</td>\n",
       "    </tr>\n",
       "    <tr>\n",
       "      <th>8</th>\n",
       "      <td>2010</td>\n",
       "      <td>7</td>\n",
       "      <td>9</td>\n",
       "      <td>43.738728</td>\n",
       "    </tr>\n",
       "    <tr>\n",
       "      <th>9</th>\n",
       "      <td>2010</td>\n",
       "      <td>7</td>\n",
       "      <td>10</td>\n",
       "      <td>46.889730</td>\n",
       "    </tr>\n",
       "  </tbody>\n",
       "</table>\n",
       "</div>"
      ],
      "text/plain": [
       "   Year  Month  Hour  Avg_Price\n",
       "0  2010      7     1  34.444000\n",
       "1  2010      7     2  30.008001\n",
       "2  2010      7     3  28.882545\n",
       "3  2010      7     4  25.865637\n",
       "4  2010      7     5  26.308000\n",
       "5  2010      7     6  30.040090\n",
       "6  2010      7     7  36.611908\n",
       "7  2010      7     8  44.018180\n",
       "8  2010      7     9  43.738728\n",
       "9  2010      7    10  46.889730"
      ]
     },
     "execution_count": 116,
     "metadata": {},
     "output_type": "execute_result"
    }
   ],
   "source": [
    "query = \"\"\"\n",
    "    SELECT YEAR(fecha) AS Year,\n",
    "        MONTH(fecha) AS Month,\n",
    "        hora AS Hour,\n",
    "        AVG(precio) AS Avg_Price\n",
    "    FROM {}.hourly_european_market_data_csv\n",
    "    GROUP BY 1, 2, 3\n",
    "    ORDER BY 1, 2, 3 asc;\n",
    "    \"\"\".format(database_name)\n",
    "\n",
    "avg_hourly_price_df = pd.read_sql(query, pyathena_conn)\n",
    "avg_hourly_price_df.head(10)"
   ]
  },
  {
   "cell_type": "code",
   "execution_count": 117,
   "id": "877f9840-4cc5-43af-bc7c-978f5a29519d",
   "metadata": {
    "tags": []
   },
   "outputs": [
    {
     "data": {
      "image/png": "[encoded data removed]",
      "text/plain": [
       "<Figure size 640x480 with 1 Axes>"
      ]
     },
     "metadata": {},
     "output_type": "display_data"
    }
   ],
   "source": [
    "# Plot the averaged hourly prices of electricity\n",
    "avg_hourly_price = avg_hourly_price_df.groupby([\"Hour\"]).mean(\"Avg_Price\")\n",
    "\n",
    "sns.lineplot(\n",
    "    data = avg_hourly_price,\n",
    "    x = avg_hourly_price.index, y = \"Avg_Price\")\n",
    "plt.ylabel(\"Average Price\")\n",
    "plt.title(\"Average Hourly Price of Electricity\")\n",
    "plt.show()"
   ]
  },
  {
   "cell_type": "markdown",
   "id": "8f8dca84-1a18-456c-9c66-e502281de0b7",
   "metadata": {},
   "source": [
    "The above plot shows that the most expensive times of the day are around 10:00 and 20:00 (or 10 a.m. and 8 p.m. respectively)."
   ]
  },
  {
   "cell_type": "code",
   "execution_count": 118,
   "id": "e74a9b3c-1036-40ff-ac74-2a282fe8d88c",
   "metadata": {
    "tags": []
   },
   "outputs": [
    {
     "data": {
      "image/png": "[encoded data removed]",
      "text/plain": [
       "<Figure size 640x480 with 1 Axes>"
      ]
     },
     "metadata": {},
     "output_type": "display_data"
    }
   ],
   "source": [
    "# Group first by month then by hour\n",
    "avg_monthly_hourly_price = avg_hourly_price_df.groupby(\n",
    "    [\"Month\", \"Hour\"]).mean([\"Avg_Price\"]).reset_index()\n",
    "\n",
    "# Create a Month_name column\n",
    "avg_monthly_hourly_price[\"Month_name\"] = avg_monthly_hourly_price[\"Month\"].apply(\n",
    "    lambda x: calendar.month_abbr[x])\n",
    "\n",
    "# Plot Hourly Data with a line per month\n",
    "sns.lineplot(\n",
    "    data = avg_monthly_hourly_price,\n",
    "    x = \"Hour\", y = \"Avg_Price\",\n",
    "    hue = \"Month_name\", legend = \"full\")\n",
    "\n",
    "plt.legend(bbox_to_anchor = (1.05, 1), loc = \"upper left\", borderaxespad = 0)\n",
    "plt.ylabel(\"Average Price\")\n",
    "plt.title(\"Average Hourly Price of Electricity by Month\")\n",
    "plt.show()"
   ]
  },
  {
   "cell_type": "markdown",
   "id": "4df4dc9f-2cb6-426f-92f0-8afa5302e2fc",
   "metadata": {},
   "source": [
    "The above plot indicates that the cost of electricity increases with months associated with winter (November, December, January, and February). More specifically, electricity costs rise in the night (between 15:00/3 P.M. and 20:00/8 P.M.)."
   ]
  },
  {
   "cell_type": "markdown",
   "id": "8074c675-4a91-423b-909b-3528487d0a64",
   "metadata": {},
   "source": [
    "# Pre-Processing"
   ]
  },
  {
   "cell_type": "markdown",
   "id": "65b80ca9-313c-41d9-8436-034cf85e18b2",
   "metadata": {},
   "source": [
    "## Ingest Data to Pandas Dataframes and Trim All Tables to be within the Same Time Range\n",
    "The source details that energy dataset ranges from November 23, 2011 to Februrary 28, 2014. All The datasets will be pared down to this range to create a singular, comprehensive table."
   ]
  },
  {
   "cell_type": "code",
   "execution_count": 119,
   "id": "aa615ce5-8e9f-4c1c-a042-e35626a03189",
   "metadata": {
    "tags": []
   },
   "outputs": [],
   "source": [
    "market_data_df = pd.read_csv(\n",
    "    \"s3://ads-508-spring2023-team3/Hourly_European_Market_Data.csv\")\n",
    "energy_data_df = pd.read_csv(\n",
    "    \"s3://ads-508-spring2023-team3/London_Energy.csv\")\n",
    "weather_data_df = pd.read_csv(\n",
    "    \"s3://ads-508-spring2023-team3/London_Weather_1979_2021.csv\")"
   ]
  },
  {
   "cell_type": "code",
   "execution_count": 120,
   "id": "2433cabf-4509-41b6-97a9-ab29a8f41281",
   "metadata": {
    "tags": []
   },
   "outputs": [],
   "source": [
    "# Trim data so that all dataframes are in the same time frame\n",
    "date1 = \"2011-11-23\"\n",
    "date2 = \"2014-02-28\"\n",
    "\n",
    "# Cast column to datetime format\n",
    "market_data_df[\"fecha\"] = pd.to_datetime(\n",
    "    market_data_df[\"fecha\"], format = \"%Y-%m-%d\")\n",
    "\n",
    "date_rows = (market_data_df[\"fecha\"] >= date1) & (market_data_df[\"fecha\"] <= date2)\n",
    "market_data_subset = market_data_df.loc[date_rows]"
   ]
  },
  {
   "cell_type": "code",
   "execution_count": 121,
   "id": "554c2cbe-0a81-486a-9fc7-a1cffaced025",
   "metadata": {
    "tags": []
   },
   "outputs": [],
   "source": [
    "energy_data_df[\"Date\"] = pd.to_datetime(energy_data_df[\"Date\"], format = \"%Y-%m-%d\")\n",
    "date_rows = (energy_data_df[\"Date\"] >= date1) & (energy_data_df[\"Date\"] <= date2)\n",
    "energy_data_subset = energy_data_df.loc[date_rows]"
   ]
  },
  {
   "cell_type": "code",
   "execution_count": 122,
   "id": "924f187a-5b01-4c4c-8502-cfb167f34a65",
   "metadata": {
    "tags": []
   },
   "outputs": [],
   "source": [
    "weather_data_df[\"date\"] = pd.to_datetime(weather_data_df[\"date\"], format = \"%Y%m%d\")\n",
    "date_rows = (weather_data_df[\"date\"] >= date1) & (weather_data_df[\"date\"] <= date2)\n",
    "weather_data_subset = weather_data_df.loc[date_rows]"
   ]
  },
  {
   "cell_type": "markdown",
   "id": "309320d4-d4d1-4668-acf3-a77693575a42",
   "metadata": {},
   "source": [
    "### Determining Missing Values"
   ]
  },
  {
   "cell_type": "code",
   "execution_count": 123,
   "id": "1d0d540b-8171-4230-9f66-28ceac0cebe9",
   "metadata": {
    "tags": []
   },
   "outputs": [
    {
     "data": {
      "text/plain": [
       "Unnamed: 0             0\n",
       "fecha                  0\n",
       "hora                   0\n",
       "sistema                0\n",
       "bandera                0\n",
       "precio                 0\n",
       "tipo_moneda            0\n",
       "origen_dato            0\n",
       "fecha_actualizacion    0\n",
       "dtype: int64"
      ]
     },
     "execution_count": 123,
     "metadata": {},
     "output_type": "execute_result"
    }
   ],
   "source": [
    "# Counting number of missing values for each variable in the Market Subset\n",
    "market_data_subset.isna().sum()"
   ]
  },
  {
   "cell_type": "code",
   "execution_count": 124,
   "id": "6a858e32-99be-40c0-a07b-1e343064100c",
   "metadata": {
    "tags": []
   },
   "outputs": [
    {
     "data": {
      "text/plain": [
       "LCLid    0\n",
       "Date     0\n",
       "KWH      0\n",
       "dtype: int64"
      ]
     },
     "execution_count": 124,
     "metadata": {},
     "output_type": "execute_result"
    }
   ],
   "source": [
    "# Counting number of missing values for each variable in the Energy Subset\n",
    "energy_data_subset.isna().sum()"
   ]
  },
  {
   "cell_type": "code",
   "execution_count": 125,
   "id": "72794114-3ece-4c8d-bf46-84f18d106699",
   "metadata": {
    "tags": []
   },
   "outputs": [
    {
     "data": {
      "text/plain": [
       "date                0\n",
       "cloud_cover         1\n",
       "sunshine            0\n",
       "global_radiation    0\n",
       "max_temp            0\n",
       "mean_temp           0\n",
       "min_temp            0\n",
       "precipitation       0\n",
       "pressure            0\n",
       "snow_depth          0\n",
       "dtype: int64"
      ]
     },
     "execution_count": 125,
     "metadata": {},
     "output_type": "execute_result"
    }
   ],
   "source": [
    "# Counting number of missing values for each variable in the Weather Subset\n",
    "weather_data_subset.isna().sum()"
   ]
  },
  {
   "cell_type": "code",
   "execution_count": 126,
   "id": "b9b118dd-a613-4c17-b7a3-2618c755abfb",
   "metadata": {
    "tags": []
   },
   "outputs": [
    {
     "data": {
      "text/html": [
       "<div>\n",
       "<style scoped>\n",
       "    .dataframe tbody tr th:only-of-type {\n",
       "        vertical-align: middle;\n",
       "    }\n",
       "\n",
       "    .dataframe tbody tr th {\n",
       "        vertical-align: top;\n",
       "    }\n",
       "\n",
       "    .dataframe thead th {\n",
       "        text-align: right;\n",
       "    }\n",
       "</style>\n",
       "<table border=\"1\" class=\"dataframe\">\n",
       "  <thead>\n",
       "    <tr style=\"text-align: right;\">\n",
       "      <th></th>\n",
       "      <th>date</th>\n",
       "      <th>cloud_cover</th>\n",
       "      <th>sunshine</th>\n",
       "      <th>global_radiation</th>\n",
       "      <th>max_temp</th>\n",
       "      <th>mean_temp</th>\n",
       "      <th>min_temp</th>\n",
       "      <th>precipitation</th>\n",
       "      <th>pressure</th>\n",
       "      <th>snow_depth</th>\n",
       "    </tr>\n",
       "  </thead>\n",
       "  <tbody>\n",
       "    <tr>\n",
       "      <th>12111</th>\n",
       "      <td>2012-02-28</td>\n",
       "      <td>8.0</td>\n",
       "      <td>0.0</td>\n",
       "      <td>31.0</td>\n",
       "      <td>13.0</td>\n",
       "      <td>10.9</td>\n",
       "      <td>8.6</td>\n",
       "      <td>0.0</td>\n",
       "      <td>102410.0</td>\n",
       "      <td>0.0</td>\n",
       "    </tr>\n",
       "    <tr>\n",
       "      <th>12112</th>\n",
       "      <td>2012-02-29</td>\n",
       "      <td>8.0</td>\n",
       "      <td>0.0</td>\n",
       "      <td>32.0</td>\n",
       "      <td>14.4</td>\n",
       "      <td>10.8</td>\n",
       "      <td>8.5</td>\n",
       "      <td>0.0</td>\n",
       "      <td>102470.0</td>\n",
       "      <td>0.0</td>\n",
       "    </tr>\n",
       "    <tr>\n",
       "      <th>12113</th>\n",
       "      <td>2012-03-01</td>\n",
       "      <td>5.0</td>\n",
       "      <td>5.2</td>\n",
       "      <td>105.0</td>\n",
       "      <td>11.7</td>\n",
       "      <td>9.1</td>\n",
       "      <td>3.7</td>\n",
       "      <td>0.0</td>\n",
       "      <td>102630.0</td>\n",
       "      <td>0.0</td>\n",
       "    </tr>\n",
       "    <tr>\n",
       "      <th>12114</th>\n",
       "      <td>2012-03-02</td>\n",
       "      <td>NaN</td>\n",
       "      <td>3.4</td>\n",
       "      <td>88.0</td>\n",
       "      <td>15.0</td>\n",
       "      <td>7.5</td>\n",
       "      <td>3.2</td>\n",
       "      <td>0.0</td>\n",
       "      <td>102560.0</td>\n",
       "      <td>0.0</td>\n",
       "    </tr>\n",
       "    <tr>\n",
       "      <th>12115</th>\n",
       "      <td>2012-03-03</td>\n",
       "      <td>5.0</td>\n",
       "      <td>3.4</td>\n",
       "      <td>89.0</td>\n",
       "      <td>9.4</td>\n",
       "      <td>10.8</td>\n",
       "      <td>6.6</td>\n",
       "      <td>2.2</td>\n",
       "      <td>101880.0</td>\n",
       "      <td>0.0</td>\n",
       "    </tr>\n",
       "    <tr>\n",
       "      <th>12116</th>\n",
       "      <td>2012-03-04</td>\n",
       "      <td>8.0</td>\n",
       "      <td>0.0</td>\n",
       "      <td>37.0</td>\n",
       "      <td>10.3</td>\n",
       "      <td>8.0</td>\n",
       "      <td>6.5</td>\n",
       "      <td>7.4</td>\n",
       "      <td>101670.0</td>\n",
       "      <td>0.0</td>\n",
       "    </tr>\n",
       "    <tr>\n",
       "      <th>12117</th>\n",
       "      <td>2012-03-05</td>\n",
       "      <td>4.0</td>\n",
       "      <td>7.8</td>\n",
       "      <td>135.0</td>\n",
       "      <td>8.9</td>\n",
       "      <td>6.8</td>\n",
       "      <td>3.2</td>\n",
       "      <td>0.0</td>\n",
       "      <td>102190.0</td>\n",
       "      <td>0.0</td>\n",
       "    </tr>\n",
       "  </tbody>\n",
       "</table>\n",
       "</div>"
      ],
      "text/plain": [
       "            date  cloud_cover  sunshine  global_radiation  max_temp  \\\n",
       "12111 2012-02-28          8.0       0.0              31.0      13.0   \n",
       "12112 2012-02-29          8.0       0.0              32.0      14.4   \n",
       "12113 2012-03-01          5.0       5.2             105.0      11.7   \n",
       "12114 2012-03-02          NaN       3.4              88.0      15.0   \n",
       "12115 2012-03-03          5.0       3.4              89.0       9.4   \n",
       "12116 2012-03-04          8.0       0.0              37.0      10.3   \n",
       "12117 2012-03-05          4.0       7.8             135.0       8.9   \n",
       "\n",
       "       mean_temp  min_temp  precipitation  pressure  snow_depth  \n",
       "12111       10.9       8.6            0.0  102410.0         0.0  \n",
       "12112       10.8       8.5            0.0  102470.0         0.0  \n",
       "12113        9.1       3.7            0.0  102630.0         0.0  \n",
       "12114        7.5       3.2            0.0  102560.0         0.0  \n",
       "12115       10.8       6.6            2.2  101880.0         0.0  \n",
       "12116        8.0       6.5            7.4  101670.0         0.0  \n",
       "12117        6.8       3.2            0.0  102190.0         0.0  "
      ]
     },
     "execution_count": 126,
     "metadata": {},
     "output_type": "execute_result"
    }
   ],
   "source": [
    "# The below line reveals that cloud_cover is missing a value at row 12114\n",
    "# weather_data_subset.loc[weather_data_subset[\"cloud_cover\"].isna()]\n",
    "\n",
    "weather_data_subset.loc[12111:12117]"
   ]
  },
  {
   "cell_type": "markdown",
   "id": "506316ab-eca5-4f1d-acb2-6abc981c4b50",
   "metadata": {},
   "source": [
    "As weather usually does not vary dramatically between sequential days, it was deemed appropriate to impute the missing value with the average value of the days prior to and after the missing value. As both of the surrounding values are five, the missing value was filled with a value of 5."
   ]
  },
  {
   "cell_type": "code",
   "execution_count": 127,
   "id": "458fb17d-8ae2-4761-afa1-5ae29b7044ce",
   "metadata": {
    "tags": []
   },
   "outputs": [
    {
     "data": {
      "text/plain": [
       "5.0"
      ]
     },
     "execution_count": 127,
     "metadata": {},
     "output_type": "execute_result"
    }
   ],
   "source": [
    "weather_data_subset.loc[12114, \"cloud_cover\"] = 5\n",
    "weather_data_subset.loc[12114, :][\"cloud_cover\"]"
   ]
  },
  {
   "cell_type": "markdown",
   "id": "00c46968-5e26-43e2-a8c8-1da00a0bc913",
   "metadata": {},
   "source": [
    "### Quick Data Exploration - Distribution of Variables"
   ]
  },
  {
   "cell_type": "code",
   "execution_count": 128,
   "id": "2cac4f5f-aab1-4d6a-9217-332ff56d7858",
   "metadata": {
    "tags": []
   },
   "outputs": [
    {
     "data": {
      "image/png": "[encoded data removed]",
      "text/plain": [
       "<Figure size 640x480 with 1 Axes>"
      ]
     },
     "metadata": {},
     "output_type": "display_data"
    }
   ],
   "source": [
    "# Distribution of Energy Consumption\n",
    "sns.boxplot(energy_data_subset[\"KWH\"])\n",
    "\n",
    "plt.title(\"Distribution of Energy Consumption\")\n",
    "plt.xlabel(\"kWh\")\n",
    "plt.ylabel(\"Energy Consumption (kWh)\")\n",
    "plt.show()"
   ]
  },
  {
   "cell_type": "code",
   "execution_count": 129,
   "id": "897be740-2597-4319-9457-526398b589da",
   "metadata": {
    "tags": []
   },
   "outputs": [
    {
     "data": {
      "image/png": "[encoded data removed]",
      "text/plain": [
       "<Figure size 1000x1000 with 12 Axes>"
      ]
     },
     "metadata": {},
     "output_type": "display_data"
    }
   ],
   "source": [
    "weather_data_subset.hist(figsize = (10,10))\n",
    "plt.show()"
   ]
  },
  {
   "cell_type": "markdown",
   "id": "f378e152-5ff2-4390-900c-f3d3bd89b8f6",
   "metadata": {
    "tags": []
   },
   "source": [
    "## Drop unnecesary columns"
   ]
  },
  {
   "cell_type": "code",
   "execution_count": 130,
   "id": "687af71d-68b9-45d0-ace1-39f95174d50d",
   "metadata": {
    "tags": []
   },
   "outputs": [],
   "source": [
    "# Unnamed: 0 = id column (the raw data source did not label the column) \n",
    "market_data_drop_col = market_data_subset.drop(\n",
    "    [\"Unnamed: 0\", \"bandera\", \"origen_dato\", \"fecha_actualizacion\"], axis = 1)\n",
    "# Rename Date column in market_data to be uniform with other date column names\n",
    "market_data_drop_col.columns = [\n",
    "    \"Date\" if x == \"fecha\" else x for x in market_data_drop_col.columns]\n",
    "\n",
    "# Rename Date column in weather_data to be uniform with other date columns\n",
    "weather_data_subset.columns = [\n",
    "    \"Date\" if x == \"date\" else x for x in weather_data_subset.columns]"
   ]
  },
  {
   "cell_type": "markdown",
   "id": "4187bcd3-7079-43de-a85f-2c4eccfbf1cc",
   "metadata": {},
   "source": [
    "## Subset market_data to sistema = HU\n",
    "The column _sistema_ is the system from which the hourly rates were read from. Only one system is needed for this study. As there are 829 days in the time frame of interest (indicated by the number of rows in the weather data, after parsing), an hourly data set of the 829 days would have 19,896 values (829 days * 24 hr./day). Indicated below, the only system with all values are system HU. Therefore, the market data subset will be subsetted to only include readings from system HU."
   ]
  },
  {
   "cell_type": "code",
   "execution_count": 131,
   "id": "8c09740b-4d07-4ea3-b4c2-9be2fbc8112d",
   "metadata": {
    "tags": []
   },
   "outputs": [
    {
     "data": {
      "text/plain": [
       "HU     19896\n",
       "NO3    10176\n",
       "SYS    10176\n",
       "SE4    10176\n",
       "SE3    10176\n",
       "Name: sistema, dtype: int64"
      ]
     },
     "execution_count": 131,
     "metadata": {},
     "output_type": "execute_result"
    }
   ],
   "source": [
    "market_data_drop_col[\"sistema\"].value_counts().head(5)"
   ]
  },
  {
   "cell_type": "code",
   "execution_count": 132,
   "id": "11970a89-8f8b-4fb5-a36a-ee0604c0bee8",
   "metadata": {
    "tags": []
   },
   "outputs": [],
   "source": [
    "market_data_hu_subset = market_data_drop_col.loc[\n",
    "    market_data_drop_col[\"sistema\"] == \"HU\"]\n",
    "\n",
    "# Drop sistema column - all values are HU\n",
    "market_data_hu_subset = market_data_hu_subset.drop(\"sistema\", axis = 1)"
   ]
  },
  {
   "cell_type": "markdown",
   "id": "f1ea3204-5cf3-4979-9105-d2d9b4a79356",
   "metadata": {},
   "source": [
    "### Removing Incomplete Household Records\n",
    "LCLid in the energy data indicates the households where energy consumption readings were taken from. However, not all households provide all 829 days worth of records. To keep the data consistent and ensure that every day is represented in the training data, LCLid values with a total count of less that 829 will be removed."
   ]
  },
  {
   "cell_type": "code",
   "execution_count": 133,
   "id": "4fca98cb-1380-4c1a-a0aa-3c5d5b2640ea",
   "metadata": {
    "tags": []
   },
   "outputs": [
    {
     "data": {
      "text/plain": [
       "MAC000145    829\n",
       "MAC000147    829\n",
       "MAC000148    829\n",
       "MAC000149    829\n",
       "MAC000150    829\n",
       "MAC000151    829\n",
       "MAC000152    829\n",
       "MAC000153    829\n",
       "MAC000155    829\n",
       "MAC000156    829\n",
       "MAC000157    829\n",
       "Name: LCLid, dtype: int64"
      ]
     },
     "execution_count": 133,
     "metadata": {},
     "output_type": "execute_result"
    }
   ],
   "source": [
    "energy_data_id_subset = energy_data_subset.groupby(\"LCLid\").filter(\n",
    "    lambda x : len(x) == 829)\n",
    "energy_data_id_subset[\"LCLid\"].value_counts()"
   ]
  },
  {
   "cell_type": "markdown",
   "id": "e0a89d81-5303-41db-a46f-c8aea168bb19",
   "metadata": {},
   "source": [
    "Only 11 households provided all 829 days of data."
   ]
  },
  {
   "cell_type": "code",
   "execution_count": 134,
   "id": "d879bc35-f9c2-4831-8433-9f4485f130dc",
   "metadata": {
    "tags": []
   },
   "outputs": [
    {
     "data": {
      "text/plain": [
       "1    19896\n",
       "Name: tipo_moneda, dtype: int64"
      ]
     },
     "execution_count": 134,
     "metadata": {},
     "output_type": "execute_result"
    }
   ],
   "source": [
    "market_data_hu_subset[\"tipo_moneda\"].value_counts()"
   ]
  },
  {
   "cell_type": "markdown",
   "id": "fe3c125f-2799-4c74-b2fb-72d206162c6b",
   "metadata": {},
   "source": [
    "All values for tipo_moneda are one. This will not be very informative during model training. Therefore, the column can be removed from the dataframe."
   ]
  },
  {
   "cell_type": "code",
   "execution_count": 135,
   "id": "d6dedb1e-d118-4a1c-a0c5-c612396cb977",
   "metadata": {
    "tags": []
   },
   "outputs": [],
   "source": [
    "market_data_hu_subset = market_data_hu_subset.drop(\"tipo_moneda\", axis = 1)"
   ]
  },
  {
   "cell_type": "markdown",
   "id": "d53c01ab-035d-4d4b-ac6f-61ed92d604b3",
   "metadata": {},
   "source": [
    "## Inner Join All Dataframes\n",
    "Form one large input dataframe for modeling"
   ]
  },
  {
   "cell_type": "code",
   "execution_count": 136,
   "id": "627eaf75-bb8b-443e-a980-24c6a42190dc",
   "metadata": {
    "tags": []
   },
   "outputs": [],
   "source": [
    "# Group hourly market data by date to create one average daily price\n",
    "market_data_daily_avg = market_data_hu_subset.groupby(\n",
    "    [\"Date\"]).mean(\"precio\").reset_index()"
   ]
  },
  {
   "cell_type": "markdown",
   "id": "acdc7a0d-d8fb-473d-b432-53b447266c28",
   "metadata": {},
   "source": [
    "Creating a daily average price will ensure all value are recorded at the same time interval, daily."
   ]
  },
  {
   "cell_type": "code",
   "execution_count": 137,
   "id": "af76a323-8329-438a-88cc-875900a4bffd",
   "metadata": {
    "tags": []
   },
   "outputs": [],
   "source": [
    "# Merge the average daily price with the energy consumption data set\n",
    "merged_df = pd.merge(\n",
    "    market_data_daily_avg,\n",
    "    energy_data_id_subset,\n",
    "    how = \"inner\",\n",
    "    on = \"Date\"\n",
    ")"
   ]
  },
  {
   "cell_type": "code",
   "execution_count": 138,
   "id": "9b08b086-a825-43d8-9334-ad6d4518bf44",
   "metadata": {
    "tags": []
   },
   "outputs": [],
   "source": [
    "# Merge the above joined data frame with the daily weather dataset\n",
    "merged_df = pd.merge(\n",
    "    merged_df,\n",
    "    weather_data_subset,\n",
    "    how = \"inner\",\n",
    "    on = \"Date\"\n",
    ")"
   ]
  },
  {
   "cell_type": "code",
   "execution_count": 139,
   "id": "d2f07bdb-cb82-4cd7-a5a0-eafb5c8335df",
   "metadata": {
    "tags": []
   },
   "outputs": [
    {
     "name": "stdout",
     "output_type": "stream",
     "text": [
      "(829, 12)\n",
      "        Date     precio        KWH  cloud_cover  sunshine  global_radiation  \\\n",
      "0 2011-11-23  87.079792   7.178909          7.0       2.0              35.0   \n",
      "1 2011-11-24  79.130875  10.911727          3.0       2.0              35.0   \n",
      "2 2011-11-25  71.704208  11.023909          3.0       5.0              52.0   \n",
      "3 2011-11-26  50.857750  11.419455          4.0       0.7              24.0   \n",
      "4 2011-11-27  41.124167  11.972273          3.0       5.9              55.0   \n",
      "\n",
      "   max_temp  mean_temp  min_temp  precipitation  pressure  snow_depth  \n",
      "0      13.5        6.8       2.6            0.2  102720.0         0.0  \n",
      "1      12.5        8.6       3.7            0.2  102710.0         0.0  \n",
      "2      14.0       11.0       9.5            0.0  102450.0         0.0  \n",
      "3      13.9       10.2       6.3            0.0  102580.0         0.0  \n",
      "4      13.2       11.8       9.7            0.0  102130.0         0.0  \n"
     ]
    }
   ],
   "source": [
    "# Groupby Date to average sampled households energy consumption\n",
    "# Drop the hour column since data is daily now\n",
    "full_joined_df = merged_df.groupby([\"Date\"]).mean().drop(\n",
    "    \"hora\", axis = 1).reset_index()\n",
    "print(full_joined_df.shape)\n",
    "print(full_joined_df.head(5))"
   ]
  },
  {
   "cell_type": "markdown",
   "id": "51fffe7b-04ec-4c4d-922d-04d94695592f",
   "metadata": {},
   "source": [
    "## Feature Creation\n",
    "- Extract Month and Day_of_Week (ex. Mon., Tues., etc.) from the Date column"
   ]
  },
  {
   "cell_type": "code",
   "execution_count": 140,
   "id": "1fd5fc17-f911-49cb-8235-bb08cf1511bc",
   "metadata": {
    "tags": []
   },
   "outputs": [],
   "source": [
    "# Extract the numerical month value from the date value\n",
    "full_joined_df[\"Month\"] = full_joined_df[\"Date\"].dt.month"
   ]
  },
  {
   "cell_type": "code",
   "execution_count": 141,
   "id": "4f9d3b07-a481-4024-8571-2da01f4cf9e1",
   "metadata": {
    "tags": []
   },
   "outputs": [],
   "source": [
    "# Create a day of the week column based on the date\n",
    "# Weekdays are numeric, where 0 represents Monday and 6 represents Sunday\n",
    "full_joined_df[\"Day_of_Week\"] = full_joined_df[\"Date\"].dt.dayofweek"
   ]
  },
  {
   "cell_type": "code",
   "execution_count": 142,
   "id": "c6efadf4-e573-42ed-97e2-3d99b3905aee",
   "metadata": {
    "tags": []
   },
   "outputs": [],
   "source": [
    "# Create a daily temperature_range column\n",
    "# Evaluate the difference betweeen daily max. and min. temperatures\n",
    "full_joined_df[\"Temp_range\"] = abs(\n",
    "    full_joined_df[\"max_temp\"] - full_joined_df[\"min_temp\"])"
   ]
  },
  {
   "cell_type": "markdown",
   "id": "a18fb71c-bf1e-4e2e-9b5a-f13685d6bd46",
   "metadata": {},
   "source": [
    "## Feature Transformation\n",
    "- Standard scaling is applied to ensure that all features follow an approximate normal distribution."
   ]
  },
  {
   "cell_type": "code",
   "execution_count": 143,
   "id": "f315dbf0-c92f-4e5e-9e62-dfceaae79b9b",
   "metadata": {
    "tags": []
   },
   "outputs": [],
   "source": [
    "# Select Columns that are Numerical for Standardization\n",
    "# All but the Date Column\n",
    "num_cols = list(full_joined_df.select_dtypes(include = [\"float64\", \"int64\"]).columns)"
   ]
  },
  {
   "cell_type": "code",
   "execution_count": 144,
   "id": "ba072998-cf4e-4714-8334-004fa60944d6",
   "metadata": {
    "tags": []
   },
   "outputs": [],
   "source": [
    "# Set up column transformer as a pipeline for standardizing numerical columns\n",
    "minmax_scale = ColumnTransformer([\n",
    "        (\"minmax_scale\", MinMaxScaler(), num_cols)\n",
    "    ], \n",
    "    remainder = \"passthrough\"\n",
    ")\n",
    "\n",
    "# Standardize the numerical features\n",
    "scaled_df = pd.DataFrame(minmax_scale.fit_transform(full_joined_df[num_cols]),\n",
    "            columns = num_cols)"
   ]
  },
  {
   "cell_type": "code",
   "execution_count": 145,
   "id": "96f65cbb-b60d-4fa9-9810-4c46f4519cde",
   "metadata": {
    "tags": []
   },
   "outputs": [],
   "source": [
    "# Insert Date Column to Transformed Dataframe\n",
    "scaled_df[\"Date\"] = full_joined_df[\"Date\"]"
   ]
  },
  {
   "cell_type": "markdown",
   "id": "8236e588-513c-4991-a80b-2b7a9c82094c",
   "metadata": {},
   "source": [
    "## Data Partitioning\n",
    "The data is split using an 80:10:10 train:validation:test partition scheme. Of the 27 months of data, the first 80% of the data lies between November 2011 and Auguest 2013 (inclusively). The validation set will contain records between September 2013 and November 2013; and, the test partition will contain date from December 2013 through February 2014."
   ]
  },
  {
   "cell_type": "code",
   "execution_count": 146,
   "id": "be7cd632-c6f6-4c1e-984a-36e1fd3ca732",
   "metadata": {
    "tags": []
   },
   "outputs": [],
   "source": [
    "# Partition Data into appropriate time frames\n",
    "# Training Set: Nov. 2011 - Aug. 2013\n",
    "train_data = scaled_df.loc[scaled_df[\"Date\"] < \"2013-09-01\"]\n",
    "\n",
    "# Validation Set: Sept. 2013 - Nov. 2013\n",
    "validation_data = scaled_df.loc[\n",
    "    (scaled_df[\"Date\"] >= \"2013-09-01\") & (scaled_df[\"Date\"] < \"2013-12-01\")]\n",
    "\n",
    "# Test Set: Dec. 2013 - Feb. 2014\n",
    "test_data = scaled_df.loc[scaled_df[\"Date\"] >= \"2013-12-01\"]"
   ]
  },
  {
   "cell_type": "code",
   "execution_count": 147,
   "id": "a5648326-6907-48a7-a09b-122741707b5e",
   "metadata": {
    "tags": []
   },
   "outputs": [
    {
     "name": "stdout",
     "output_type": "stream",
     "text": [
      "Training data is 78.17% of the dataset\n",
      "Validation data is 10.98% of the dataset\n",
      "Testing data is 10.86% of the dataset\n"
     ]
    }
   ],
   "source": [
    "# Confirm proportion of data partitions\n",
    "full_data_size = scaled_df.shape[0]\n",
    "train_prop = round(train_data.shape[0]/full_data_size * 100, 2)\n",
    "valid_prop = round(validation_data.shape[0]/full_data_size * 100, 2)\n",
    "test_prop = round(test_data.shape[0]/full_data_size * 100, 2)\n",
    "\n",
    "print(\"Training data is {}% of the dataset\".format(train_prop))\n",
    "print(\"Validation data is {}% of the dataset\".format(valid_prop))\n",
    "print(\"Testing data is {}% of the dataset\".format(test_prop))"
   ]
  },
  {
   "cell_type": "markdown",
   "id": "c880caa8-0a22-4ce4-9c15-2ae1af690e28",
   "metadata": {},
   "source": [
    "# Write Partitions of Dataframes to S3 as .CSV Files"
   ]
  },
  {
   "cell_type": "code",
   "execution_count": 148,
   "id": "e7b73d00-6582-4328-9f05-1307fbe24da7",
   "metadata": {
    "tags": []
   },
   "outputs": [],
   "source": [
    "train_data.to_csv(\n",
    "    \"{}/data_partition/training_data/{}\".format(\n",
    "        personal_s3, \"train_data.csv\"))\n",
    "validation_data.to_csv(\n",
    "    \"{}/data_partition/validation_data/{}\".format(\n",
    "        personal_s3, \"validation_data.csv\"))\n",
    "test_data.to_csv(\n",
    "    \"{}/data_partition/testing_data/{}\".format(\n",
    "        personal_s3, \"test_data.csv\"))"
   ]
  },
  {
   "cell_type": "markdown",
   "id": "9c1f6ca9-aeb7-43dc-9009-7b717b819202",
   "metadata": {},
   "source": [
    "# Model Training\n",
    "SageMaker's built-in algorithm for forecasting, DeepAR, will be utilized as the model of this study.\n",
    "\n",
    "Code chunks for this section were obtained and interpreted from:\n",
    "- https://sagemaker-examples.readthedocs.io/en/latest/introduction_to_amazon_algorithms/deepar_synthetic/deepar_synthetic.html\n",
    "- https://sagemaker-examples.readthedocs.io/en/latest/introduction_to_amazon_algorithms/deepar_electricity/DeepAR-Electricity.html\n",
    "- https://sagemaker-examples.readthedocs.io/en/latest/introduction_to_applying_machine_learning/deepar_chicago_traffic_violations/deepar_chicago_traffic_violations.html#Train"
   ]
  },
  {
   "cell_type": "code",
   "execution_count": 149,
   "id": "504e8001-808c-48c7-9f98-4075c5b4e31e",
   "metadata": {
    "tags": []
   },
   "outputs": [
    {
     "name": "stderr",
     "output_type": "stream",
     "text": [
      "INFO:sagemaker.image_uris:Same images used for training and inference. Defaulting to image scope: inference.\n",
      "INFO:sagemaker.image_uris:Defaulting to the only supported framework/algorithm version: 1.\n",
      "INFO:sagemaker.image_uris:Ignoring unnecessary instance type: None.\n"
     ]
    }
   ],
   "source": [
    "# Call the forecasting DeepAR image\n",
    "image_name = sagemaker.image_uris.retrieve(\"forecasting-deepar\", region)"
   ]
  },
  {
   "cell_type": "code",
   "execution_count": 150,
   "id": "e2e33a9e-e5fc-4fba-85b4-2d42e7b3fe9e",
   "metadata": {},
   "outputs": [],
   "source": [
    "# The frequency of the dataset is 1 Day\n",
    "freq = \"1D\"\n",
    "\n",
    "# Set Dataset Starting Date and Training Data Ending Date\n",
    "start_dataset = pd.Timestamp(\"2011-11-23\", freq = freq)\n",
    "end_training = pd.Timestamp(\"2013-09-01\", freq = freq)\n",
    "\n",
    "prediction_length = 12 * 30 #12 months * 30 days a month"
   ]
  },
  {
   "cell_type": "markdown",
   "id": "53e3a98b-5364-4013-bc3a-7cb45857172b",
   "metadata": {},
   "source": [
    "## Prepare the Data for Training"
   ]
  },
  {
   "cell_type": "code",
   "execution_count": 151,
   "id": "c9a405a5-983c-4455-a2a0-e0b698157a46",
   "metadata": {
    "tags": []
   },
   "outputs": [],
   "source": [
    "# Set Data Index as Date\n",
    "train_timeindex = train_data.set_index(\"Date\")\n",
    "validation_timeindex = validation_data.set_index(\"Date\")\n",
    "test_timeindex = test_data.set_index(\"Date\")"
   ]
  },
  {
   "cell_type": "code",
   "execution_count": 152,
   "id": "869e96fa-8582-41ed-8419-a435beea3797",
   "metadata": {
    "tags": []
   },
   "outputs": [],
   "source": [
    "# Re-format Pandas dataframes \n",
    "## as a List of dictionaries in preparation for JSON file creation\n",
    "train_list = []\n",
    "for i in range(train_timeindex.drop(\"KWH\", axis = 1).shape[1]):\n",
    "    train_list.append(train_timeindex.drop(\"KWH\", axis = 1).iloc[:, i])\n",
    "\n",
    "\n",
    "training_data = [\n",
    "    {\n",
    "        \"start\" : str(start_dataset),\n",
    "        \"target\" : train_timeindex[\"KWH\"][\n",
    "            start_dataset : end_training].tolist(),\n",
    "        \"dynamic_feat\" : [train_list[i][start_dataset : end_training].tolist()]\n",
    "    }\n",
    "    for i in range(len(train_list))\n",
    "]"
   ]
  },
  {
   "cell_type": "code",
   "execution_count": 153,
   "id": "0e3d6eab-1dd0-406d-809b-71631c72a227",
   "metadata": {
    "tags": []
   },
   "outputs": [],
   "source": [
    "start_validation = pd.Timestamp(\"2013-09-01\", freq = freq)\n",
    "end_validation = pd.Timestamp(\"2013-12-01\", freq = freq)\n",
    "valid_list = []\n",
    "for i in range(validation_timeindex.drop(\"KWH\", axis = 1).shape[1]):\n",
    "    valid_list.append(validation_timeindex.drop(\"KWH\", axis = 1).iloc[:, i])\n",
    "\n",
    "\n",
    "validation_data = [\n",
    "    {\n",
    "        \"start\" : str(start_validation),\n",
    "        \"target\" : validation_timeindex[\"KWH\"][\n",
    "            start_validation : end_validation].tolist(),\n",
    "        \"dynamic_feat\" : [valid_list[i][start_validation : end_validation].tolist()]\n",
    "    }\n",
    "    for i in range(len(valid_list))\n",
    "]"
   ]
  },
  {
   "cell_type": "markdown",
   "id": "7208bc7f-8bcc-4754-9e59-67d99088fa5c",
   "metadata": {},
   "source": [
    "## Write DeepAR JSON-Line Formatted Datasets As .JSON files to S3"
   ]
  },
  {
   "cell_type": "code",
   "execution_count": 154,
   "id": "9429c108-3344-4532-9be8-7c3762553968",
   "metadata": {
    "tags": []
   },
   "outputs": [],
   "source": [
    "# Function to write the data to .JSON files\n",
    "def write_dicts_to_file(path, data):\n",
    "    with open(path, \"wb\") as fp:\n",
    "        for d in data:\n",
    "            fp.write(json.dumps(d).encode(\"utf-8\"))\n",
    "            fp.write(\"\\n\".encode(\"utf-8\"))"
   ]
  },
  {
   "cell_type": "code",
   "execution_count": 155,
   "id": "dc4e612d-e2d3-4f07-87dd-548738256e41",
   "metadata": {
    "tags": []
   },
   "outputs": [],
   "source": [
    "# Convert the data to a .JSON extension\n",
    "write_dicts_to_file(\"training_data.json\", training_data)\n",
    "write_dicts_to_file(\"validation_data.json\", validation_data)"
   ]
  },
  {
   "cell_type": "code",
   "execution_count": 156,
   "id": "d0d5ffee-0887-4744-83be-8aca94d9b6bc",
   "metadata": {
    "tags": []
   },
   "outputs": [],
   "source": [
    "json_train_bucket = \"{}/json_files/training_data\".format(personal_s3)\n",
    "json_valid_bucket = \"{}/json_files/validation_data\".format(personal_s3)"
   ]
  },
  {
   "cell_type": "markdown",
   "id": "9f3ddd99-348b-4f3e-982a-21c418b996aa",
   "metadata": {
    "tags": []
   },
   "source": [
    "Newly created json files were manually loaded from GtiHub to the personal S3 bucket.\n",
    "\n",
    "PATH to training.json file: _personal_s3_/json_files/training_data/training_data.json\n",
    "\n",
    "PATH to validation.json file: _personal_s3_/json_files/validation_data/validation_data.json"
   ]
  },
  {
   "cell_type": "markdown",
   "id": "95cebfdb-2fef-4c96-9272-cfc7910c6004",
   "metadata": {},
   "source": [
    "## Set up Model"
   ]
  },
  {
   "cell_type": "code",
   "execution_count": 157,
   "id": "a957ed0f-fea0-4b6c-bbf1-f3fbd6e92457",
   "metadata": {
    "tags": []
   },
   "outputs": [],
   "source": [
    "s3_output_path = \"{}/DeepAR_Model/Output\".format(personal_s3)"
   ]
  },
  {
   "cell_type": "code",
   "execution_count": 158,
   "id": "c7ac4111-b793-4c07-aa00-ef3399e0c20d",
   "metadata": {
    "tags": []
   },
   "outputs": [],
   "source": [
    "deepar_estimator = sagemaker.estimator.Estimator(\n",
    "    image_uri = image_name,\n",
    "    sagemaker_session = sagemaker_session,\n",
    "    role = iam_role,\n",
    "    instance_count = 1,\n",
    "    instance_type=\"ml.m5.xlarge\",\n",
    "    base_job_name = \"deepar-train-model\",\n",
    "     output_path = s3_output_path\n",
    ")"
   ]
  },
  {
   "cell_type": "code",
   "execution_count": 159,
   "id": "ad4a78df-704d-4579-80c8-ed9d69631186",
   "metadata": {
    "tags": []
   },
   "outputs": [],
   "source": [
    "# Set up base hyperparameters\n",
    "hyperparameters = {\n",
    "    \"time_freq\" : freq,\n",
    "    #How far back to look to predict, apprx. equal to prediction length\n",
    "    \"context_length\" : str(90), \n",
    "    #There are 91 days in the validation set\n",
    "    \"prediction_length\" : str(91), \n",
    "    \"epochs\" : \"400\",\n",
    "    \"learning_rate\" : \"5E-4\",\n",
    "    \"mini_batch_size\" : \"64\",\n",
    "    \"early_stopping_patience\" : \"40\",\n",
    "    \"num_dynamic_feat\" : \"auto\"\n",
    "}\n",
    "\n",
    "deepar_estimator.set_hyperparameters(**hyperparameters)"
   ]
  },
  {
   "cell_type": "code",
   "execution_count": 160,
   "id": "b70677f2-6418-4115-9749-70fcf4c027b7",
   "metadata": {
    "tags": []
   },
   "outputs": [
    {
     "name": "stderr",
     "output_type": "stream",
     "text": [
      "INFO:sagemaker:Creating training-job with name: deepar-train-model-2023-04-03-17-04-32-432\n"
     ]
    }
   ],
   "source": [
    "# Fit and Train the Model\n",
    "deepar_estimator.fit(\n",
    "    inputs = {\n",
    "        \"train\" : \"{}/json_files/training_data/\".format(personal_s3),\n",
    "        \"test\" : \"{}/json_files/validation_data/\".format(personal_s3)\n",
    "    },\n",
    "    logs = True,\n",
    "    wait = False,\n",
    ")"
   ]
  },
  {
   "cell_type": "code",
   "execution_count": 161,
   "id": "e711e2f8-be31-40ee-b0fd-1a1dc979bfb7",
   "metadata": {
    "tags": []
   },
   "outputs": [
    {
     "name": "stdout",
     "output_type": "stream",
     "text": [
      "Training Job Name:  deepar-train-model-2023-04-03-17-04-32-432\n"
     ]
    }
   ],
   "source": [
    "training_job_name = deepar_estimator.latest_training_job.name\n",
    "print(\"Training Job Name:  {}\".format(training_job_name))"
   ]
  },
  {
   "cell_type": "markdown",
   "id": "bc31f8d7-08b5-42bd-9ef5-c4baeba8ddda",
   "metadata": {},
   "source": [
    "_Note:_ The model takes about 30 minutes to train."
   ]
  },
  {
   "cell_type": "code",
   "execution_count": 162,
   "id": "99e78a93-7e61-40fc-9cef-c5b01a8e4230",
   "metadata": {
    "tags": []
   },
   "outputs": [
    {
     "name": "stdout",
     "output_type": "stream",
     "text": [
      "\n",
      "2023-04-03 17:04:32 Starting - Starting the training job...\n",
      "2023-04-03 17:04:53 Starting - Preparing the instances for training........\n",
      "2023-04-03 17:05:40 Downloading - Downloading input data....\n",
      "2023-04-03 17:06:05 Training - Downloading the training image........\n",
      "2023-04-03 17:06:51 Training - Training image download completed. Training in progress........................................................................................................................................................................................................................................................................\n",
      "2023-04-03 17:29:03 Uploading - Uploading generated training model..\n",
      "2023-04-03 17:29:19 Completed - Training job completed\n"
     ]
    }
   ],
   "source": [
    "deepar_estimator.latest_training_job.wait(logs = False)"
   ]
  },
  {
   "cell_type": "markdown",
   "id": "6c87d46e-2da7-4fde-b477-1dbe9f54a5b5",
   "metadata": {},
   "source": [
    "# View Training and Validation Metrics"
   ]
  },
  {
   "cell_type": "code",
   "execution_count": 163,
   "id": "0d2d579a-eb53-41d6-a769-790b0a222910",
   "metadata": {
    "tags": []
   },
   "outputs": [
    {
     "data": {
      "text/html": [
       "<div>\n",
       "<style scoped>\n",
       "    .dataframe tbody tr th:only-of-type {\n",
       "        vertical-align: middle;\n",
       "    }\n",
       "\n",
       "    .dataframe tbody tr th {\n",
       "        vertical-align: top;\n",
       "    }\n",
       "\n",
       "    .dataframe thead th {\n",
       "        text-align: right;\n",
       "    }\n",
       "</style>\n",
       "<table border=\"1\" class=\"dataframe\">\n",
       "  <thead>\n",
       "    <tr style=\"text-align: right;\">\n",
       "      <th></th>\n",
       "      <th>timestamp</th>\n",
       "      <th>metric_name</th>\n",
       "      <th>value</th>\n",
       "    </tr>\n",
       "  </thead>\n",
       "  <tbody>\n",
       "    <tr>\n",
       "      <th>0</th>\n",
       "      <td>0.0</td>\n",
       "      <td>test:RMSE</td>\n",
       "      <td>0.159672</td>\n",
       "    </tr>\n",
       "    <tr>\n",
       "      <th>1</th>\n",
       "      <td>0.0</td>\n",
       "      <td>train:final_loss</td>\n",
       "      <td>-1.932093</td>\n",
       "    </tr>\n",
       "  </tbody>\n",
       "</table>\n",
       "</div>"
      ],
      "text/plain": [
       "   timestamp       metric_name     value\n",
       "0        0.0         test:RMSE  0.159672\n",
       "1        0.0  train:final_loss -1.932093"
      ]
     },
     "execution_count": 163,
     "metadata": {},
     "output_type": "execute_result"
    }
   ],
   "source": [
    "from sagemaker.analytics import TrainingJobAnalytics\n",
    "\n",
    "training_job_name = training_job_name\n",
    "metric_name = \"test:RMSE\"\n",
    "\n",
    "metrics_dataframe = TrainingJobAnalytics(\n",
    "    training_job_name = training_job_name,\n",
    "    metric_names = [metric_name, \"train:final_loss\"]).dataframe()\n",
    "\n",
    "metrics_dataframe"
   ]
  },
  {
   "cell_type": "markdown",
   "id": "804d87f2-d8aa-4e2b-9080-3ef2f4a1a061",
   "metadata": {
    "tags": []
   },
   "source": [
    "# Create an End Point and Predictor"
   ]
  },
  {
   "cell_type": "markdown",
   "id": "65f4a463-ebc1-44ac-8c30-b831e0b8ff7a",
   "metadata": {},
   "source": [
    "## Create Endpoint\n",
    "A single instance endpoint on a ml.m5.xlarge instance type."
   ]
  },
  {
   "cell_type": "markdown",
   "id": "24ee030d-4750-4ec9-abf3-d24978cb14bc",
   "metadata": {},
   "source": [
    "The following chunk, creating a DeepARPredictor class object, was obtained from the SageMaker DeepAR Demo notebook https://sagemaker-examples.readthedocs.io/en/latest/introduction_to_amazon_algorithms/deepar_electricity/DeepAR-Electricity.html)."
   ]
  },
  {
   "cell_type": "code",
   "execution_count": 165,
   "id": "8f275740-350f-422d-851f-bdadcc476c84",
   "metadata": {
    "tags": []
   },
   "outputs": [],
   "source": [
    "class DeepARPredictor(sagemaker.predictor.Predictor):\n",
    "    def __init__(self, *args, **kwargs):\n",
    "        super().__init__(\n",
    "            *args,\n",
    "            # serializer=JSONSerializer(),\n",
    "            serializer=IdentitySerializer(content_type=\"application/json\"),\n",
    "            **kwargs,\n",
    "        )\n",
    "\n",
    "    def predict(\n",
    "        self,\n",
    "        ts,\n",
    "        cat=None,\n",
    "        dynamic_feat=None,\n",
    "        num_samples=100,\n",
    "        return_samples=False,\n",
    "        quantiles=[\"0.1\", \"0.5\", \"0.9\"],\n",
    "    ):\n",
    "        \"\"\"Requests the prediction of for the time series listed in `ts`, each with the (optional)\n",
    "        corresponding category listed in `cat`.\n",
    "\n",
    "        ts -- `pandas.Series` object, the time series to predict\n",
    "        cat -- integer, the group associated to the time series (default: None)\n",
    "        num_samples -- integer, number of samples to compute at prediction time (default: 100)\n",
    "        return_samples -- boolean indicating whether to include samples in the response (default: False)\n",
    "        quantiles -- list of strings specifying the quantiles to compute (default: [\"0.1\", \"0.5\", \"0.9\"])\n",
    "\n",
    "        Return value: list of `pandas.DataFrame` objects, each containing the predictions\n",
    "        \"\"\"\n",
    "        prediction_time = ts.index[-1] + ts.index.freq\n",
    "        quantiles = [str(q) for q in quantiles]\n",
    "        req = self.__encode_request(ts, cat, dynamic_feat, num_samples, return_samples, quantiles)\n",
    "        res = super(DeepARPredictor, self).predict(req)\n",
    "        return self.__decode_response(res, ts.index.freq, prediction_time, return_samples)\n",
    "\n",
    "    def __encode_request(self, ts, cat, dynamic_feat, num_samples, return_samples, quantiles):\n",
    "        instance = series_to_dict(\n",
    "            ts, cat if cat is not None else None, dynamic_feat if dynamic_feat else None\n",
    "        )\n",
    "\n",
    "        configuration = {\n",
    "            \"num_samples\": num_samples,\n",
    "            \"output_types\": [\"quantiles\", \"samples\"] if return_samples else [\"quantiles\"],\n",
    "            \"quantiles\": quantiles,\n",
    "        }\n",
    "\n",
    "        http_request_data = {\"instances\": [instance], \"configuration\": configuration}\n",
    "\n",
    "        return json.dumps(http_request_data).encode(\"utf-8\")\n",
    "\n",
    "    def __decode_response(self, response, freq, prediction_time, return_samples):\n",
    "        # we only sent one time series so we only receive one in return\n",
    "        # however, if possible one will pass multiple time series as predictions will then be faster\n",
    "        predictions = json.loads(response.decode(\"utf-8\"))[\"predictions\"][0]\n",
    "        prediction_length = len(next(iter(predictions[\"quantiles\"].values())))\n",
    "        prediction_index = pd.date_range(\n",
    "            start=prediction_time, freq=freq, periods=prediction_length\n",
    "        )\n",
    "        if return_samples:\n",
    "            dict_of_samples = {\"sample_\" + str(i): s for i, s in enumerate(predictions[\"samples\"])}\n",
    "        else:\n",
    "            dict_of_samples = {}\n",
    "        return pd.DataFrame(\n",
    "            data={**predictions[\"quantiles\"], **dict_of_samples}, index=prediction_index\n",
    "        )\n",
    "\n",
    "    def set_frequency(self, freq):\n",
    "        self.freq = freq\n",
    "\n",
    "\n",
    "def encode_target(ts):\n",
    "    return [x if np.isfinite(x) else \"NaN\" for x in ts]\n",
    "\n",
    "\n",
    "def series_to_dict(ts, cat=None, dynamic_feat=None):\n",
    "    \"\"\"Given a pandas.Series object, returns a dictionary encoding the time series.\n",
    "\n",
    "    ts -- a pands.Series object with the target time series\n",
    "    cat -- an integer indicating the time series category\n",
    "\n",
    "    Return value: a dictionary\n",
    "    \"\"\"\n",
    "    obj = {\"start\": str(ts.index[0]), \"target\": encode_target(ts)}\n",
    "    if cat is not None:\n",
    "        obj[\"cat\"] = cat\n",
    "    if dynamic_feat is not None:\n",
    "        obj[\"dynamic_feat\"] = dynamic_feat\n",
    "    return obj"
   ]
  },
  {
   "cell_type": "code",
   "execution_count": 166,
   "id": "73714ea7-c7de-424c-ae94-10f50ef404e3",
   "metadata": {
    "tags": []
   },
   "outputs": [
    {
     "name": "stderr",
     "output_type": "stream",
     "text": [
      "INFO:sagemaker:Creating model with name: deepar-train-model-2023-04-03-17-30-35-659\n",
      "INFO:sagemaker:Creating endpoint-config with name deepar-train-model-2023-04-03-17-30-35-659\n",
      "INFO:sagemaker:Creating endpoint with name deepar-train-model-2023-04-03-17-30-35-659\n"
     ]
    },
    {
     "name": "stdout",
     "output_type": "stream",
     "text": [
      "----!"
     ]
    }
   ],
   "source": [
    "deepar_endpoint = deepar_estimator.deploy(\n",
    "    initial_instance_count = 1,\n",
    "    instance_type = \"ml.m5.xlarge\",\n",
    "    predictor_cls = DeepARPredictor\n",
    ")"
   ]
  },
  {
   "cell_type": "markdown",
   "id": "a6015eb7-e103-4f27-9b07-9b211febba8f",
   "metadata": {},
   "source": [
    "# Predict"
   ]
  },
  {
   "cell_type": "code",
   "execution_count": 167,
   "id": "a3fc3b18-083c-411b-bba9-c01d22dc8c03",
   "metadata": {
    "tags": []
   },
   "outputs": [],
   "source": [
    "prediction_valid_data = validation_timeindex\n",
    "\n",
    "# Add an arbitrary id column - acts as an indicator of rows for prediction\n",
    "prediction_valid_data.insert(0, \"Id\", range(0, 0 + len(prediction_valid_data)))\n",
    "# Set the frequency of the index to Days\n",
    "prediction_valid_data.index.freq = \"D\""
   ]
  },
  {
   "cell_type": "code",
   "execution_count": 174,
   "id": "6e7d05c7-b446-48c6-aa77-605474375b5c",
   "metadata": {
    "tags": []
   },
   "outputs": [],
   "source": [
    "# Test Set Predictions\n",
    "test_set_predictions = deepar_endpoint.predict(\n",
    "    ts = prediction_valid_data[\"Id\"],\n",
    "    # Dynamic_feat = Training Range + prediction_length(91 days = validation set)\n",
    "    dynamic_feat = [train_timeindex[\"precio\"].append(prediction_valid_data[\"precio\"]).tolist()],\n",
    "    quantiles = [0.1, 0.5, 0.9],\n",
    ")"
   ]
  },
  {
   "cell_type": "code",
   "execution_count": 183,
   "id": "75ad91cf-81fe-474d-873b-c4f9d8e66fab",
   "metadata": {
    "tags": []
   },
   "outputs": [
    {
     "data": {
      "text/html": [
       "<div>\n",
       "<style scoped>\n",
       "    .dataframe tbody tr th:only-of-type {\n",
       "        vertical-align: middle;\n",
       "    }\n",
       "\n",
       "    .dataframe tbody tr th {\n",
       "        vertical-align: top;\n",
       "    }\n",
       "\n",
       "    .dataframe thead th {\n",
       "        text-align: right;\n",
       "    }\n",
       "</style>\n",
       "<table border=\"1\" class=\"dataframe\">\n",
       "  <thead>\n",
       "    <tr style=\"text-align: right;\">\n",
       "      <th></th>\n",
       "      <th>0.1</th>\n",
       "      <th>0.5</th>\n",
       "      <th>0.9</th>\n",
       "    </tr>\n",
       "  </thead>\n",
       "  <tbody>\n",
       "    <tr>\n",
       "      <th>2013-12-01</th>\n",
       "      <td>38.733883</td>\n",
       "      <td>44.470448</td>\n",
       "      <td>49.011688</td>\n",
       "    </tr>\n",
       "    <tr>\n",
       "      <th>2013-12-02</th>\n",
       "      <td>35.935284</td>\n",
       "      <td>39.588326</td>\n",
       "      <td>42.903229</td>\n",
       "    </tr>\n",
       "    <tr>\n",
       "      <th>2013-12-03</th>\n",
       "      <td>35.739975</td>\n",
       "      <td>39.126102</td>\n",
       "      <td>42.663624</td>\n",
       "    </tr>\n",
       "    <tr>\n",
       "      <th>2013-12-04</th>\n",
       "      <td>32.361252</td>\n",
       "      <td>36.227840</td>\n",
       "      <td>40.071182</td>\n",
       "    </tr>\n",
       "    <tr>\n",
       "      <th>2013-12-05</th>\n",
       "      <td>27.953800</td>\n",
       "      <td>31.979671</td>\n",
       "      <td>35.670059</td>\n",
       "    </tr>\n",
       "    <tr>\n",
       "      <th>...</th>\n",
       "      <td>...</td>\n",
       "      <td>...</td>\n",
       "      <td>...</td>\n",
       "    </tr>\n",
       "    <tr>\n",
       "      <th>2014-02-25</th>\n",
       "      <td>-29.657372</td>\n",
       "      <td>-25.893055</td>\n",
       "      <td>-21.491856</td>\n",
       "    </tr>\n",
       "    <tr>\n",
       "      <th>2014-02-26</th>\n",
       "      <td>-30.506039</td>\n",
       "      <td>-26.783165</td>\n",
       "      <td>-21.744022</td>\n",
       "    </tr>\n",
       "    <tr>\n",
       "      <th>2014-02-27</th>\n",
       "      <td>-31.024557</td>\n",
       "      <td>-26.858809</td>\n",
       "      <td>-22.358946</td>\n",
       "    </tr>\n",
       "    <tr>\n",
       "      <th>2014-02-28</th>\n",
       "      <td>-32.172989</td>\n",
       "      <td>-28.004890</td>\n",
       "      <td>-24.113199</td>\n",
       "    </tr>\n",
       "    <tr>\n",
       "      <th>2014-03-01</th>\n",
       "      <td>-31.948000</td>\n",
       "      <td>-27.911474</td>\n",
       "      <td>-24.068684</td>\n",
       "    </tr>\n",
       "  </tbody>\n",
       "</table>\n",
       "<p>91 rows × 3 columns</p>\n",
       "</div>"
      ],
      "text/plain": [
       "                  0.1        0.5        0.9\n",
       "2013-12-01  38.733883  44.470448  49.011688\n",
       "2013-12-02  35.935284  39.588326  42.903229\n",
       "2013-12-03  35.739975  39.126102  42.663624\n",
       "2013-12-04  32.361252  36.227840  40.071182\n",
       "2013-12-05  27.953800  31.979671  35.670059\n",
       "...               ...        ...        ...\n",
       "2014-02-25 -29.657372 -25.893055 -21.491856\n",
       "2014-02-26 -30.506039 -26.783165 -21.744022\n",
       "2014-02-27 -31.024557 -26.858809 -22.358946\n",
       "2014-02-28 -32.172989 -28.004890 -24.113199\n",
       "2014-03-01 -31.948000 -27.911474 -24.068684\n",
       "\n",
       "[91 rows x 3 columns]"
      ]
     },
     "execution_count": 183,
     "metadata": {},
     "output_type": "execute_result"
    }
   ],
   "source": [
    "test_set_predictions"
   ]
  },
  {
   "cell_type": "code",
   "execution_count": 207,
   "id": "d7382371-63e0-4c5e-a509-6e93755629b9",
   "metadata": {
    "tags": []
   },
   "outputs": [
    {
     "data": {
      "image/png": "[encoded data removed]",
      "text/plain": [
       "<Figure size 640x480 with 1 Axes>"
      ]
     },
     "metadata": {},
     "output_type": "display_data"
    }
   ],
   "source": [
    "plt.plot(test_set_predictions[\"0.9\"],\n",
    "        label = \"0.9 Quantile\")\n",
    "plt.plot(\n",
    "    full_joined_df.loc[full_joined_df[\"Date\"] >= \"2013-12-01\"][\"Date\"],\n",
    "    full_joined_df.loc[full_joined_df[\"Date\"] >= \"2013-12-01\"][\"KWH\"],\n",
    "    label = \"Actual Values\"\n",
    ")\n",
    "\n",
    "plt.xticks(rotation = 45)\n",
    "plt.xlabel(\"Date\")\n",
    "plt.ylabel(\"Energy Consumption (kWh)\")\n",
    "plt.title(\"Energy Consumption Known and Forecasted Values (Dec. 2013 - Mar. 2014)\")\n",
    "plt.legend(bbox_to_anchor = (1.05, 1), loc = \"upper left\", borderaxespad = 0)\n",
    "plt.show();"
   ]
  },
  {
   "cell_type": "markdown",
   "id": "ba378387-30df-4ff3-b3e3-2f9fc0f1f626",
   "metadata": {},
   "source": [
    "# Delete Model and Endpoints"
   ]
  },
  {
   "cell_type": "code",
   "execution_count": null,
   "id": "316d0c1b-2cd5-4701-8991-82e72b8987cf",
   "metadata": {},
   "outputs": [],
   "source": [
    "#deepar_estimator.delete_model()\n",
    "sagemaker_session.delete_endpoint(deepar_endpoint)"
   ]
  },
  {
   "cell_type": "markdown",
   "id": "1b8cd3c6-5eed-4f39-aab8-76b3d35c3013",
   "metadata": {},
   "source": [
    "# Release Resources"
   ]
  },
  {
   "cell_type": "code",
   "execution_count": null,
   "id": "ab532186-793c-4004-94ed-a123f764fa3d",
   "metadata": {},
   "outputs": [],
   "source": [
    "%%html\n",
    "\n",
    "<p><b>Shutting down your kernel for this notebook to release resources.</b></p>\n",
    "<button class=\"sm-command-button\" data-commandlinker-command=\"kernelmenu:shutdown\" style=\"display:none;\">Shutdown Kernel</button>\n",
    "        \n",
    "<script>\n",
    "try {\n",
    "    els = document.getElementsByClassName(\"sm-command-button\");\n",
    "    els[0].click();\n",
    "}\n",
    "catch(err) {\n",
    "    // NoOp\n",
    "}    \n",
    "</script>"
   ]
  },
  {
   "cell_type": "code",
   "execution_count": null,
   "id": "27b22027-d336-4ceb-b567-227a72c5685f",
   "metadata": {
    "tags": []
   },
   "outputs": [],
   "source": [
    "%%javascript\n",
    "\n",
    "try {\n",
    "    Jupyter.notebook.save_checkpoint();\n",
    "    Jupyter.notebook.session.delete();\n",
    "}\n",
    "catch(err) {\n",
    "    // NoOp\n",
    "}"
   ]
  }
 ],
 "metadata": {
  "availableInstances": [
   {
    "_defaultOrder": 0,
    "_isFastLaunch": true,
    "category": "General purpose",
    "gpuNum": 0,
    "hideHardwareSpecs": false,
    "memoryGiB": 4,
    "name": "ml.t3.medium",
    "vcpuNum": 2
   },
   {
    "_defaultOrder": 1,
    "_isFastLaunch": false,
    "category": "General purpose",
    "gpuNum": 0,
    "hideHardwareSpecs": false,
    "memoryGiB": 8,
    "name": "ml.t3.large",
    "vcpuNum": 2
   },
   {
    "_defaultOrder": 2,
    "_isFastLaunch": false,
    "category": "General purpose",
    "gpuNum": 0,
    "hideHardwareSpecs": false,
    "memoryGiB": 16,
    "name": "ml.t3.xlarge",
    "vcpuNum": 4
   },
   {
    "_defaultOrder": 3,
    "_isFastLaunch": false,
    "category": "General purpose",
    "gpuNum": 0,
    "hideHardwareSpecs": false,
    "memoryGiB": 32,
    "name": "ml.t3.2xlarge",
    "vcpuNum": 8
   },
   {
    "_defaultOrder": 4,
    "_isFastLaunch": true,
    "category": "General purpose",
    "gpuNum": 0,
    "hideHardwareSpecs": false,
    "memoryGiB": 8,
    "name": "ml.m5.large",
    "vcpuNum": 2
   },
   {
    "_defaultOrder": 5,
    "_isFastLaunch": false,
    "category": "General purpose",
    "gpuNum": 0,
    "hideHardwareSpecs": false,
    "memoryGiB": 16,
    "name": "ml.m5.xlarge",
    "vcpuNum": 4
   },
   {
    "_defaultOrder": 6,
    "_isFastLaunch": false,
    "category": "General purpose",
    "gpuNum": 0,
    "hideHardwareSpecs": false,
    "memoryGiB": 32,
    "name": "ml.m5.2xlarge",
    "vcpuNum": 8
   },
   {
    "_defaultOrder": 7,
    "_isFastLaunch": false,
    "category": "General purpose",
    "gpuNum": 0,
    "hideHardwareSpecs": false,
    "memoryGiB": 64,
    "name": "ml.m5.4xlarge",
    "vcpuNum": 16
   },
   {
    "_defaultOrder": 8,
    "_isFastLaunch": false,
    "category": "General purpose",
    "gpuNum": 0,
    "hideHardwareSpecs": false,
    "memoryGiB": 128,
    "name": "ml.m5.8xlarge",
    "vcpuNum": 32
   },
   {
    "_defaultOrder": 9,
    "_isFastLaunch": false,
    "category": "General purpose",
    "gpuNum": 0,
    "hideHardwareSpecs": false,
    "memoryGiB": 192,
    "name": "ml.m5.12xlarge",
    "vcpuNum": 48
   },
   {
    "_defaultOrder": 10,
    "_isFastLaunch": false,
    "category": "General purpose",
    "gpuNum": 0,
    "hideHardwareSpecs": false,
    "memoryGiB": 256,
    "name": "ml.m5.16xlarge",
    "vcpuNum": 64
   },
   {
    "_defaultOrder": 11,
    "_isFastLaunch": false,
    "category": "General purpose",
    "gpuNum": 0,
    "hideHardwareSpecs": false,
    "memoryGiB": 384,
    "name": "ml.m5.24xlarge",
    "vcpuNum": 96
   },
   {
    "_defaultOrder": 12,
    "_isFastLaunch": false,
    "category": "General purpose",
    "gpuNum": 0,
    "hideHardwareSpecs": false,
    "memoryGiB": 8,
    "name": "ml.m5d.large",
    "vcpuNum": 2
   },
   {
    "_defaultOrder": 13,
    "_isFastLaunch": false,
    "category": "General purpose",
    "gpuNum": 0,
    "hideHardwareSpecs": false,
    "memoryGiB": 16,
    "name": "ml.m5d.xlarge",
    "vcpuNum": 4
   },
   {
    "_defaultOrder": 14,
    "_isFastLaunch": false,
    "category": "General purpose",
    "gpuNum": 0,
    "hideHardwareSpecs": false,
    "memoryGiB": 32,
    "name": "ml.m5d.2xlarge",
    "vcpuNum": 8
   },
   {
    "_defaultOrder": 15,
    "_isFastLaunch": false,
    "category": "General purpose",
    "gpuNum": 0,
    "hideHardwareSpecs": false,
    "memoryGiB": 64,
    "name": "ml.m5d.4xlarge",
    "vcpuNum": 16
   },
   {
    "_defaultOrder": 16,
    "_isFastLaunch": false,
    "category": "General purpose",
    "gpuNum": 0,
    "hideHardwareSpecs": false,
    "memoryGiB": 128,
    "name": "ml.m5d.8xlarge",
    "vcpuNum": 32
   },
   {
    "_defaultOrder": 17,
    "_isFastLaunch": false,
    "category": "General purpose",
    "gpuNum": 0,
    "hideHardwareSpecs": false,
    "memoryGiB": 192,
    "name": "ml.m5d.12xlarge",
    "vcpuNum": 48
   },
   {
    "_defaultOrder": 18,
    "_isFastLaunch": false,
    "category": "General purpose",
    "gpuNum": 0,
    "hideHardwareSpecs": false,
    "memoryGiB": 256,
    "name": "ml.m5d.16xlarge",
    "vcpuNum": 64
   },
   {
    "_defaultOrder": 19,
    "_isFastLaunch": false,
    "category": "General purpose",
    "gpuNum": 0,
    "hideHardwareSpecs": false,
    "memoryGiB": 384,
    "name": "ml.m5d.24xlarge",
    "vcpuNum": 96
   },
   {
    "_defaultOrder": 20,
    "_isFastLaunch": false,
    "category": "General purpose",
    "gpuNum": 0,
    "hideHardwareSpecs": true,
    "memoryGiB": 0,
    "name": "ml.geospatial.interactive",
    "supportedImageNames": [
     "sagemaker-geospatial-v1-0"
    ],
    "vcpuNum": 0
   },
   {
    "_defaultOrder": 21,
    "_isFastLaunch": true,
    "category": "Compute optimized",
    "gpuNum": 0,
    "hideHardwareSpecs": false,
    "memoryGiB": 4,
    "name": "ml.c5.large",
    "vcpuNum": 2
   },
   {
    "_defaultOrder": 22,
    "_isFastLaunch": false,
    "category": "Compute optimized",
    "gpuNum": 0,
    "hideHardwareSpecs": false,
    "memoryGiB": 8,
    "name": "ml.c5.xlarge",
    "vcpuNum": 4
   },
   {
    "_defaultOrder": 23,
    "_isFastLaunch": false,
    "category": "Compute optimized",
    "gpuNum": 0,
    "hideHardwareSpecs": false,
    "memoryGiB": 16,
    "name": "ml.c5.2xlarge",
    "vcpuNum": 8
   },
   {
    "_defaultOrder": 24,
    "_isFastLaunch": false,
    "category": "Compute optimized",
    "gpuNum": 0,
    "hideHardwareSpecs": false,
    "memoryGiB": 32,
    "name": "ml.c5.4xlarge",
    "vcpuNum": 16
   },
   {
    "_defaultOrder": 25,
    "_isFastLaunch": false,
    "category": "Compute optimized",
    "gpuNum": 0,
    "hideHardwareSpecs": false,
    "memoryGiB": 72,
    "name": "ml.c5.9xlarge",
    "vcpuNum": 36
   },
   {
    "_defaultOrder": 26,
    "_isFastLaunch": false,
    "category": "Compute optimized",
    "gpuNum": 0,
    "hideHardwareSpecs": false,
    "memoryGiB": 96,
    "name": "ml.c5.12xlarge",
    "vcpuNum": 48
   },
   {
    "_defaultOrder": 27,
    "_isFastLaunch": false,
    "category": "Compute optimized",
    "gpuNum": 0,
    "hideHardwareSpecs": false,
    "memoryGiB": 144,
    "name": "ml.c5.18xlarge",
    "vcpuNum": 72
   },
   {
    "_defaultOrder": 28,
    "_isFastLaunch": false,
    "category": "Compute optimized",
    "gpuNum": 0,
    "hideHardwareSpecs": false,
    "memoryGiB": 192,
    "name": "ml.c5.24xlarge",
    "vcpuNum": 96
   },
   {
    "_defaultOrder": 29,
    "_isFastLaunch": true,
    "category": "Accelerated computing",
    "gpuNum": 1,
    "hideHardwareSpecs": false,
    "memoryGiB": 16,
    "name": "ml.g4dn.xlarge",
    "vcpuNum": 4
   },
   {
    "_defaultOrder": 30,
    "_isFastLaunch": false,
    "category": "Accelerated computing",
    "gpuNum": 1,
    "hideHardwareSpecs": false,
    "memoryGiB": 32,
    "name": "ml.g4dn.2xlarge",
    "vcpuNum": 8
   },
   {
    "_defaultOrder": 31,
    "_isFastLaunch": false,
    "category": "Accelerated computing",
    "gpuNum": 1,
    "hideHardwareSpecs": false,
    "memoryGiB": 64,
    "name": "ml.g4dn.4xlarge",
    "vcpuNum": 16
   },
   {
    "_defaultOrder": 32,
    "_isFastLaunch": false,
    "category": "Accelerated computing",
    "gpuNum": 1,
    "hideHardwareSpecs": false,
    "memoryGiB": 128,
    "name": "ml.g4dn.8xlarge",
    "vcpuNum": 32
   },
   {
    "_defaultOrder": 33,
    "_isFastLaunch": false,
    "category": "Accelerated computing",
    "gpuNum": 4,
    "hideHardwareSpecs": false,
    "memoryGiB": 192,
    "name": "ml.g4dn.12xlarge",
    "vcpuNum": 48
   },
   {
    "_defaultOrder": 34,
    "_isFastLaunch": false,
    "category": "Accelerated computing",
    "gpuNum": 1,
    "hideHardwareSpecs": false,
    "memoryGiB": 256,
    "name": "ml.g4dn.16xlarge",
    "vcpuNum": 64
   },
   {
    "_defaultOrder": 35,
    "_isFastLaunch": false,
    "category": "Accelerated computing",
    "gpuNum": 1,
    "hideHardwareSpecs": false,
    "memoryGiB": 61,
    "name": "ml.p3.2xlarge",
    "vcpuNum": 8
   },
   {
    "_defaultOrder": 36,
    "_isFastLaunch": false,
    "category": "Accelerated computing",
    "gpuNum": 4,
    "hideHardwareSpecs": false,
    "memoryGiB": 244,
    "name": "ml.p3.8xlarge",
    "vcpuNum": 32
   },
   {
    "_defaultOrder": 37,
    "_isFastLaunch": false,
    "category": "Accelerated computing",
    "gpuNum": 8,
    "hideHardwareSpecs": false,
    "memoryGiB": 488,
    "name": "ml.p3.16xlarge",
    "vcpuNum": 64
   },
   {
    "_defaultOrder": 38,
    "_isFastLaunch": false,
    "category": "Accelerated computing",
    "gpuNum": 8,
    "hideHardwareSpecs": false,
    "memoryGiB": 768,
    "name": "ml.p3dn.24xlarge",
    "vcpuNum": 96
   },
   {
    "_defaultOrder": 39,
    "_isFastLaunch": false,
    "category": "Memory Optimized",
    "gpuNum": 0,
    "hideHardwareSpecs": false,
    "memoryGiB": 16,
    "name": "ml.r5.large",
    "vcpuNum": 2
   },
   {
    "_defaultOrder": 40,
    "_isFastLaunch": false,
    "category": "Memory Optimized",
    "gpuNum": 0,
    "hideHardwareSpecs": false,
    "memoryGiB": 32,
    "name": "ml.r5.xlarge",
    "vcpuNum": 4
   },
   {
    "_defaultOrder": 41,
    "_isFastLaunch": false,
    "category": "Memory Optimized",
    "gpuNum": 0,
    "hideHardwareSpecs": false,
    "memoryGiB": 64,
    "name": "ml.r5.2xlarge",
    "vcpuNum": 8
   },
   {
    "_defaultOrder": 42,
    "_isFastLaunch": false,
    "category": "Memory Optimized",
    "gpuNum": 0,
    "hideHardwareSpecs": false,
    "memoryGiB": 128,
    "name": "ml.r5.4xlarge",
    "vcpuNum": 16
   },
   {
    "_defaultOrder": 43,
    "_isFastLaunch": false,
    "category": "Memory Optimized",
    "gpuNum": 0,
    "hideHardwareSpecs": false,
    "memoryGiB": 256,
    "name": "ml.r5.8xlarge",
    "vcpuNum": 32
   },
   {
    "_defaultOrder": 44,
    "_isFastLaunch": false,
    "category": "Memory Optimized",
    "gpuNum": 0,
    "hideHardwareSpecs": false,
    "memoryGiB": 384,
    "name": "ml.r5.12xlarge",
    "vcpuNum": 48
   },
   {
    "_defaultOrder": 45,
    "_isFastLaunch": false,
    "category": "Memory Optimized",
    "gpuNum": 0,
    "hideHardwareSpecs": false,
    "memoryGiB": 512,
    "name": "ml.r5.16xlarge",
    "vcpuNum": 64
   },
   {
    "_defaultOrder": 46,
    "_isFastLaunch": false,
    "category": "Memory Optimized",
    "gpuNum": 0,
    "hideHardwareSpecs": false,
    "memoryGiB": 768,
    "name": "ml.r5.24xlarge",
    "vcpuNum": 96
   },
   {
    "_defaultOrder": 47,
    "_isFastLaunch": false,
    "category": "Accelerated computing",
    "gpuNum": 1,
    "hideHardwareSpecs": false,
    "memoryGiB": 16,
    "name": "ml.g5.xlarge",
    "vcpuNum": 4
   },
   {
    "_defaultOrder": 48,
    "_isFastLaunch": false,
    "category": "Accelerated computing",
    "gpuNum": 1,
    "hideHardwareSpecs": false,
    "memoryGiB": 32,
    "name": "ml.g5.2xlarge",
    "vcpuNum": 8
   },
   {
    "_defaultOrder": 49,
    "_isFastLaunch": false,
    "category": "Accelerated computing",
    "gpuNum": 1,
    "hideHardwareSpecs": false,
    "memoryGiB": 64,
    "name": "ml.g5.4xlarge",
    "vcpuNum": 16
   },
   {
    "_defaultOrder": 50,
    "_isFastLaunch": false,
    "category": "Accelerated computing",
    "gpuNum": 1,
    "hideHardwareSpecs": false,
    "memoryGiB": 128,
    "name": "ml.g5.8xlarge",
    "vcpuNum": 32
   },
   {
    "_defaultOrder": 51,
    "_isFastLaunch": false,
    "category": "Accelerated computing",
    "gpuNum": 1,
    "hideHardwareSpecs": false,
    "memoryGiB": 256,
    "name": "ml.g5.16xlarge",
    "vcpuNum": 64
   },
   {
    "_defaultOrder": 52,
    "_isFastLaunch": false,
    "category": "Accelerated computing",
    "gpuNum": 4,
    "hideHardwareSpecs": false,
    "memoryGiB": 192,
    "name": "ml.g5.12xlarge",
    "vcpuNum": 48
   },
   {
    "_defaultOrder": 53,
    "_isFastLaunch": false,
    "category": "Accelerated computing",
    "gpuNum": 4,
    "hideHardwareSpecs": false,
    "memoryGiB": 384,
    "name": "ml.g5.24xlarge",
    "vcpuNum": 96
   },
   {
    "_defaultOrder": 54,
    "_isFastLaunch": false,
    "category": "Accelerated computing",
    "gpuNum": 8,
    "hideHardwareSpecs": false,
    "memoryGiB": 768,
    "name": "ml.g5.48xlarge",
    "vcpuNum": 192
   }
  ],
  "instance_type": "ml.m5.large",
  "kernelspec": {
   "display_name": "Python 3 (Data Science)",
   "language": "python",
   "name": "python3__SAGEMAKER_INTERNAL__arn:aws:sagemaker:us-east-1:081325390199:image/datascience-1.0"
  },
  "language_info": {
   "codemirror_mode": {
    "name": "ipython",
    "version": 3
   },
   "file_extension": ".py",
   "mimetype": "text/x-python",
   "name": "python",
   "nbconvert_exporter": "python",
   "pygments_lexer": "ipython3",
   "version": "3.7.10"
  }
 },
 "nbformat": 4,
 "nbformat_minor": 5
}
