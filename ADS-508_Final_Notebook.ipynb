{
 "cells": [
  {
   "cell_type": "markdown",
   "id": "c7aecc3a-fb92-43ff-86ab-344f646120a3",
   "metadata": {},
   "source": [
    "# Import Needed Packages"
   ]
  },
  {
   "cell_type": "code",
   "execution_count": 13,
   "id": "c5dce68d-b91b-4f80-85f7-446063e13803",
   "metadata": {
    "tags": []
   },
   "outputs": [],
   "source": [
    "import boto3\n",
    "import sagemaker\n",
    "from pyathena import connect\n",
    "\n",
    "import pandas as pd\n",
    "import matplotlib.pyplot as plt\n",
    "import seaborn as sns"
   ]
  },
  {
   "cell_type": "markdown",
   "id": "d05e133d-1a41-45a6-a556-0010b9cb1ffb",
   "metadata": {},
   "source": [
    "# Connect to S3 Bucket"
   ]
  },
  {
   "cell_type": "code",
   "execution_count": 3,
   "id": "285fb3f3-23bb-4cc9-b5a6-a3528660151e",
   "metadata": {
    "tags": []
   },
   "outputs": [],
   "source": [
    "from sagemaker import get_execution_role\n",
    "\n",
    "# Get execution permissions\n",
    "iam_role = get_execution_role()"
   ]
  },
  {
   "cell_type": "code",
   "execution_count": 93,
   "id": "13ce3b2a-a121-4f1b-94c5-5a5470aa5c3b",
   "metadata": {
    "tags": []
   },
   "outputs": [],
   "source": [
    "# Specify Bucket Name\n",
    "bucket_name = \"ads-508-spring2023-team3\"\n",
    "\n",
    "# Set up session parameters\n",
    "session = boto3.session.Session()\n",
    "region = session.region_name\n",
    "sagemaker_session = sagemaker.Session()\n",
    "personal_bucket = sagemaker_session.default_bucket()\n",
    "\n",
    "# Establish an S3 connection\n",
    "s3 = boto3.Session().client(service_name=\"s3\", region_name=region)"
   ]
  },
  {
   "cell_type": "code",
   "execution_count": 136,
   "id": "5384b0d2-ba2d-443d-b2b8-f8e1089ec9ef",
   "metadata": {
    "tags": []
   },
   "outputs": [],
   "source": [
    "# Set path to buckets (raw data and new personal bucket)\n",
    "data_location = 's3://{}'.format(bucket_name)\n",
    "personal_s3 = \"s3://{}/london_data/csv_files\".format(personal_bucket)"
   ]
  },
  {
   "cell_type": "code",
   "execution_count": 96,
   "id": "2e98dd39-8d6d-4209-a2cd-b580a7f36eeb",
   "metadata": {
    "tags": []
   },
   "outputs": [
    {
     "name": "stdout",
     "output_type": "stream",
     "text": [
      "Connected to bucket successfully!\n",
      "\n"
     ]
    }
   ],
   "source": [
    "# Check if connection was successfully established\n",
    "try:\n",
    "    bucket_contents = s3.list_objects(Bucket = bucket_name)[\"Contents\"]\n",
    "    print(\"Connected to bucket successfully!\\n\")\n",
    "    #print(\"Files in S3 bucket:\")\n",
    "    #for i in bucket_contents:\n",
    "        #print(i[\"Key\"])\n",
    "except:\n",
    "    # If connection failed, print error message\n",
    "    print(\"##### ERROR #####\")\n",
    "    print(\"Could NOT connect to bucket: {} ({})\".format(bucket_name, data_location))"
   ]
  },
  {
   "cell_type": "code",
   "execution_count": 104,
   "id": "ce385cfd-a0b5-4486-ba5b-0b1172dfd4ec",
   "metadata": {
    "tags": []
   },
   "outputs": [],
   "source": [
    "# Create Unique Paths for Each CSV File\n",
    "hourly_market_data_path = personal_s3 + \"/Hourly_European_Market_Data.csv\"\n",
    "london_energy_path = personal_s3 + \"/London_Energy.csv\"\n",
    "london_weather_path = personal_s3 + \"/London_Weather_1979_2021.csv\""
   ]
  },
  {
   "cell_type": "markdown",
   "id": "2c5bd87d-9f93-44b7-94d9-35cca0e64a89",
   "metadata": {},
   "source": [
    "# Copy Raw CSV Files to Personal S3 Bucket"
   ]
  },
  {
   "cell_type": "code",
   "execution_count": 102,
   "id": "b96e80d1-3b94-4f36-8c32-3bf5d34549c8",
   "metadata": {
    "tags": []
   },
   "outputs": [
    {
     "name": "stdout",
     "output_type": "stream",
     "text": [
      "copy: s3://ads-508-spring2023-team3/Hourly_European_Market_Data.csv to s3://sagemaker-us-east-1-510267762309/london_data/csv_files/Hourly_European_Market_Data.csv\n",
      "copy: s3://ads-508-spring2023-team3/London_Energy.csv to s3://sagemaker-us-east-1-510267762309/london_data/csv_files/London_Energy.csv\n",
      "copy: s3://ads-508-spring2023-team3/London_Weather_1979_2021.csv to s3://sagemaker-us-east-1-510267762309/london_data/csv_files/London_Weather_1979_2021.csv\n"
     ]
    }
   ],
   "source": [
    "!aws s3 cp --recursive $data_location/ $personal_s3/ --exclude \"*\" --include \"Hourly_European_Market_Data.csv\"\n",
    "!aws s3 cp --recursive $data_location/ $personal_s3/ --exclude \"*\" --include \"London_Energy.csv\"\n",
    "!aws s3 cp --recursive $data_location/ $personal_s3/ --exclude \"*\" --include \"London_Weather_1979_2021.csv\""
   ]
  },
  {
   "cell_type": "code",
   "execution_count": 103,
   "id": "20d2adc6-9174-453e-aae5-3ea9081fbbd4",
   "metadata": {
    "tags": []
   },
   "outputs": [
    {
     "name": "stdout",
     "output_type": "stream",
     "text": [
      "2023-03-15 06:05:34  105185070 Hourly_European_Market_Data.csv\n",
      "2023-03-15 06:05:36   95649585 London_Energy.csv\n",
      "2023-03-15 06:05:38     814426 London_Weather_1979_2021.csv\n"
     ]
    }
   ],
   "source": [
    "# Confirm that CSV files were copied to personal S3 bucket\n",
    "!aws s3 ls $personal_s3/"
   ]
  },
  {
   "cell_type": "markdown",
   "id": "2e3c9012-459d-4ad1-a48e-136727eab5a8",
   "metadata": {},
   "source": [
    "# Create Athena Database"
   ]
  },
  {
   "cell_type": "code",
   "execution_count": 14,
   "id": "33c10661-fbe1-4c56-8ecf-19a3a09cc765",
   "metadata": {
    "tags": []
   },
   "outputs": [],
   "source": [
    "database_name = \"london_data\""
   ]
  },
  {
   "cell_type": "code",
   "execution_count": 137,
   "id": "09e71ee9-19f2-4e92-8547-5e08bb844190",
   "metadata": {
    "tags": []
   },
   "outputs": [],
   "source": [
    "# Create a staging S3 directory - a temporary directory for querying\n",
    "stage_dir = \"s3://{}/athena/staging\".format(personal_bucket)"
   ]
  },
  {
   "cell_type": "code",
   "execution_count": 138,
   "id": "da29b63b-3135-49b3-8eb0-357494f7423b",
   "metadata": {
    "tags": []
   },
   "outputs": [
    {
     "name": "stdout",
     "output_type": "stream",
     "text": [
      "Connected to S3 staging directory!\n"
     ]
    }
   ],
   "source": [
    "# Connect to Staging Directory\n",
    "try:\n",
    "    pyathena_conn = connect(\n",
    "        region_name = region, \n",
    "        s3_staging_dir = stage_dir)\n",
    "    print(\"Connected to S3 staging directory!\")\n",
    "except:\n",
    "    print(\"##### ERROR #####\")\n",
    "    print(\"##### Could NOT connect to S3 staging directory #####\")"
   ]
  },
  {
   "cell_type": "code",
   "execution_count": 139,
   "id": "f89442fa-d3e0-466e-bb21-b60f2c82595c",
   "metadata": {
    "tags": []
   },
   "outputs": [
    {
     "name": "stdout",
     "output_type": "stream",
     "text": [
      "Database london_data succesfully created!\n",
      "  database_name\n",
      "0       default\n",
      "1        dsoaws\n",
      "2   london_data\n"
     ]
    }
   ],
   "source": [
    "# Create new Database - Print an error if there is a failure\n",
    "try:\n",
    "    sql_statement = \"CREATE DATABASE IF NOT EXISTS {}\".format(database_name)\n",
    "    pd.read_sql(sql_statement, pyathena_conn)\n",
    "    print(\"Database {} succesfully created!\".format(database_name))\n",
    "    sql_statement = \"SHOW DATABASES\"\n",
    "    df_show = pd.read_sql(sql_statement, pyathena_conn)\n",
    "    print(df_show.head(5))\n",
    "except:\n",
    "    print(\"##### ERROR #####\")\n",
    "    print(\"##### Could NOT create database #####\")\n"
   ]
  },
  {
   "cell_type": "markdown",
   "id": "65f2ecc5-220a-46d8-8bcf-bda909898397",
   "metadata": {},
   "source": [
    "## Create Tables from CSV files\n",
    "- Hourly_European_Market_Data.csv hourly_market_data_path \n",
    "- London_Energy.csv london_energy_path\n",
    "- London_Weather_1979_2021.csv london_weather_path"
   ]
  },
  {
   "cell_type": "code",
   "execution_count": 140,
   "id": "9345385f-b63c-4060-925c-dda22341d08c",
   "metadata": {
    "tags": []
   },
   "outputs": [
    {
     "data": {
      "text/html": [
       "<div>\n",
       "<style scoped>\n",
       "    .dataframe tbody tr th:only-of-type {\n",
       "        vertical-align: middle;\n",
       "    }\n",
       "\n",
       "    .dataframe tbody tr th {\n",
       "        vertical-align: top;\n",
       "    }\n",
       "\n",
       "    .dataframe thead th {\n",
       "        text-align: right;\n",
       "    }\n",
       "</style>\n",
       "<table border=\"1\" class=\"dataframe\">\n",
       "  <thead>\n",
       "    <tr style=\"text-align: right;\">\n",
       "      <th></th>\n",
       "    </tr>\n",
       "  </thead>\n",
       "  <tbody>\n",
       "  </tbody>\n",
       "</table>\n",
       "</div>"
      ],
      "text/plain": [
       "Empty DataFrame\n",
       "Columns: []\n",
       "Index: []"
      ]
     },
     "execution_count": 140,
     "metadata": {},
     "output_type": "execute_result"
    }
   ],
   "source": [
    "# SQL Create Table State from Hourly Market Data CSV\n",
    "table_name = \"hourly_european_market_data_csv\"\n",
    "\n",
    "csv_table_statement = \"\"\"\n",
    "    CREATE EXTERNAL TABLE IF NOT EXISTS {}.{}(\n",
    "        id int,\n",
    "        fecha date,\n",
    "        hora int,\n",
    "        sistema\tstring,\n",
    "        bandera\tstring,\n",
    "        precio float,\n",
    "        tipo_moneda\tstring,\n",
    "        origen_dato\tstring,\n",
    "        fecha_actualizacion\ttimestamp\n",
    "    )\n",
    "    ROW FORMAT DELIMITED FIELDS TERMINATED BY ','\n",
    "    LINES TERMINATED BY '\\n'\n",
    "    LOCATION '{}'\n",
    "    TBLPROPERTIES ('skip.header.line.count'='1')\n",
    "    \"\"\".format(database_name, table_name, hourly_market_data_path)\n",
    "\n",
    "# Execute Create Table Statement\n",
    "pd.read_sql(csv_table_statement, pyathena_conn)"
   ]
  },
  {
   "cell_type": "code",
   "execution_count": 141,
   "id": "e91e38a5-d8a3-48bb-9fb8-cf1261b0e58d",
   "metadata": {
    "tags": []
   },
   "outputs": [
    {
     "data": {
      "text/html": [
       "<div>\n",
       "<style scoped>\n",
       "    .dataframe tbody tr th:only-of-type {\n",
       "        vertical-align: middle;\n",
       "    }\n",
       "\n",
       "    .dataframe tbody tr th {\n",
       "        vertical-align: top;\n",
       "    }\n",
       "\n",
       "    .dataframe thead th {\n",
       "        text-align: right;\n",
       "    }\n",
       "</style>\n",
       "<table border=\"1\" class=\"dataframe\">\n",
       "  <thead>\n",
       "    <tr style=\"text-align: right;\">\n",
       "      <th></th>\n",
       "      <th>tab_name</th>\n",
       "    </tr>\n",
       "  </thead>\n",
       "  <tbody>\n",
       "    <tr>\n",
       "      <th>0</th>\n",
       "      <td>hourly_european_market_data_csv</td>\n",
       "    </tr>\n",
       "  </tbody>\n",
       "</table>\n",
       "</div>"
      ],
      "text/plain": [
       "                          tab_name\n",
       "0  hourly_european_market_data_csv"
      ]
     },
     "execution_count": 141,
     "metadata": {},
     "output_type": "execute_result"
    }
   ],
   "source": [
    "statement = \"SHOW TABLES in {}\".format(database_name)\n",
    "\n",
    "df_show = pd.read_sql(statement, pyathena_conn)\n",
    "df_show.head(5)"
   ]
  },
  {
   "cell_type": "code",
   "execution_count": 142,
   "id": "1aebddb4-6986-42d6-80ce-b71bf90b1f38",
   "metadata": {
    "tags": []
   },
   "outputs": [
    {
     "data": {
      "text/html": [
       "<div>\n",
       "<style scoped>\n",
       "    .dataframe tbody tr th:only-of-type {\n",
       "        vertical-align: middle;\n",
       "    }\n",
       "\n",
       "    .dataframe tbody tr th {\n",
       "        vertical-align: top;\n",
       "    }\n",
       "\n",
       "    .dataframe thead th {\n",
       "        text-align: right;\n",
       "    }\n",
       "</style>\n",
       "<table border=\"1\" class=\"dataframe\">\n",
       "  <thead>\n",
       "    <tr style=\"text-align: right;\">\n",
       "      <th></th>\n",
       "      <th>id</th>\n",
       "      <th>fecha</th>\n",
       "      <th>hora</th>\n",
       "      <th>sistema</th>\n",
       "      <th>bandera</th>\n",
       "      <th>precio</th>\n",
       "      <th>tipo_moneda</th>\n",
       "      <th>origen_dato</th>\n",
       "      <th>fecha_actualizacion</th>\n",
       "    </tr>\n",
       "  </thead>\n",
       "  <tbody>\n",
       "  </tbody>\n",
       "</table>\n",
       "</div>"
      ],
      "text/plain": [
       "Empty DataFrame\n",
       "Columns: [id, fecha, hora, sistema, bandera, precio, tipo_moneda, origen_dato, fecha_actualizacion]\n",
       "Index: []"
      ]
     },
     "execution_count": 142,
     "metadata": {},
     "output_type": "execute_result"
    }
   ],
   "source": [
    "query = \"\"\"\n",
    "    SELECT *\n",
    "    FROM {}.{}\n",
    "    LIMIT 3\n",
    "    \"\"\".format(database_name, \"hourly_european_market_data_csv\")\n",
    "\n",
    "pd.read_sql(query, pyathena_conn)"
   ]
  },
  {
   "cell_type": "raw",
   "id": "acb845a6-6c7f-4be4-8541-ff2fb65aca65",
   "metadata": {
    "tags": []
   },
   "source": [
    "query = \"\"\"\n",
    "    DROP TABLE {}.{}\n",
    "    \"\"\".format(database_name, \"hourly_european_market_data_csv\")\n",
    "\n",
    "pd.read_sql(query, pyathena_conn)"
   ]
  },
  {
   "cell_type": "markdown",
   "id": "bde6fe00-3ee5-4faf-86bc-0ef687ef92a2",
   "metadata": {},
   "source": [
    "- Ingest raw data to Athena and trim the data to all be within the same time frame\n",
    "- Export the data back out to S3"
   ]
  },
  {
   "cell_type": "markdown",
   "id": "1b8cd3c6-5eed-4f39-aab8-76b3d35c3013",
   "metadata": {},
   "source": [
    "# Release Resources"
   ]
  },
  {
   "cell_type": "code",
   "execution_count": 26,
   "id": "ab532186-793c-4004-94ed-a123f764fa3d",
   "metadata": {},
   "outputs": [
    {
     "data": {
      "text/html": [
       "\n",
       "<p><b>Shutting down your kernel for this notebook to release resources.</b></p>\n",
       "<button class=\"sm-command-button\" data-commandlinker-command=\"kernelmenu:shutdown\" style=\"display:none;\">Shutdown Kernel</button>\n",
       "        \n",
       "<script>\n",
       "try {\n",
       "    els = document.getElementsByClassName(\"sm-command-button\");\n",
       "    els[0].click();\n",
       "}\n",
       "catch(err) {\n",
       "    // NoOp\n",
       "}    \n",
       "</script>\n"
      ],
      "text/plain": [
       "<IPython.core.display.HTML object>"
      ]
     },
     "metadata": {},
     "output_type": "display_data"
    }
   ],
   "source": [
    "%%html\n",
    "\n",
    "<p><b>Shutting down your kernel for this notebook to release resources.</b></p>\n",
    "<button class=\"sm-command-button\" data-commandlinker-command=\"kernelmenu:shutdown\" style=\"display:none;\">Shutdown Kernel</button>\n",
    "        \n",
    "<script>\n",
    "try {\n",
    "    els = document.getElementsByClassName(\"sm-command-button\");\n",
    "    els[0].click();\n",
    "}\n",
    "catch(err) {\n",
    "    // NoOp\n",
    "}    \n",
    "</script>"
   ]
  },
  {
   "cell_type": "code",
   "execution_count": 27,
   "id": "27b22027-d336-4ceb-b567-227a72c5685f",
   "metadata": {
    "tags": []
   },
   "outputs": [
    {
     "data": {
      "application/javascript": [
       "\n",
       "try {\n",
       "    Jupyter.notebook.save_checkpoint();\n",
       "    Jupyter.notebook.session.delete();\n",
       "}\n",
       "catch(err) {\n",
       "    // NoOp\n",
       "}\n"
      ],
      "text/plain": [
       "<IPython.core.display.Javascript object>"
      ]
     },
     "metadata": {},
     "output_type": "display_data"
    }
   ],
   "source": [
    "%%javascript\n",
    "\n",
    "try {\n",
    "    Jupyter.notebook.save_checkpoint();\n",
    "    Jupyter.notebook.session.delete();\n",
    "}\n",
    "catch(err) {\n",
    "    // NoOp\n",
    "}"
   ]
  }
 ],
 "metadata": {
  "availableInstances": [
   {
    "_defaultOrder": 0,
    "_isFastLaunch": true,
    "category": "General purpose",
    "gpuNum": 0,
    "memoryGiB": 4,
    "name": "ml.t3.medium",
    "vcpuNum": 2
   },
   {
    "_defaultOrder": 1,
    "_isFastLaunch": false,
    "category": "General purpose",
    "gpuNum": 0,
    "memoryGiB": 8,
    "name": "ml.t3.large",
    "vcpuNum": 2
   },
   {
    "_defaultOrder": 2,
    "_isFastLaunch": false,
    "category": "General purpose",
    "gpuNum": 0,
    "memoryGiB": 16,
    "name": "ml.t3.xlarge",
    "vcpuNum": 4
   },
   {
    "_defaultOrder": 3,
    "_isFastLaunch": false,
    "category": "General purpose",
    "gpuNum": 0,
    "memoryGiB": 32,
    "name": "ml.t3.2xlarge",
    "vcpuNum": 8
   },
   {
    "_defaultOrder": 4,
    "_isFastLaunch": true,
    "category": "General purpose",
    "gpuNum": 0,
    "memoryGiB": 8,
    "name": "ml.m5.large",
    "vcpuNum": 2
   },
   {
    "_defaultOrder": 5,
    "_isFastLaunch": false,
    "category": "General purpose",
    "gpuNum": 0,
    "memoryGiB": 16,
    "name": "ml.m5.xlarge",
    "vcpuNum": 4
   },
   {
    "_defaultOrder": 6,
    "_isFastLaunch": false,
    "category": "General purpose",
    "gpuNum": 0,
    "memoryGiB": 32,
    "name": "ml.m5.2xlarge",
    "vcpuNum": 8
   },
   {
    "_defaultOrder": 7,
    "_isFastLaunch": false,
    "category": "General purpose",
    "gpuNum": 0,
    "memoryGiB": 64,
    "name": "ml.m5.4xlarge",
    "vcpuNum": 16
   },
   {
    "_defaultOrder": 8,
    "_isFastLaunch": false,
    "category": "General purpose",
    "gpuNum": 0,
    "memoryGiB": 128,
    "name": "ml.m5.8xlarge",
    "vcpuNum": 32
   },
   {
    "_defaultOrder": 9,
    "_isFastLaunch": false,
    "category": "General purpose",
    "gpuNum": 0,
    "memoryGiB": 192,
    "name": "ml.m5.12xlarge",
    "vcpuNum": 48
   },
   {
    "_defaultOrder": 10,
    "_isFastLaunch": false,
    "category": "General purpose",
    "gpuNum": 0,
    "memoryGiB": 256,
    "name": "ml.m5.16xlarge",
    "vcpuNum": 64
   },
   {
    "_defaultOrder": 11,
    "_isFastLaunch": false,
    "category": "General purpose",
    "gpuNum": 0,
    "memoryGiB": 384,
    "name": "ml.m5.24xlarge",
    "vcpuNum": 96
   },
   {
    "_defaultOrder": 12,
    "_isFastLaunch": false,
    "category": "General purpose",
    "gpuNum": 0,
    "memoryGiB": 8,
    "name": "ml.m5d.large",
    "vcpuNum": 2
   },
   {
    "_defaultOrder": 13,
    "_isFastLaunch": false,
    "category": "General purpose",
    "gpuNum": 0,
    "memoryGiB": 16,
    "name": "ml.m5d.xlarge",
    "vcpuNum": 4
   },
   {
    "_defaultOrder": 14,
    "_isFastLaunch": false,
    "category": "General purpose",
    "gpuNum": 0,
    "memoryGiB": 32,
    "name": "ml.m5d.2xlarge",
    "vcpuNum": 8
   },
   {
    "_defaultOrder": 15,
    "_isFastLaunch": false,
    "category": "General purpose",
    "gpuNum": 0,
    "memoryGiB": 64,
    "name": "ml.m5d.4xlarge",
    "vcpuNum": 16
   },
   {
    "_defaultOrder": 16,
    "_isFastLaunch": false,
    "category": "General purpose",
    "gpuNum": 0,
    "memoryGiB": 128,
    "name": "ml.m5d.8xlarge",
    "vcpuNum": 32
   },
   {
    "_defaultOrder": 17,
    "_isFastLaunch": false,
    "category": "General purpose",
    "gpuNum": 0,
    "memoryGiB": 192,
    "name": "ml.m5d.12xlarge",
    "vcpuNum": 48
   },
   {
    "_defaultOrder": 18,
    "_isFastLaunch": false,
    "category": "General purpose",
    "gpuNum": 0,
    "memoryGiB": 256,
    "name": "ml.m5d.16xlarge",
    "vcpuNum": 64
   },
   {
    "_defaultOrder": 19,
    "_isFastLaunch": false,
    "category": "General purpose",
    "gpuNum": 0,
    "memoryGiB": 384,
    "name": "ml.m5d.24xlarge",
    "vcpuNum": 96
   },
   {
    "_defaultOrder": 20,
    "_isFastLaunch": true,
    "category": "Compute optimized",
    "gpuNum": 0,
    "memoryGiB": 4,
    "name": "ml.c5.large",
    "vcpuNum": 2
   },
   {
    "_defaultOrder": 21,
    "_isFastLaunch": false,
    "category": "Compute optimized",
    "gpuNum": 0,
    "memoryGiB": 8,
    "name": "ml.c5.xlarge",
    "vcpuNum": 4
   },
   {
    "_defaultOrder": 22,
    "_isFastLaunch": false,
    "category": "Compute optimized",
    "gpuNum": 0,
    "memoryGiB": 16,
    "name": "ml.c5.2xlarge",
    "vcpuNum": 8
   },
   {
    "_defaultOrder": 23,
    "_isFastLaunch": false,
    "category": "Compute optimized",
    "gpuNum": 0,
    "memoryGiB": 32,
    "name": "ml.c5.4xlarge",
    "vcpuNum": 16
   },
   {
    "_defaultOrder": 24,
    "_isFastLaunch": false,
    "category": "Compute optimized",
    "gpuNum": 0,
    "memoryGiB": 72,
    "name": "ml.c5.9xlarge",
    "vcpuNum": 36
   },
   {
    "_defaultOrder": 25,
    "_isFastLaunch": false,
    "category": "Compute optimized",
    "gpuNum": 0,
    "memoryGiB": 96,
    "name": "ml.c5.12xlarge",
    "vcpuNum": 48
   },
   {
    "_defaultOrder": 26,
    "_isFastLaunch": false,
    "category": "Compute optimized",
    "gpuNum": 0,
    "memoryGiB": 144,
    "name": "ml.c5.18xlarge",
    "vcpuNum": 72
   },
   {
    "_defaultOrder": 27,
    "_isFastLaunch": false,
    "category": "Compute optimized",
    "gpuNum": 0,
    "memoryGiB": 192,
    "name": "ml.c5.24xlarge",
    "vcpuNum": 96
   },
   {
    "_defaultOrder": 28,
    "_isFastLaunch": true,
    "category": "Accelerated computing",
    "gpuNum": 1,
    "memoryGiB": 16,
    "name": "ml.g4dn.xlarge",
    "vcpuNum": 4
   },
   {
    "_defaultOrder": 29,
    "_isFastLaunch": false,
    "category": "Accelerated computing",
    "gpuNum": 1,
    "memoryGiB": 32,
    "name": "ml.g4dn.2xlarge",
    "vcpuNum": 8
   },
   {
    "_defaultOrder": 30,
    "_isFastLaunch": false,
    "category": "Accelerated computing",
    "gpuNum": 1,
    "memoryGiB": 64,
    "name": "ml.g4dn.4xlarge",
    "vcpuNum": 16
   },
   {
    "_defaultOrder": 31,
    "_isFastLaunch": false,
    "category": "Accelerated computing",
    "gpuNum": 1,
    "memoryGiB": 128,
    "name": "ml.g4dn.8xlarge",
    "vcpuNum": 32
   },
   {
    "_defaultOrder": 32,
    "_isFastLaunch": false,
    "category": "Accelerated computing",
    "gpuNum": 4,
    "memoryGiB": 192,
    "name": "ml.g4dn.12xlarge",
    "vcpuNum": 48
   },
   {
    "_defaultOrder": 33,
    "_isFastLaunch": false,
    "category": "Accelerated computing",
    "gpuNum": 1,
    "memoryGiB": 256,
    "name": "ml.g4dn.16xlarge",
    "vcpuNum": 64
   },
   {
    "_defaultOrder": 34,
    "_isFastLaunch": false,
    "category": "Accelerated computing",
    "gpuNum": 1,
    "memoryGiB": 61,
    "name": "ml.p3.2xlarge",
    "vcpuNum": 8
   },
   {
    "_defaultOrder": 35,
    "_isFastLaunch": false,
    "category": "Accelerated computing",
    "gpuNum": 4,
    "memoryGiB": 244,
    "name": "ml.p3.8xlarge",
    "vcpuNum": 32
   },
   {
    "_defaultOrder": 36,
    "_isFastLaunch": false,
    "category": "Accelerated computing",
    "gpuNum": 8,
    "memoryGiB": 488,
    "name": "ml.p3.16xlarge",
    "vcpuNum": 64
   },
   {
    "_defaultOrder": 37,
    "_isFastLaunch": false,
    "category": "Accelerated computing",
    "gpuNum": 8,
    "memoryGiB": 768,
    "name": "ml.p3dn.24xlarge",
    "vcpuNum": 96
   },
   {
    "_defaultOrder": 38,
    "_isFastLaunch": false,
    "category": "Memory Optimized",
    "gpuNum": 0,
    "memoryGiB": 16,
    "name": "ml.r5.large",
    "vcpuNum": 2
   },
   {
    "_defaultOrder": 39,
    "_isFastLaunch": false,
    "category": "Memory Optimized",
    "gpuNum": 0,
    "memoryGiB": 32,
    "name": "ml.r5.xlarge",
    "vcpuNum": 4
   },
   {
    "_defaultOrder": 40,
    "_isFastLaunch": false,
    "category": "Memory Optimized",
    "gpuNum": 0,
    "memoryGiB": 64,
    "name": "ml.r5.2xlarge",
    "vcpuNum": 8
   },
   {
    "_defaultOrder": 41,
    "_isFastLaunch": false,
    "category": "Memory Optimized",
    "gpuNum": 0,
    "memoryGiB": 128,
    "name": "ml.r5.4xlarge",
    "vcpuNum": 16
   },
   {
    "_defaultOrder": 42,
    "_isFastLaunch": false,
    "category": "Memory Optimized",
    "gpuNum": 0,
    "memoryGiB": 256,
    "name": "ml.r5.8xlarge",
    "vcpuNum": 32
   },
   {
    "_defaultOrder": 43,
    "_isFastLaunch": false,
    "category": "Memory Optimized",
    "gpuNum": 0,
    "memoryGiB": 384,
    "name": "ml.r5.12xlarge",
    "vcpuNum": 48
   },
   {
    "_defaultOrder": 44,
    "_isFastLaunch": false,
    "category": "Memory Optimized",
    "gpuNum": 0,
    "memoryGiB": 512,
    "name": "ml.r5.16xlarge",
    "vcpuNum": 64
   },
   {
    "_defaultOrder": 45,
    "_isFastLaunch": false,
    "category": "Memory Optimized",
    "gpuNum": 0,
    "memoryGiB": 768,
    "name": "ml.r5.24xlarge",
    "vcpuNum": 96
   },
   {
    "_defaultOrder": 46,
    "_isFastLaunch": false,
    "category": "Accelerated computing",
    "gpuNum": 1,
    "memoryGiB": 16,
    "name": "ml.g5.xlarge",
    "vcpuNum": 4
   },
   {
    "_defaultOrder": 47,
    "_isFastLaunch": false,
    "category": "Accelerated computing",
    "gpuNum": 1,
    "memoryGiB": 32,
    "name": "ml.g5.2xlarge",
    "vcpuNum": 8
   },
   {
    "_defaultOrder": 48,
    "_isFastLaunch": false,
    "category": "Accelerated computing",
    "gpuNum": 1,
    "memoryGiB": 64,
    "name": "ml.g5.4xlarge",
    "vcpuNum": 16
   },
   {
    "_defaultOrder": 49,
    "_isFastLaunch": false,
    "category": "Accelerated computing",
    "gpuNum": 1,
    "memoryGiB": 128,
    "name": "ml.g5.8xlarge",
    "vcpuNum": 32
   },
   {
    "_defaultOrder": 50,
    "_isFastLaunch": false,
    "category": "Accelerated computing",
    "gpuNum": 1,
    "memoryGiB": 256,
    "name": "ml.g5.16xlarge",
    "vcpuNum": 64
   },
   {
    "_defaultOrder": 51,
    "_isFastLaunch": false,
    "category": "Accelerated computing",
    "gpuNum": 4,
    "memoryGiB": 192,
    "name": "ml.g5.12xlarge",
    "vcpuNum": 48
   },
   {
    "_defaultOrder": 52,
    "_isFastLaunch": false,
    "category": "Accelerated computing",
    "gpuNum": 4,
    "memoryGiB": 384,
    "name": "ml.g5.24xlarge",
    "vcpuNum": 96
   },
   {
    "_defaultOrder": 53,
    "_isFastLaunch": false,
    "category": "Accelerated computing",
    "gpuNum": 8,
    "memoryGiB": 768,
    "name": "ml.g5.48xlarge",
    "vcpuNum": 192
   }
  ],
  "instance_type": "ml.t3.medium",
  "kernelspec": {
   "display_name": "Python 3 (Data Science)",
   "language": "python",
   "name": "python3__SAGEMAKER_INTERNAL__arn:aws:sagemaker:us-east-1:081325390199:image/datascience-1.0"
  },
  "language_info": {
   "codemirror_mode": {
    "name": "ipython",
    "version": 3
   },
   "file_extension": ".py",
   "mimetype": "text/x-python",
   "name": "python",
   "nbconvert_exporter": "python",
   "pygments_lexer": "ipython3",
   "version": "3.7.10"
  }
 },
 "nbformat": 4,
 "nbformat_minor": 5
}
